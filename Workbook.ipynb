{
 "cells": [
  {
   "cell_type": "code",
   "execution_count": 29,
   "metadata": {
    "collapsed": false
   },
   "outputs": [
    {
     "name": "stdout",
     "output_type": "stream",
     "text": [
      "Hello\n"
     ]
    }
   ],
   "source": [
    "print('Hello')"
   ]
  },
  {
   "cell_type": "code",
   "execution_count": 1,
   "metadata": {
    "collapsed": true
   },
   "outputs": [],
   "source": [
    "# Python 3.6 allows you to specify typing info\n",
    "x: int = 1"
   ]
  },
  {
   "cell_type": "code",
   "execution_count": 2,
   "metadata": {
    "collapsed": true
   },
   "outputs": [],
   "source": [
    "# ...but ignores it. Use mypy to check typing.\n",
    "x = 3.5"
   ]
  },
  {
   "cell_type": "code",
   "execution_count": 40,
   "metadata": {
    "collapsed": false
   },
   "outputs": [
    {
     "name": "stdout",
     "output_type": "stream",
     "text": [
      "Hey, x is        1!\n"
     ]
    }
   ],
   "source": [
    "print('Hey, %s is %8d!' % ('x', 1))"
   ]
  },
  {
   "cell_type": "code",
   "execution_count": 39,
   "metadata": {
    "collapsed": false
   },
   "outputs": [
    {
     "name": "stdout",
     "output_type": "stream",
     "text": [
      "Hey, x is        1!\n"
     ]
    }
   ],
   "source": [
    "print('Hey, {} is {:8}!'.format('x', 1))"
   ]
  },
  {
   "cell_type": "code",
   "execution_count": 41,
   "metadata": {
    "collapsed": false
   },
   "outputs": [
    {
     "name": "stdout",
     "output_type": "stream",
     "text": [
      "Hey, x is x and 3 is y\n"
     ]
    }
   ],
   "source": [
    "print('Hey, {0} is {0} and {2} is {1}'.format('x', 'y', 3))"
   ]
  },
  {
   "cell_type": "code",
   "execution_count": 42,
   "metadata": {
    "collapsed": false
   },
   "outputs": [
    {
     "name": "stdout",
     "output_type": "stream",
     "text": [
      "Hey, 123,456 is 123_456 and   123456 is 123456\n"
     ]
    }
   ],
   "source": [
    "print('Hey, {0:,} is {0:_} and {0:8d} is {0}'.format(123456))"
   ]
  },
  {
   "cell_type": "code",
   "execution_count": 3,
   "metadata": {
    "collapsed": true
   },
   "outputs": [],
   "source": [
    "n = 123_456"
   ]
  },
  {
   "cell_type": "code",
   "execution_count": 43,
   "metadata": {
    "collapsed": false
   },
   "outputs": [
    {
     "name": "stdout",
     "output_type": "stream",
     "text": [
      "1/2/3\n"
     ]
    }
   ],
   "source": [
    "print(1, 2, 3, sep='/')"
   ]
  },
  {
   "cell_type": "code",
   "execution_count": 44,
   "metadata": {
    "collapsed": false
   },
   "outputs": [
    {
     "name": "stdout",
     "output_type": "stream",
     "text": [
      "1 2 3 4 5 6\n"
     ]
    }
   ],
   "source": [
    "print(1, 2, 3, end=' ')\n",
    "print(4, 5, 6)"
   ]
  },
  {
   "cell_type": "code",
   "execution_count": 45,
   "metadata": {
    "collapsed": false
   },
   "outputs": [
    {
     "name": "stdout",
     "output_type": "stream",
     "text": [
      "hi\n"
     ]
    }
   ],
   "source": [
    "%%python\n",
    "# this cell will be run in Python 2\n",
    "print('hi')"
   ]
  },
  {
   "cell_type": "code",
   "execution_count": 46,
   "metadata": {
    "collapsed": false
   },
   "outputs": [
    {
     "name": "stdout",
     "output_type": "stream",
     "text": [
      "(1, 2, 3)\n"
     ]
    }
   ],
   "source": [
    "%%python\n",
    "# this cell will be run in Python 2\n",
    "print(1, 2, 3)"
   ]
  },
  {
   "cell_type": "code",
   "execution_count": 47,
   "metadata": {
    "collapsed": false
   },
   "outputs": [
    {
     "name": "stdout",
     "output_type": "stream",
     "text": [
      "1/2/3blah\n"
     ]
    }
   ],
   "source": [
    "%%python\n",
    "# this cell will be run in Python 2\n",
    "from __future__ import print_function\n",
    "print(1, 2, 3, sep='/', end='')\n",
    "print('blah')"
   ]
  },
  {
   "cell_type": "code",
   "execution_count": 48,
   "metadata": {
    "collapsed": false
   },
   "outputs": [
    {
     "name": "stdout",
     "output_type": "stream",
     "text": [
      "1\n"
     ]
    }
   ],
   "source": [
    "%%python\n",
    "print(3 / 2)"
   ]
  },
  {
   "cell_type": "code",
   "execution_count": 49,
   "metadata": {
    "collapsed": false
   },
   "outputs": [
    {
     "data": {
      "text/plain": [
       "1.5"
      ]
     },
     "execution_count": 49,
     "metadata": {},
     "output_type": "execute_result"
    }
   ],
   "source": [
    "3 / 2"
   ]
  },
  {
   "cell_type": "code",
   "execution_count": 50,
   "metadata": {
    "collapsed": false
   },
   "outputs": [
    {
     "name": "stdout",
     "output_type": "stream",
     "text": [
      "1.5\n"
     ]
    }
   ],
   "source": [
    "%%python\n",
    "from __future__ import division\n",
    "print(3 / 2)"
   ]
  },
  {
   "cell_type": "code",
   "execution_count": 4,
   "metadata": {
    "collapsed": true
   },
   "outputs": [],
   "source": [
    "x = 1\n",
    "y = 1"
   ]
  },
  {
   "cell_type": "code",
   "execution_count": 53,
   "metadata": {
    "collapsed": false
   },
   "outputs": [
    {
     "data": {
      "text/plain": [
       "(4297623936, 4297623936, True, True)"
      ]
     },
     "execution_count": 53,
     "metadata": {},
     "output_type": "execute_result"
    }
   ],
   "source": [
    "id(x), id(y), x == y, x is y"
   ]
  },
  {
   "cell_type": "code",
   "execution_count": 5,
   "metadata": {
    "collapsed": true
   },
   "outputs": [],
   "source": [
    "x = 1234\n",
    "y = 1234"
   ]
  },
  {
   "cell_type": "code",
   "execution_count": 55,
   "metadata": {
    "collapsed": false
   },
   "outputs": [
    {
     "data": {
      "text/plain": [
       "(4443758960, 4443759024, True, False)"
      ]
     },
     "execution_count": 55,
     "metadata": {},
     "output_type": "execute_result"
    }
   ],
   "source": [
    "id(x), id(y), x == y, x is y"
   ]
  },
  {
   "cell_type": "code",
   "execution_count": 6,
   "metadata": {
    "collapsed": true
   },
   "outputs": [],
   "source": [
    "n = None"
   ]
  },
  {
   "cell_type": "code",
   "execution_count": 57,
   "metadata": {
    "collapsed": false
   },
   "outputs": [
    {
     "name": "stdout",
     "output_type": "stream",
     "text": [
      "it is None\n"
     ]
    }
   ],
   "source": [
    "if n is None:\n",
    "    print('it is None')"
   ]
  },
  {
   "cell_type": "code",
   "execution_count": 58,
   "metadata": {
    "collapsed": false
   },
   "outputs": [
    {
     "name": "stdout",
     "output_type": "stream",
     "text": [
      "__name__ = mymodule\n"
     ]
    }
   ],
   "source": [
    "from mymodule import *"
   ]
  },
  {
   "cell_type": "code",
   "execution_count": 7,
   "metadata": {
    "collapsed": false
   },
   "outputs": [
    {
     "data": {
      "text/plain": [
       "['In',\n",
       " 'Out',\n",
       " '_',\n",
       " '__',\n",
       " '___',\n",
       " '__annotations__',\n",
       " '__builtin__',\n",
       " '__builtins__',\n",
       " '__doc__',\n",
       " '__loader__',\n",
       " '__name__',\n",
       " '__package__',\n",
       " '__spec__',\n",
       " '_dh',\n",
       " '_i',\n",
       " '_i1',\n",
       " '_i2',\n",
       " '_i3',\n",
       " '_i4',\n",
       " '_i5',\n",
       " '_i6',\n",
       " '_i7',\n",
       " '_ih',\n",
       " '_ii',\n",
       " '_iii',\n",
       " '_oh',\n",
       " '_sh',\n",
       " 'exit',\n",
       " 'get_ipython',\n",
       " 'n',\n",
       " 'quit',\n",
       " 'x',\n",
       " 'y']"
      ]
     },
     "execution_count": 7,
     "metadata": {},
     "output_type": "execute_result"
    }
   ],
   "source": [
    "dir()"
   ]
  },
  {
   "cell_type": "code",
   "execution_count": 8,
   "metadata": {
    "collapsed": true
   },
   "outputs": [],
   "source": [
    "x = 1\n",
    "y = 5"
   ]
  },
  {
   "cell_type": "code",
   "execution_count": 9,
   "metadata": {
    "collapsed": true
   },
   "outputs": [],
   "source": [
    "# swap x and y using tuples\n",
    "x, y = y, x"
   ]
  },
  {
   "cell_type": "code",
   "execution_count": 10,
   "metadata": {
    "collapsed": false
   },
   "outputs": [
    {
     "data": {
      "text/plain": [
       "(5, 1)"
      ]
     },
     "execution_count": 10,
     "metadata": {},
     "output_type": "execute_result"
    }
   ],
   "source": [
    "x, y"
   ]
  },
  {
   "cell_type": "code",
   "execution_count": 12,
   "metadata": {
    "collapsed": true
   },
   "outputs": [],
   "source": [
    "# a function which returns \"multiple values\"\n",
    "q, r = divmod(9, 7)"
   ]
  },
  {
   "cell_type": "code",
   "execution_count": 13,
   "metadata": {
    "collapsed": false
   },
   "outputs": [
    {
     "data": {
      "text/plain": [
       "1"
      ]
     },
     "execution_count": 13,
     "metadata": {},
     "output_type": "execute_result"
    }
   ],
   "source": [
    "q"
   ]
  },
  {
   "cell_type": "code",
   "execution_count": 14,
   "metadata": {
    "collapsed": false
   },
   "outputs": [
    {
     "data": {
      "text/plain": [
       "2"
      ]
     },
     "execution_count": 14,
     "metadata": {},
     "output_type": "execute_result"
    }
   ],
   "source": [
    "r"
   ]
  },
  {
   "cell_type": "code",
   "execution_count": 15,
   "metadata": {
    "collapsed": true
   },
   "outputs": [],
   "source": [
    "# new to Python 3+\n",
    "x, y, z, *rest = 1, 2, 3, 4, 5, 6, 7"
   ]
  },
  {
   "cell_type": "code",
   "execution_count": 16,
   "metadata": {
    "collapsed": false
   },
   "outputs": [
    {
     "data": {
      "text/plain": [
       "[4, 5, 6, 7]"
      ]
     },
     "execution_count": 16,
     "metadata": {},
     "output_type": "execute_result"
    }
   ],
   "source": [
    "rest"
   ]
  },
  {
   "cell_type": "code",
   "execution_count": 17,
   "metadata": {
    "collapsed": false
   },
   "outputs": [
    {
     "name": "stderr",
     "output_type": "stream",
     "text": [
      "  File \"<stdin>\", line 1\n",
      "    x, y, z, *rest = 1, 2, 3, 4, 5, 6, 7\n",
      "             ^\n",
      "SyntaxError: invalid syntax\n"
     ]
    }
   ],
   "source": [
    "%%python\n",
    "x, y, z, *rest = 1, 2, 3, 4, 5, 6, 7"
   ]
  },
  {
   "cell_type": "code",
   "execution_count": 18,
   "metadata": {
    "collapsed": false
   },
   "outputs": [
    {
     "name": "stdout",
     "output_type": "stream",
     "text": [
      "{'tall': 12, 'venti': 20, 'grande': 16}\n",
      "('keys are', ['tall', 'venti', 'grande'])\n",
      "('values are', [12, 20, 16])\n",
      "('items are', [('tall', 12), ('venti', 20), ('grande', 16)])\n",
      "['tall', 'venti', 'grande']\n"
     ]
    }
   ],
   "source": [
    "%%python\n",
    "d = {}\n",
    "d['tall'] = 12\n",
    "d['grande'] = 16\n",
    "d['venti'] = 20\n",
    "print(d)\n",
    "# keys() function is a view, which is dynamic\n",
    "keys = d.keys()\n",
    "# a snapshot of the keys() gives us a static list\n",
    "print('keys are', d.keys())\n",
    "print('values are', d.values())\n",
    "print('items are', d.items())\n",
    "d['trenta'] = 31\n",
    "print(keys)"
   ]
  },
  {
   "cell_type": "code",
   "execution_count": 19,
   "metadata": {
    "collapsed": false
   },
   "outputs": [
    {
     "name": "stdout",
     "output_type": "stream",
     "text": [
      "{'tall': 12, 'grande': 16, 'venti': 20}\n",
      "keys are dict_keys(['tall', 'grande', 'venti'])\n",
      "values are dict_values([12, 16, 20])\n",
      "items are dict_items([('tall', 12), ('grande', 16), ('venti', 20)])\n",
      "dict_keys(['tall', 'grande', 'venti', 'trenta'])\n"
     ]
    }
   ],
   "source": [
    "d = {}\n",
    "d['tall'] = 12\n",
    "d['grande'] = 16\n",
    "d['venti'] = 20\n",
    "print(d)\n",
    "# keys() function is a view, which is dynamic\n",
    "keys = d.keys()\n",
    "# a snapshot of the keys() gives us a static list\n",
    "print('keys are', d.keys())\n",
    "print('values are', d.values())\n",
    "print('items are', d.items())\n",
    "d['trenta'] = 31\n",
    "print(keys)"
   ]
  },
  {
   "cell_type": "code",
   "execution_count": 20,
   "metadata": {
    "collapsed": false
   },
   "outputs": [
    {
     "name": "stdout",
     "output_type": "stream",
     "text": [
      "{'tall': 12, 'venti': 20, 'grande': 16}\n",
      "('keys are', ['tall', 'venti', 'grande'])\n",
      "('values are', [12, 20, 16])\n",
      "('items are', [('tall', 12), ('venti', 20), ('grande', 16)])\n",
      "['tall', 'venti', 'grande']\n"
     ]
    }
   ],
   "source": [
    "%%python\n",
    "d = {}\n",
    "d['tall'] = 12\n",
    "d['grande'] = 16\n",
    "d['venti'] = 20\n",
    "print(d)\n",
    "# a snapshot of the keys() gives us a static list\n",
    "keys = list(d.keys())\n",
    "print('keys are', d.keys())\n",
    "print('values are', d.values())\n",
    "print('items are', d.items())\n",
    "d['trenta'] = 31\n",
    "print(keys)"
   ]
  },
  {
   "cell_type": "code",
   "execution_count": 21,
   "metadata": {
    "collapsed": false
   },
   "outputs": [
    {
     "data": {
      "text/plain": [
       "4302545112"
      ]
     },
     "execution_count": 21,
     "metadata": {},
     "output_type": "execute_result"
    }
   ],
   "source": [
    "id(sorted)"
   ]
  },
  {
   "cell_type": "code",
   "execution_count": 22,
   "metadata": {
    "collapsed": true
   },
   "outputs": [],
   "source": [
    "list1 = [1, 2, 3]"
   ]
  },
  {
   "cell_type": "code",
   "execution_count": 23,
   "metadata": {
    "collapsed": true
   },
   "outputs": [],
   "source": [
    "# we use methods to modify objects in place\n",
    "list1.append(4)"
   ]
  },
  {
   "cell_type": "code",
   "execution_count": 24,
   "metadata": {
    "collapsed": false
   },
   "outputs": [
    {
     "data": {
      "text/plain": [
       "[1, 2, 3, 4]"
      ]
     },
     "execution_count": 24,
     "metadata": {},
     "output_type": "execute_result"
    }
   ],
   "source": [
    "list1"
   ]
  },
  {
   "cell_type": "code",
   "execution_count": 25,
   "metadata": {
    "collapsed": true
   },
   "outputs": [],
   "source": [
    "class Person(object):\n",
    "    pass"
   ]
  },
  {
   "cell_type": "code",
   "execution_count": 26,
   "metadata": {
    "collapsed": true
   },
   "outputs": [],
   "source": [
    "p = Person()"
   ]
  },
  {
   "cell_type": "code",
   "execution_count": 27,
   "metadata": {
    "collapsed": false
   },
   "outputs": [
    {
     "data": {
      "text/plain": [
       "__main__.Person"
      ]
     },
     "execution_count": 27,
     "metadata": {},
     "output_type": "execute_result"
    }
   ],
   "source": [
    "type(p)"
   ]
  },
  {
   "cell_type": "code",
   "execution_count": 28,
   "metadata": {
    "collapsed": false
   },
   "outputs": [
    {
     "data": {
      "text/plain": [
       "int"
      ]
     },
     "execution_count": 28,
     "metadata": {},
     "output_type": "execute_result"
    }
   ],
   "source": [
    "type(x)"
   ]
  },
  {
   "cell_type": "code",
   "execution_count": 29,
   "metadata": {
    "collapsed": true
   },
   "outputs": [],
   "source": [
    "class Person(object):\n",
    "    def __init__(self, name):\n",
    "        self.name = name"
   ]
  },
  {
   "cell_type": "code",
   "execution_count": 30,
   "metadata": {
    "collapsed": false
   },
   "outputs": [],
   "source": [
    "p1 = Person('Marc Benioff')"
   ]
  },
  {
   "cell_type": "code",
   "execution_count": 31,
   "metadata": {
    "collapsed": false
   },
   "outputs": [
    {
     "data": {
      "text/plain": [
       "__main__.Person"
      ]
     },
     "execution_count": 31,
     "metadata": {},
     "output_type": "execute_result"
    }
   ],
   "source": [
    "type(p1)"
   ]
  },
  {
   "cell_type": "code",
   "execution_count": 32,
   "metadata": {
    "collapsed": false
   },
   "outputs": [
    {
     "data": {
      "text/plain": [
       "'Marc Benioff'"
      ]
     },
     "execution_count": 32,
     "metadata": {},
     "output_type": "execute_result"
    }
   ],
   "source": [
    "p1.name"
   ]
  },
  {
   "cell_type": "code",
   "execution_count": 33,
   "metadata": {
    "collapsed": true
   },
   "outputs": [],
   "source": [
    "p2 = Person('Narendra Modi')"
   ]
  },
  {
   "cell_type": "code",
   "execution_count": 34,
   "metadata": {
    "collapsed": false
   },
   "outputs": [
    {
     "data": {
      "text/plain": [
       "<__main__.Person at 0x1047b2278>"
      ]
     },
     "execution_count": 34,
     "metadata": {},
     "output_type": "execute_result"
    }
   ],
   "source": [
    "p2"
   ]
  },
  {
   "cell_type": "code",
   "execution_count": 35,
   "metadata": {
    "collapsed": false
   },
   "outputs": [
    {
     "data": {
      "text/plain": [
       "'Narendra Modi'"
      ]
     },
     "execution_count": 35,
     "metadata": {},
     "output_type": "execute_result"
    }
   ],
   "source": [
    "p2.name"
   ]
  },
  {
   "cell_type": "code",
   "execution_count": 36,
   "metadata": {
    "collapsed": true
   },
   "outputs": [],
   "source": [
    "p1.name = 'Barack Obama'"
   ]
  },
  {
   "cell_type": "code",
   "execution_count": 37,
   "metadata": {
    "collapsed": false
   },
   "outputs": [
    {
     "data": {
      "text/plain": [
       "'Barack Obama'"
      ]
     },
     "execution_count": 37,
     "metadata": {},
     "output_type": "execute_result"
    }
   ],
   "source": [
    "p1.name"
   ]
  },
  {
   "cell_type": "code",
   "execution_count": 38,
   "metadata": {
    "collapsed": true
   },
   "outputs": [],
   "source": [
    "del p1"
   ]
  },
  {
   "cell_type": "code",
   "execution_count": 39,
   "metadata": {
    "collapsed": true
   },
   "outputs": [],
   "source": [
    "from bank import BankAccount"
   ]
  },
  {
   "cell_type": "code",
   "execution_count": 40,
   "metadata": {
    "collapsed": true
   },
   "outputs": [],
   "source": [
    "acc1 = BankAccount('Ram Nath Kovind', 100)"
   ]
  },
  {
   "cell_type": "code",
   "execution_count": 41,
   "metadata": {
    "collapsed": false
   },
   "outputs": [
    {
     "data": {
      "text/plain": [
       "['__class__',\n",
       " '__delattr__',\n",
       " '__dict__',\n",
       " '__dir__',\n",
       " '__doc__',\n",
       " '__eq__',\n",
       " '__format__',\n",
       " '__ge__',\n",
       " '__getattribute__',\n",
       " '__gt__',\n",
       " '__hash__',\n",
       " '__init__',\n",
       " '__init_subclass__',\n",
       " '__le__',\n",
       " '__lt__',\n",
       " '__module__',\n",
       " '__ne__',\n",
       " '__new__',\n",
       " '__reduce__',\n",
       " '__reduce_ex__',\n",
       " '__repr__',\n",
       " '__setattr__',\n",
       " '__sizeof__',\n",
       " '__str__',\n",
       " '__subclasshook__',\n",
       " '__weakref__',\n",
       " 'balance',\n",
       " 'deposit',\n",
       " 'name',\n",
       " 'withdraw']"
      ]
     },
     "execution_count": 41,
     "metadata": {},
     "output_type": "execute_result"
    }
   ],
   "source": [
    "dir(acc1)"
   ]
  },
  {
   "cell_type": "code",
   "execution_count": 42,
   "metadata": {
    "collapsed": false
   },
   "outputs": [
    {
     "data": {
      "text/plain": [
       "'4'"
      ]
     },
     "execution_count": 42,
     "metadata": {},
     "output_type": "execute_result"
    }
   ],
   "source": [
    "str(4)"
   ]
  },
  {
   "cell_type": "code",
   "execution_count": 43,
   "metadata": {
    "collapsed": true
   },
   "outputs": [],
   "source": [
    "x = 4"
   ]
  },
  {
   "cell_type": "code",
   "execution_count": 44,
   "metadata": {
    "collapsed": false
   },
   "outputs": [
    {
     "data": {
      "text/plain": [
       "'4'"
      ]
     },
     "execution_count": 44,
     "metadata": {},
     "output_type": "execute_result"
    }
   ],
   "source": [
    "str(x)"
   ]
  },
  {
   "cell_type": "code",
   "execution_count": 45,
   "metadata": {
    "collapsed": false
   },
   "outputs": [
    {
     "data": {
      "text/plain": [
       "'4'"
      ]
     },
     "execution_count": 45,
     "metadata": {},
     "output_type": "execute_result"
    }
   ],
   "source": [
    "x.__str__()"
   ]
  },
  {
   "cell_type": "code",
   "execution_count": 46,
   "metadata": {
    "collapsed": true
   },
   "outputs": [],
   "source": [
    "mylist = [1, 2, 3]"
   ]
  },
  {
   "cell_type": "code",
   "execution_count": 47,
   "metadata": {
    "collapsed": false
   },
   "outputs": [
    {
     "data": {
      "text/plain": [
       "'[1, 2, 3]'"
      ]
     },
     "execution_count": 47,
     "metadata": {},
     "output_type": "execute_result"
    }
   ],
   "source": [
    "str(mylist)"
   ]
  },
  {
   "cell_type": "code",
   "execution_count": 48,
   "metadata": {
    "collapsed": false
   },
   "outputs": [
    {
     "data": {
      "text/plain": [
       "'[1, 2, 3]'"
      ]
     },
     "execution_count": 48,
     "metadata": {},
     "output_type": "execute_result"
    }
   ],
   "source": [
    "mylist.__str__()"
   ]
  },
  {
   "cell_type": "code",
   "execution_count": 49,
   "metadata": {
    "collapsed": false
   },
   "outputs": [
    {
     "name": "stdout",
     "output_type": "stream",
     "text": [
      "[1, 2, 3]\n"
     ]
    }
   ],
   "source": [
    "print(mylist)"
   ]
  },
  {
   "cell_type": "code",
   "execution_count": 50,
   "metadata": {
    "collapsed": false
   },
   "outputs": [
    {
     "data": {
      "text/plain": [
       "'4'"
      ]
     },
     "execution_count": 50,
     "metadata": {},
     "output_type": "execute_result"
    }
   ],
   "source": [
    "repr(4)"
   ]
  },
  {
   "cell_type": "code",
   "execution_count": 51,
   "metadata": {
    "collapsed": false
   },
   "outputs": [
    {
     "data": {
      "text/plain": [
       "\"'string'\""
      ]
     },
     "execution_count": 51,
     "metadata": {},
     "output_type": "execute_result"
    }
   ],
   "source": [
    "repr('string')"
   ]
  },
  {
   "cell_type": "code",
   "execution_count": 52,
   "metadata": {
    "collapsed": false
   },
   "outputs": [
    {
     "data": {
      "text/plain": [
       "'4'"
      ]
     },
     "execution_count": 52,
     "metadata": {},
     "output_type": "execute_result"
    }
   ],
   "source": [
    "repr(x)"
   ]
  },
  {
   "cell_type": "code",
   "execution_count": 53,
   "metadata": {
    "collapsed": false
   },
   "outputs": [
    {
     "data": {
      "text/plain": [
       "'4'"
      ]
     },
     "execution_count": 53,
     "metadata": {},
     "output_type": "execute_result"
    }
   ],
   "source": [
    "x.__repr__()"
   ]
  },
  {
   "cell_type": "code",
   "execution_count": 54,
   "metadata": {
    "collapsed": true
   },
   "outputs": [],
   "source": [
    "import datetime"
   ]
  },
  {
   "cell_type": "code",
   "execution_count": 55,
   "metadata": {
    "collapsed": true
   },
   "outputs": [],
   "source": [
    "mydate = datetime.datetime(2017, 11, 15, 12, 19, 23, 166556)"
   ]
  },
  {
   "cell_type": "code",
   "execution_count": 56,
   "metadata": {
    "collapsed": false
   },
   "outputs": [
    {
     "name": "stdout",
     "output_type": "stream",
     "text": [
      "2017-11-15 12:19:23.166556\n"
     ]
    }
   ],
   "source": [
    "print(mydate)"
   ]
  },
  {
   "cell_type": "code",
   "execution_count": 57,
   "metadata": {
    "collapsed": false
   },
   "outputs": [],
   "source": [
    "somestring = repr(mydate)"
   ]
  },
  {
   "cell_type": "code",
   "execution_count": 58,
   "metadata": {
    "collapsed": false
   },
   "outputs": [
    {
     "data": {
      "text/plain": [
       "'datetime.datetime(2017, 11, 15, 12, 19, 23, 166556)'"
      ]
     },
     "execution_count": 58,
     "metadata": {},
     "output_type": "execute_result"
    }
   ],
   "source": [
    "somestring"
   ]
  },
  {
   "cell_type": "code",
   "execution_count": 59,
   "metadata": {
    "collapsed": false
   },
   "outputs": [
    {
     "name": "stdout",
     "output_type": "stream",
     "text": [
      "2017-11-15 12:19:23.166556\n"
     ]
    }
   ],
   "source": [
    "newdate = eval(somestring)\n",
    "print(newdate)"
   ]
  },
  {
   "cell_type": "code",
   "execution_count": 60,
   "metadata": {
    "collapsed": false
   },
   "outputs": [],
   "source": [
    "z = 1\n",
    "z = eval('z + 1')"
   ]
  },
  {
   "cell_type": "code",
   "execution_count": 61,
   "metadata": {
    "collapsed": false
   },
   "outputs": [
    {
     "data": {
      "text/plain": [
       "2"
      ]
     },
     "execution_count": 61,
     "metadata": {},
     "output_type": "execute_result"
    }
   ],
   "source": [
    "z"
   ]
  },
  {
   "cell_type": "code",
   "execution_count": 62,
   "metadata": {
    "collapsed": false
   },
   "outputs": [],
   "source": [
    "from bank2 import BankAccount"
   ]
  },
  {
   "cell_type": "code",
   "execution_count": 63,
   "metadata": {
    "collapsed": true
   },
   "outputs": [],
   "source": [
    "a = BankAccount('Dave', 100)"
   ]
  },
  {
   "cell_type": "code",
   "execution_count": 64,
   "metadata": {
    "collapsed": false
   },
   "outputs": [
    {
     "data": {
      "text/plain": [
       "BankAccount('Dave', 100)"
      ]
     },
     "execution_count": 64,
     "metadata": {},
     "output_type": "execute_result"
    }
   ],
   "source": [
    "a"
   ]
  },
  {
   "cell_type": "code",
   "execution_count": 65,
   "metadata": {
    "collapsed": false
   },
   "outputs": [
    {
     "name": "stdout",
     "output_type": "stream",
     "text": [
      "in the __str__() function\n",
      "Dave 100\n"
     ]
    }
   ],
   "source": [
    "print(a)"
   ]
  },
  {
   "cell_type": "code",
   "execution_count": 66,
   "metadata": {
    "collapsed": false
   },
   "outputs": [
    {
     "data": {
      "text/plain": [
       "5"
      ]
     },
     "execution_count": 66,
     "metadata": {},
     "output_type": "execute_result"
    }
   ],
   "source": [
    "len('hello')"
   ]
  },
  {
   "cell_type": "code",
   "execution_count": 67,
   "metadata": {
    "collapsed": false
   },
   "outputs": [
    {
     "data": {
      "text/plain": [
       "5"
      ]
     },
     "execution_count": 67,
     "metadata": {},
     "output_type": "execute_result"
    }
   ],
   "source": [
    "'hello'.__len__()"
   ]
  },
  {
   "cell_type": "code",
   "execution_count": 68,
   "metadata": {
    "collapsed": true
   },
   "outputs": [],
   "source": [
    "x = 1"
   ]
  },
  {
   "cell_type": "code",
   "execution_count": 69,
   "metadata": {
    "collapsed": false
   },
   "outputs": [
    {
     "ename": "AttributeError",
     "evalue": "'int' object has no attribute '__len__'",
     "output_type": "error",
     "traceback": [
      "\u001b[0;31m-------------------------------------------------------------------------\u001b[0m",
      "\u001b[0;31mAttributeError\u001b[0m                          Traceback (most recent call last)",
      "\u001b[0;32m<ipython-input-69-af48dae61ddf>\u001b[0m in \u001b[0;36m<module>\u001b[0;34m()\u001b[0m\n\u001b[0;32m----> 1\u001b[0;31m \u001b[0mx\u001b[0m\u001b[0;34m.\u001b[0m\u001b[0m__len__\u001b[0m\u001b[0;34m(\u001b[0m\u001b[0;34m)\u001b[0m\u001b[0;34m\u001b[0m\u001b[0m\n\u001b[0m",
      "\u001b[0;31mAttributeError\u001b[0m: 'int' object has no attribute '__len__'"
     ]
    }
   ],
   "source": [
    "x.__len__()"
   ]
  },
  {
   "cell_type": "code",
   "execution_count": 70,
   "metadata": {
    "collapsed": false
   },
   "outputs": [
    {
     "ename": "TypeError",
     "evalue": "object of type 'int' has no len()",
     "output_type": "error",
     "traceback": [
      "\u001b[0;31m-------------------------------------------------------------------------\u001b[0m",
      "\u001b[0;31mTypeError\u001b[0m                               Traceback (most recent call last)",
      "\u001b[0;32m<ipython-input-70-e62f33f06233>\u001b[0m in \u001b[0;36m<module>\u001b[0;34m()\u001b[0m\n\u001b[0;32m----> 1\u001b[0;31m \u001b[0mlen\u001b[0m\u001b[0;34m(\u001b[0m\u001b[0mx\u001b[0m\u001b[0;34m)\u001b[0m\u001b[0;34m\u001b[0m\u001b[0m\n\u001b[0m",
      "\u001b[0;31mTypeError\u001b[0m: object of type 'int' has no len()"
     ]
    }
   ],
   "source": [
    "len(x)"
   ]
  },
  {
   "cell_type": "code",
   "execution_count": 71,
   "metadata": {
    "collapsed": true
   },
   "outputs": [],
   "source": [
    "from bank import BankAccount"
   ]
  },
  {
   "cell_type": "code",
   "execution_count": 72,
   "metadata": {
    "collapsed": true
   },
   "outputs": [],
   "source": [
    "a1 = BankAccount('Dave', 100)\n",
    "a2 = BankAccount('Dave', 100)"
   ]
  },
  {
   "cell_type": "code",
   "execution_count": 73,
   "metadata": {
    "collapsed": false
   },
   "outputs": [
    {
     "data": {
      "text/plain": [
       "True"
      ]
     },
     "execution_count": 73,
     "metadata": {},
     "output_type": "execute_result"
    }
   ],
   "source": [
    "a1 == a1"
   ]
  },
  {
   "cell_type": "code",
   "execution_count": 74,
   "metadata": {
    "collapsed": false
   },
   "outputs": [
    {
     "ename": "TypeError",
     "evalue": "unsupported operand type(s) for *: 'BankAccount' and 'int'",
     "output_type": "error",
     "traceback": [
      "\u001b[0;31m-------------------------------------------------------------------------\u001b[0m",
      "\u001b[0;31mTypeError\u001b[0m                               Traceback (most recent call last)",
      "\u001b[0;32m<ipython-input-74-9b3adfb6a4e6>\u001b[0m in \u001b[0;36m<module>\u001b[0;34m()\u001b[0m\n\u001b[0;32m----> 1\u001b[0;31m \u001b[0ma1\u001b[0m \u001b[0;34m*\u001b[0m \u001b[0;36m2\u001b[0m\u001b[0;34m\u001b[0m\u001b[0m\n\u001b[0m",
      "\u001b[0;31mTypeError\u001b[0m: unsupported operand type(s) for *: 'BankAccount' and 'int'"
     ]
    }
   ],
   "source": [
    "a1 * 2"
   ]
  },
  {
   "cell_type": "code",
   "execution_count": 75,
   "metadata": {
    "collapsed": true
   },
   "outputs": [],
   "source": [
    "from calculator import Calc"
   ]
  },
  {
   "cell_type": "code",
   "execution_count": 76,
   "metadata": {
    "collapsed": true
   },
   "outputs": [],
   "source": [
    "c = Calc()"
   ]
  },
  {
   "cell_type": "code",
   "execution_count": 77,
   "metadata": {
    "collapsed": false
   },
   "outputs": [
    {
     "data": {
      "text/plain": [
       "7"
      ]
     },
     "execution_count": 77,
     "metadata": {},
     "output_type": "execute_result"
    }
   ],
   "source": [
    "c.add(2, 5)"
   ]
  },
  {
   "cell_type": "code",
   "execution_count": 78,
   "metadata": {
    "collapsed": false
   },
   "outputs": [
    {
     "name": "stdout",
     "output_type": "stream",
     "text": [
      "2 + 5 = 7\n"
     ]
    }
   ],
   "source": [
    "print(c)"
   ]
  },
  {
   "cell_type": "code",
   "execution_count": 79,
   "metadata": {
    "collapsed": false
   },
   "outputs": [
    {
     "data": {
      "text/plain": [
       "10"
      ]
     },
     "execution_count": 79,
     "metadata": {},
     "output_type": "execute_result"
    }
   ],
   "source": [
    "c.add(3)"
   ]
  },
  {
   "cell_type": "code",
   "execution_count": 80,
   "metadata": {
    "collapsed": false
   },
   "outputs": [
    {
     "name": "stdout",
     "output_type": "stream",
     "text": [
      "2 + 5 = 7\n",
      "7 + 3 = 10\n"
     ]
    }
   ],
   "source": [
    "print(c)"
   ]
  },
  {
   "cell_type": "code",
   "execution_count": 81,
   "metadata": {
    "collapsed": false
   },
   "outputs": [
    {
     "name": "stdout",
     "output_type": "stream",
     "text": [
      "class BankAccount():\r\n",
      "    def __init__(self, name, initial_balance):\r\n",
      "        self.name = name\r\n",
      "        self.balance = initial_balance\r\n",
      "\r\n",
      "    def deposit(self, amount):\r\n",
      "        if amount > 0:\r\n",
      "            self.balance += amount\r\n",
      "            return self.balance\r\n",
      "        else:\r\n",
      "            print(\"can't deposit nonpositive amount!\")\r\n",
      "\r\n",
      "    def withdraw(self, amount):\r\n",
      "        if amount > 0:\r\n",
      "            if amount <= self.balance:\r\n",
      "                self.balance -= amount\r\n",
      "                return self.balance\r\n",
      "            else:\r\n",
      "                print(\"can't withdraw\", amount, \"or you would be overdrawn!\")\r\n",
      "        else:\r\n",
      "            print(\"can't withdraw nonpositive amount!\")\r\n",
      "\r\n"
     ]
    }
   ],
   "source": [
    "!cat bank.py"
   ]
  },
  {
   "cell_type": "code",
   "execution_count": 82,
   "metadata": {
    "collapsed": false
   },
   "outputs": [],
   "source": [
    "class BankAccount(object):\n",
    "    def __init__(self, name, initial_balance):\n",
    "        self.name = name\n",
    "        self.balance = initial_balance\n",
    "\n",
    "    def __str__(self):\n",
    "        return self.name + ' Rs.' + str(self.balance)\n",
    "    \n",
    "    def __eq__(self, other):\n",
    "        # other is another bank account\n",
    "        return self.balance == other.balance\n",
    "        # or\n",
    "        return self.balance == other.balance and self.name == other.name\n",
    "        \n",
    "    def __mul__(self, other):\n",
    "        # other is an integer\n",
    "        return BankAccount(self.name + '*', self.balance * other)\n",
    "    \n",
    "    def deposit(self, amount):\n",
    "        if amount > 0:\n",
    "            self.balance += amount\n",
    "            return self.balance\n",
    "        else:\n",
    "            print(\"can't deposit nonpositive amount!\")\n",
    "\n",
    "    def withdraw(self, amount):\n",
    "        if amount > 0:\n",
    "            if amount <= self.balance:\n",
    "                self.balance -= amount\n",
    "                return self.balance\n",
    "            else:\n",
    "                print(\"can't withdraw\", amount, \"or you would be overdrawn!\")\n",
    "        else:\n",
    "            print(\"can't withdraw nonpositive amount!\")"
   ]
  },
  {
   "cell_type": "code",
   "execution_count": 83,
   "metadata": {
    "collapsed": true
   },
   "outputs": [],
   "source": [
    "a1 = BankAccount('Dave', 100)\n",
    "a2 = BankAccount('Balaji', 100)"
   ]
  },
  {
   "cell_type": "code",
   "execution_count": 84,
   "metadata": {
    "collapsed": false
   },
   "outputs": [
    {
     "name": "stdout",
     "output_type": "stream",
     "text": [
      "Dave Rs.100\n"
     ]
    }
   ],
   "source": [
    "print(a1)"
   ]
  },
  {
   "cell_type": "code",
   "execution_count": 85,
   "metadata": {
    "collapsed": false
   },
   "outputs": [
    {
     "data": {
      "text/plain": [
       "True"
      ]
     },
     "execution_count": 85,
     "metadata": {},
     "output_type": "execute_result"
    }
   ],
   "source": [
    "a1 == a2"
   ]
  },
  {
   "cell_type": "code",
   "execution_count": 86,
   "metadata": {
    "collapsed": true
   },
   "outputs": [],
   "source": [
    "a1 = a1 * 2"
   ]
  },
  {
   "cell_type": "code",
   "execution_count": 87,
   "metadata": {
    "collapsed": false
   },
   "outputs": [
    {
     "name": "stdout",
     "output_type": "stream",
     "text": [
      "Dave* Rs.200\n"
     ]
    }
   ],
   "source": [
    "print(a1)"
   ]
  },
  {
   "cell_type": "code",
   "execution_count": 88,
   "metadata": {
    "collapsed": true
   },
   "outputs": [],
   "source": [
    "def myfunc(x, y=None):\n",
    "    if y is not None:\n",
    "        return x + y\n",
    "    else:\n",
    "        return x + running_total"
   ]
  },
  {
   "cell_type": "code",
   "execution_count": 89,
   "metadata": {
    "collapsed": true
   },
   "outputs": [],
   "source": [
    "def myfunc(*args, **kwargs):\n",
    "    print(args)\n",
    "    print(kwargs)"
   ]
  },
  {
   "cell_type": "code",
   "execution_count": 90,
   "metadata": {
    "collapsed": false
   },
   "outputs": [
    {
     "name": "stdout",
     "output_type": "stream",
     "text": [
      "(1, 2, 3, [1, 2, 3])\n",
      "{'x': 1, 'y': 'hello', 'z': {'j': 'jay '}}\n"
     ]
    }
   ],
   "source": [
    "myfunc(1, 2, 3, [1, 2, 3], x=1, y='hello', z={ 'j': 'jay '})"
   ]
  },
  {
   "cell_type": "code",
   "execution_count": 91,
   "metadata": {
    "collapsed": false
   },
   "outputs": [],
   "source": [
    "class Calculator(object):\n",
    "    def __init__(self):\n",
    "        # init does same thing as ac(), so just call ac()\n",
    "        self.ac()\n",
    "        \n",
    "    def __str__(self):\n",
    "        # str is same as showcalc()\n",
    "        return self.showcalc()\n",
    "    \n",
    "    def __eq__(self, other):\n",
    "        return self.running_total == other.running_total\n",
    "    \n",
    "    def __add__(self, other):\n",
    "        # + means add running total of the two calculators...\n",
    "        # ...and also add the calculation lists together\n",
    "        newcalc = Calculator()\n",
    "        newcalc.running_total = self.running_total + other.running_total\n",
    "        newcalc.calculations = self.calculations + other.calculations\n",
    "        return newcalc\n",
    "    \n",
    "    def __len__(self):\n",
    "        return len(self.calculations)\n",
    "    \n",
    "    def ac(self):\n",
    "        self.running_total = 0\n",
    "        self.calculations = []\n",
    "        return 0\n",
    "        \n",
    "    def add(self, op1, op2=None):\n",
    "        return self.do_calc(op1, op2, '+')\n",
    "    \n",
    "    def sub(self, op1, op2=None):\n",
    "        return self.do_calc(op1, op2, '-')\n",
    "    \n",
    "    def mul(self, op1, op2=None):\n",
    "        return self.do_calc(op1, op2, '*')\n",
    "    \n",
    "    def div(self, op1, op2=None):\n",
    "        return self.do_calc(op1, op2, '/')\n",
    "    \n",
    "    def do_calc(self, op1, op2, oper):\n",
    "        # method to do calculations\n",
    "        # eval(...) will run the Python code passed to it\n",
    "        if op2 is None:\n",
    "            op2, op1 = op1, self.running_total\n",
    "        self.running_total = eval('{} {} {}'.format(op1, oper, op2))\n",
    "        self.calculations.append('{} {} {} = {}'.format(op1, oper, op2, self.running_total))\n",
    "        return self.running_total\n",
    "\n",
    "    def showcalc(self):\n",
    "        if len(self.calculations):\n",
    "            return '\\n'.join(self.calculations)\n",
    "        else:\n",
    "            return 'no calculations'"
   ]
  },
  {
   "cell_type": "code",
   "execution_count": 92,
   "metadata": {
    "collapsed": true
   },
   "outputs": [],
   "source": [
    "c1 = Calculator()\n",
    "c2 = Calculator()"
   ]
  },
  {
   "cell_type": "code",
   "execution_count": 93,
   "metadata": {
    "collapsed": false
   },
   "outputs": [
    {
     "data": {
      "text/plain": [
       "5"
      ]
     },
     "execution_count": 93,
     "metadata": {},
     "output_type": "execute_result"
    }
   ],
   "source": [
    "c1.add(2, 3)"
   ]
  },
  {
   "cell_type": "code",
   "execution_count": 94,
   "metadata": {
    "collapsed": false
   },
   "outputs": [
    {
     "data": {
      "text/plain": [
       "2.857142857142857"
      ]
     },
     "execution_count": 94,
     "metadata": {},
     "output_type": "execute_result"
    }
   ],
   "source": [
    "c2.div(20, 7)"
   ]
  },
  {
   "cell_type": "code",
   "execution_count": 95,
   "metadata": {
    "collapsed": false
   },
   "outputs": [],
   "source": [
    "c3 = c1 + c2"
   ]
  },
  {
   "cell_type": "code",
   "execution_count": 96,
   "metadata": {
    "collapsed": false
   },
   "outputs": [
    {
     "name": "stdout",
     "output_type": "stream",
     "text": [
      "2 + 3 = 5\n",
      "20 / 7 = 2.857142857142857\n",
      "7.857142857142858\n"
     ]
    }
   ],
   "source": [
    "print(c3, c3.running_total, sep='\\n')"
   ]
  },
  {
   "cell_type": "code",
   "execution_count": 97,
   "metadata": {
    "collapsed": false
   },
   "outputs": [
    {
     "name": "stdout",
     "output_type": "stream",
     "text": [
      "2\n"
     ]
    }
   ],
   "source": [
    "c1.add(15)\n",
    "print(len(c1))"
   ]
  },
  {
   "cell_type": "code",
   "execution_count": 98,
   "metadata": {
    "collapsed": false
   },
   "outputs": [
    {
     "name": "stdout",
     "output_type": "stream",
     "text": [
      "2 + 3 = 5\n",
      "5 + 15 = 20\n"
     ]
    }
   ],
   "source": [
    "print(c1)"
   ]
  },
  {
   "cell_type": "code",
   "execution_count": 99,
   "metadata": {
    "collapsed": false
   },
   "outputs": [
    {
     "name": "stdout",
     "output_type": "stream",
     "text": [
      "1 + 2 = 3 False\n"
     ]
    }
   ],
   "source": [
    "c1.ac()\n",
    "c1.add(1, 2)\n",
    "print(c1, c1 == c2)"
   ]
  },
  {
   "cell_type": "code",
   "execution_count": 100,
   "metadata": {
    "collapsed": true
   },
   "outputs": [],
   "source": [
    "mylist = ['thing 1', 'thing 2', 'thing 3']"
   ]
  },
  {
   "cell_type": "code",
   "execution_count": 101,
   "metadata": {
    "collapsed": false
   },
   "outputs": [
    {
     "name": "stdout",
     "output_type": "stream",
     "text": [
      "thing 1\n",
      "thing 2\n",
      "thing 3\n"
     ]
    }
   ],
   "source": [
    "for thing in mylist:\n",
    "    print(thing)"
   ]
  },
  {
   "cell_type": "code",
   "execution_count": 102,
   "metadata": {
    "collapsed": false
   },
   "outputs": [
    {
     "name": "stdout",
     "output_type": "stream",
     "text": [
      "thing 1\n",
      "thing 2\n",
      "thing 3\n"
     ]
    }
   ],
   "source": [
    "print('\\n'.join(mylist))"
   ]
  },
  {
   "cell_type": "code",
   "execution_count": 104,
   "metadata": {
    "collapsed": false
   },
   "outputs": [
    {
     "data": {
      "text/plain": [
       "[4, 4, 4, 4, 4, 4, 4, 4, 4, 4]"
      ]
     },
     "execution_count": 104,
     "metadata": {},
     "output_type": "execute_result"
    }
   ],
   "source": [
    "mylist = [4] * 10\n",
    "mylist"
   ]
  },
  {
   "cell_type": "code",
   "execution_count": 105,
   "metadata": {
    "collapsed": false
   },
   "outputs": [
    {
     "name": "stdout",
     "output_type": "stream",
     "text": [
      "4297624032 4297624032 4297624032 4297624032 4297624032 4297624032 4297624032 4297624032 4297624032 4297624032 "
     ]
    }
   ],
   "source": [
    "for thing in mylist:\n",
    "    print(id(thing), end=' ')"
   ]
  },
  {
   "cell_type": "code",
   "execution_count": 108,
   "metadata": {
    "collapsed": false
   },
   "outputs": [
    {
     "name": "stdout",
     "output_type": "stream",
     "text": [
      "[0, 0, 0, 0, 0, 0, 0, 0, 0, 0, 0, 0, 0, 0, 0, 0, 0, 0, 0, 0, 0, 0, 0, 0, 0, 0, 0, 0, 0, 0, 0, 0, 0, 0, 0, 0, 0, 0, 0, 0, 0, 0, 0, 0, 0, 0, 0, 0, 0, 0, 0, 0, 0, 0, 0, 0, 0, 0, 0, 0, 0, 0, 0, 0, 0, 0, 0, 0, 0, 0, 0, 0, 0, 0, 0, 0, 0, 0, 0, 0, 0, 0, 0, 0, 0, 0, 0, 0, 0, 0, 0, 0, 0, 0, 0, 0, 0, 0, 0, 0]\n"
     ]
    }
   ],
   "source": [
    "mylist = [0] * 100\n",
    "print(mylist)"
   ]
  },
  {
   "cell_type": "code",
   "execution_count": 109,
   "metadata": {
    "collapsed": true
   },
   "outputs": [],
   "source": [
    "def func(x, y, z):\n",
    "    print(x, y, z)"
   ]
  },
  {
   "cell_type": "code",
   "execution_count": 110,
   "metadata": {
    "collapsed": false
   },
   "outputs": [
    {
     "name": "stdout",
     "output_type": "stream",
     "text": [
      "1 2 3\n"
     ]
    }
   ],
   "source": [
    "func(1, 2, 3)"
   ]
  },
  {
   "cell_type": "code",
   "execution_count": 111,
   "metadata": {
    "collapsed": true
   },
   "outputs": [],
   "source": [
    "mylist = [1, 2, 3]"
   ]
  },
  {
   "cell_type": "code",
   "execution_count": 112,
   "metadata": {
    "collapsed": false
   },
   "outputs": [
    {
     "name": "stdout",
     "output_type": "stream",
     "text": [
      "1 2 3\n"
     ]
    }
   ],
   "source": [
    "func(*mylist)"
   ]
  },
  {
   "cell_type": "code",
   "execution_count": 113,
   "metadata": {
    "collapsed": false
   },
   "outputs": [
    {
     "ename": "TypeError",
     "evalue": "func() missing 2 required positional arguments: 'y' and 'z'",
     "output_type": "error",
     "traceback": [
      "\u001b[0;31m-------------------------------------------------------------------------\u001b[0m",
      "\u001b[0;31mTypeError\u001b[0m                               Traceback (most recent call last)",
      "\u001b[0;32m<ipython-input-113-4605ad06586f>\u001b[0m in \u001b[0;36m<module>\u001b[0;34m()\u001b[0m\n\u001b[0;32m----> 1\u001b[0;31m \u001b[0mfunc\u001b[0m\u001b[0;34m(\u001b[0m\u001b[0mmylist\u001b[0m\u001b[0;34m)\u001b[0m\u001b[0;34m\u001b[0m\u001b[0m\n\u001b[0m",
      "\u001b[0;31mTypeError\u001b[0m: func() missing 2 required positional arguments: 'y' and 'z'"
     ]
    }
   ],
   "source": [
    "func(mylist)"
   ]
  },
  {
   "cell_type": "code",
   "execution_count": 114,
   "metadata": {
    "collapsed": false
   },
   "outputs": [],
   "source": [
    "mydict = { 'x': True, 'y' : 1, 'z': 'red' }"
   ]
  },
  {
   "cell_type": "code",
   "execution_count": 115,
   "metadata": {
    "collapsed": false
   },
   "outputs": [
    {
     "name": "stdout",
     "output_type": "stream",
     "text": [
      "True 1 red\n"
     ]
    }
   ],
   "source": [
    "func(**mydict)"
   ]
  },
  {
   "cell_type": "code",
   "execution_count": 116,
   "metadata": {
    "collapsed": true
   },
   "outputs": [],
   "source": [
    "def func(name, group, employee_id):\n",
    "    print('name =', name)\n",
    "    print('group =', group)\n",
    "    print('employee id =', employee_id)"
   ]
  },
  {
   "cell_type": "code",
   "execution_count": 117,
   "metadata": {
    "collapsed": true
   },
   "outputs": [],
   "source": [
    "emp_dict = { 'group': 'DB performance', 'name': 'Marc Benioff', 'employee_id': 1 }"
   ]
  },
  {
   "cell_type": "code",
   "execution_count": 118,
   "metadata": {
    "collapsed": false
   },
   "outputs": [
    {
     "name": "stdout",
     "output_type": "stream",
     "text": [
      "name = Marc Benioff\n",
      "group = DB performance\n",
      "employee id = 1\n"
     ]
    }
   ],
   "source": [
    "func(emp_dict['name'], emp_dict['group'], emp_dict['employee_id'])"
   ]
  },
  {
   "cell_type": "code",
   "execution_count": 119,
   "metadata": {
    "collapsed": false
   },
   "outputs": [
    {
     "name": "stdout",
     "output_type": "stream",
     "text": [
      "name = Marc Benioff\n",
      "group = DB performance\n",
      "employee id = 1\n"
     ]
    }
   ],
   "source": [
    "func(**emp_dict)"
   ]
  },
  {
   "cell_type": "code",
   "execution_count": 120,
   "metadata": {
    "collapsed": true
   },
   "outputs": [],
   "source": [
    "x, y, *rest = 1, 2, 3, 4, 5"
   ]
  },
  {
   "cell_type": "code",
   "execution_count": 121,
   "metadata": {
    "collapsed": false
   },
   "outputs": [
    {
     "data": {
      "text/plain": [
       "[3, 4, 5]"
      ]
     },
     "execution_count": 121,
     "metadata": {},
     "output_type": "execute_result"
    }
   ],
   "source": [
    "rest"
   ]
  },
  {
   "cell_type": "code",
   "execution_count": 122,
   "metadata": {
    "collapsed": true
   },
   "outputs": [],
   "source": [
    "class ZanyInt(int):\n",
    "    def __str__(self):\n",
    "        if self == 3:\n",
    "            return 'three'\n",
    "        else:\n",
    "            return '...' + str(int(self))\n",
    "    \n",
    "    def __len__(self):\n",
    "        return self ** 2\n",
    "    \n",
    "    def __add__(self, other):\n",
    "        import random\n",
    "        \n",
    "        if random.random() > .80:\n",
    "            return int(self) + int(other) + random.random()\n",
    "        else:\n",
    "            return int(self) + int(other)"
   ]
  },
  {
   "cell_type": "code",
   "execution_count": 123,
   "metadata": {
    "collapsed": false
   },
   "outputs": [
    {
     "data": {
      "text/plain": [
       "True"
      ]
     },
     "execution_count": 123,
     "metadata": {},
     "output_type": "execute_result"
    }
   ],
   "source": [
    "z1 = ZanyInt(3)\n",
    "z2 = ZanyInt(4)\n",
    "z1 == 3"
   ]
  },
  {
   "cell_type": "code",
   "execution_count": 124,
   "metadata": {
    "collapsed": false
   },
   "outputs": [
    {
     "name": "stdout",
     "output_type": "stream",
     "text": [
      "three\n",
      "...4\n"
     ]
    }
   ],
   "source": [
    "print(z1)\n",
    "print(z2)"
   ]
  },
  {
   "cell_type": "code",
   "execution_count": 125,
   "metadata": {
    "collapsed": false
   },
   "outputs": [
    {
     "name": "stdout",
     "output_type": "stream",
     "text": [
      "9\n"
     ]
    },
    {
     "ename": "TypeError",
     "evalue": "object of type 'int' has no len()",
     "output_type": "error",
     "traceback": [
      "\u001b[0;31m-------------------------------------------------------------------------\u001b[0m",
      "\u001b[0;31mTypeError\u001b[0m                               Traceback (most recent call last)",
      "\u001b[0;32m<ipython-input-125-faa14c9b10c1>\u001b[0m in \u001b[0;36m<module>\u001b[0;34m()\u001b[0m\n\u001b[1;32m      1\u001b[0m \u001b[0mprint\u001b[0m\u001b[0;34m(\u001b[0m\u001b[0mlen\u001b[0m\u001b[0;34m(\u001b[0m\u001b[0mz1\u001b[0m\u001b[0;34m)\u001b[0m\u001b[0;34m)\u001b[0m\u001b[0;34m\u001b[0m\u001b[0m\n\u001b[0;32m----> 2\u001b[0;31m \u001b[0mlen\u001b[0m\u001b[0;34m(\u001b[0m\u001b[0;36m3\u001b[0m\u001b[0;34m)\u001b[0m\u001b[0;34m\u001b[0m\u001b[0m\n\u001b[0m",
      "\u001b[0;31mTypeError\u001b[0m: object of type 'int' has no len()"
     ]
    }
   ],
   "source": [
    "print(len(z1))\n",
    "len(3)"
   ]
  },
  {
   "cell_type": "code",
   "execution_count": 126,
   "metadata": {
    "collapsed": false
   },
   "outputs": [
    {
     "name": "stdout",
     "output_type": "stream",
     "text": [
      "7\n",
      "7\n",
      "7\n",
      "7\n",
      "7.140317675406672\n",
      "7\n",
      "7\n",
      "7\n",
      "7\n",
      "7\n"
     ]
    }
   ],
   "source": [
    "for i in range(1, 11):\n",
    "    print(z1 + z2)"
   ]
  },
  {
   "cell_type": "code",
   "execution_count": 127,
   "metadata": {
    "collapsed": false
   },
   "outputs": [
    {
     "data": {
      "text/plain": [
       "3"
      ]
     },
     "execution_count": 127,
     "metadata": {},
     "output_type": "execute_result"
    }
   ],
   "source": [
    "z1"
   ]
  },
  {
   "cell_type": "code",
   "execution_count": 128,
   "metadata": {
    "collapsed": false
   },
   "outputs": [
    {
     "data": {
      "text/plain": [
       "__main__.ZanyInt"
      ]
     },
     "execution_count": 128,
     "metadata": {},
     "output_type": "execute_result"
    }
   ],
   "source": [
    "type(z1)"
   ]
  },
  {
   "cell_type": "code",
   "execution_count": 129,
   "metadata": {
    "collapsed": false
   },
   "outputs": [],
   "source": [
    "p1 = Person('Marc Benioff')"
   ]
  },
  {
   "cell_type": "code",
   "execution_count": 130,
   "metadata": {
    "collapsed": false
   },
   "outputs": [
    {
     "data": {
      "text/plain": [
       "['__class__',\n",
       " '__delattr__',\n",
       " '__dict__',\n",
       " '__dir__',\n",
       " '__doc__',\n",
       " '__eq__',\n",
       " '__format__',\n",
       " '__ge__',\n",
       " '__getattribute__',\n",
       " '__gt__',\n",
       " '__hash__',\n",
       " '__init__',\n",
       " '__init_subclass__',\n",
       " '__le__',\n",
       " '__lt__',\n",
       " '__module__',\n",
       " '__ne__',\n",
       " '__new__',\n",
       " '__reduce__',\n",
       " '__reduce_ex__',\n",
       " '__repr__',\n",
       " '__setattr__',\n",
       " '__sizeof__',\n",
       " '__str__',\n",
       " '__subclasshook__',\n",
       " '__weakref__',\n",
       " 'name']"
      ]
     },
     "execution_count": 130,
     "metadata": {},
     "output_type": "execute_result"
    }
   ],
   "source": [
    "dir(p1)"
   ]
  },
  {
   "cell_type": "code",
   "execution_count": 131,
   "metadata": {
    "collapsed": false
   },
   "outputs": [
    {
     "data": {
      "text/plain": [
       "'Marc Benioff'"
      ]
     },
     "execution_count": 131,
     "metadata": {},
     "output_type": "execute_result"
    }
   ],
   "source": [
    "p1.name"
   ]
  },
  {
   "cell_type": "code",
   "execution_count": 132,
   "metadata": {
    "collapsed": true
   },
   "outputs": [],
   "source": [
    "p1.foo = 'bar'"
   ]
  },
  {
   "cell_type": "code",
   "execution_count": 133,
   "metadata": {
    "collapsed": false
   },
   "outputs": [
    {
     "data": {
      "text/plain": [
       "['__class__',\n",
       " '__delattr__',\n",
       " '__dict__',\n",
       " '__dir__',\n",
       " '__doc__',\n",
       " '__eq__',\n",
       " '__format__',\n",
       " '__ge__',\n",
       " '__getattribute__',\n",
       " '__gt__',\n",
       " '__hash__',\n",
       " '__init__',\n",
       " '__init_subclass__',\n",
       " '__le__',\n",
       " '__lt__',\n",
       " '__module__',\n",
       " '__ne__',\n",
       " '__new__',\n",
       " '__reduce__',\n",
       " '__reduce_ex__',\n",
       " '__repr__',\n",
       " '__setattr__',\n",
       " '__sizeof__',\n",
       " '__str__',\n",
       " '__subclasshook__',\n",
       " '__weakref__',\n",
       " 'foo',\n",
       " 'name']"
      ]
     },
     "execution_count": 133,
     "metadata": {},
     "output_type": "execute_result"
    }
   ],
   "source": [
    "dir(p1)"
   ]
  },
  {
   "cell_type": "code",
   "execution_count": 134,
   "metadata": {
    "collapsed": false
   },
   "outputs": [
    {
     "data": {
      "text/plain": [
       "'bar'"
      ]
     },
     "execution_count": 134,
     "metadata": {},
     "output_type": "execute_result"
    }
   ],
   "source": [
    "p1.foo"
   ]
  },
  {
   "cell_type": "code",
   "execution_count": 135,
   "metadata": {
    "collapsed": true
   },
   "outputs": [],
   "source": [
    "x = 1"
   ]
  },
  {
   "cell_type": "code",
   "execution_count": 136,
   "metadata": {
    "collapsed": true
   },
   "outputs": [],
   "source": [
    "del x"
   ]
  },
  {
   "cell_type": "code",
   "execution_count": 137,
   "metadata": {
    "collapsed": false
   },
   "outputs": [
    {
     "ename": "NameError",
     "evalue": "name 'x' is not defined",
     "output_type": "error",
     "traceback": [
      "\u001b[0;31m-------------------------------------------------------------------------\u001b[0m",
      "\u001b[0;31mNameError\u001b[0m                               Traceback (most recent call last)",
      "\u001b[0;32m<ipython-input-137-401b30e3b8b5>\u001b[0m in \u001b[0;36m<module>\u001b[0;34m()\u001b[0m\n\u001b[0;32m----> 1\u001b[0;31m \u001b[0mx\u001b[0m\u001b[0;34m\u001b[0m\u001b[0m\n\u001b[0m",
      "\u001b[0;31mNameError\u001b[0m: name 'x' is not defined"
     ]
    }
   ],
   "source": [
    "x"
   ]
  },
  {
   "cell_type": "code",
   "execution_count": 138,
   "metadata": {
    "collapsed": true
   },
   "outputs": [],
   "source": [
    "class Person(object):\n",
    "    # class data not instance data\n",
    "    instance_count = 0\n",
    "    allnames = []\n",
    "    \n",
    "    def __init__(self, name):\n",
    "        self.name = name\n",
    "        #self.__class__.allnames.append(name)\n",
    "        self.__class__.instance_count += 1\n",
    "        self.__class__.allnames.append(name)\n",
    "        \n",
    "    #def count(self):\n",
    "        #return len(self.__class__.allnames)\n",
    "    \n",
    "    #def names(self):\n",
    "        #return self.__class__.allnames\n",
    "    \n",
    "    def __del__(self):\n",
    "        self.__class__.allnames.remove(self.name)\n",
    "        self.__class__.instance_count -= 1"
   ]
  },
  {
   "cell_type": "code",
   "execution_count": 139,
   "metadata": {
    "collapsed": true
   },
   "outputs": [],
   "source": [
    "del p1\n",
    "del p2\n",
    "p1 = Person('Marc')\n",
    "p2 = Person('Sardar')"
   ]
  },
  {
   "cell_type": "code",
   "execution_count": 140,
   "metadata": {
    "collapsed": false
   },
   "outputs": [
    {
     "data": {
      "text/plain": [
       "2"
      ]
     },
     "execution_count": 140,
     "metadata": {},
     "output_type": "execute_result"
    }
   ],
   "source": [
    "Person.instance_count"
   ]
  },
  {
   "cell_type": "code",
   "execution_count": 141,
   "metadata": {
    "collapsed": false
   },
   "outputs": [
    {
     "data": {
      "text/plain": [
       "['Marc', 'Sardar']"
      ]
     },
     "execution_count": 141,
     "metadata": {},
     "output_type": "execute_result"
    }
   ],
   "source": [
    "Person.allnames"
   ]
  },
  {
   "cell_type": "code",
   "execution_count": 142,
   "metadata": {
    "collapsed": false
   },
   "outputs": [
    {
     "data": {
      "text/plain": [
       "2"
      ]
     },
     "execution_count": 142,
     "metadata": {},
     "output_type": "execute_result"
    }
   ],
   "source": [
    "p2.instance_count"
   ]
  },
  {
   "cell_type": "code",
   "execution_count": 143,
   "metadata": {
    "collapsed": true
   },
   "outputs": [],
   "source": [
    "del p1"
   ]
  },
  {
   "cell_type": "code",
   "execution_count": 145,
   "metadata": {
    "collapsed": false
   },
   "outputs": [
    {
     "data": {
      "text/plain": [
       "['Sardar']"
      ]
     },
     "execution_count": 145,
     "metadata": {},
     "output_type": "execute_result"
    }
   ],
   "source": [
    "Person.allnames"
   ]
  },
  {
   "cell_type": "code",
   "execution_count": 146,
   "metadata": {
    "collapsed": false
   },
   "outputs": [
    {
     "data": {
      "text/plain": [
       "1"
      ]
     },
     "execution_count": 146,
     "metadata": {},
     "output_type": "execute_result"
    }
   ],
   "source": [
    "Person.instance_count"
   ]
  },
  {
   "cell_type": "code",
   "execution_count": 147,
   "metadata": {
    "collapsed": true
   },
   "outputs": [],
   "source": [
    "del p2"
   ]
  },
  {
   "cell_type": "code",
   "execution_count": 148,
   "metadata": {
    "collapsed": false
   },
   "outputs": [
    {
     "data": {
      "text/plain": [
       "0"
      ]
     },
     "execution_count": 148,
     "metadata": {},
     "output_type": "execute_result"
    }
   ],
   "source": [
    "Person.instance_count"
   ]
  },
  {
   "cell_type": "code",
   "execution_count": 149,
   "metadata": {
    "collapsed": false
   },
   "outputs": [],
   "source": [
    "d = {}"
   ]
  },
  {
   "cell_type": "code",
   "execution_count": 150,
   "metadata": {
    "collapsed": false
   },
   "outputs": [
    {
     "data": {
      "text/plain": [
       "'/Library/Frameworks/Python.framework/Versions/3.6/lib/python3.6/collections/__init__.py'"
      ]
     },
     "execution_count": 150,
     "metadata": {},
     "output_type": "execute_result"
    }
   ],
   "source": [
    "import collections\n",
    "collections.__file__"
   ]
  },
  {
   "cell_type": "code",
   "execution_count": null,
   "metadata": {
    "collapsed": true
   },
   "outputs": [],
   "source": [
    "# thoughts on how to create an ordered dict\n",
    "class MyOrderedDict(dict):\n",
    "    def __init__(self, *args, **kwargs):\n",
    "        # we will need some sort of ordered datatype, e.g., a list\n",
    "        self.mydict = [...]\n",
    "        \n",
    "    def get(self, key):\n",
    "        # we will override the .get() method because keys are stored in a list"
   ]
  },
  {
   "cell_type": "code",
   "execution_count": 151,
   "metadata": {
    "collapsed": true
   },
   "outputs": [],
   "source": [
    "%%bash\n",
    "cat > data.txt <<END\n",
    "apple 2\n",
    "pear 3\n",
    "cherry 5\n",
    "this is a bad line\n",
    "apple 3\n",
    "pear 6\n",
    "apple 1\n",
    "END"
   ]
  },
  {
   "cell_type": "code",
   "execution_count": 152,
   "metadata": {
    "collapsed": false
   },
   "outputs": [
    {
     "name": "stdout",
     "output_type": "stream",
     "text": [
      "ill-formatted line: this is a bad line\n",
      "\n",
      "defaultdict(<class 'list'>, {'apple': ['2', '3', '1'], 'pear': ['3', '6'], 'cherry': ['5']})\n"
     ]
    }
   ],
   "source": [
    "from collections import defaultdict\n",
    "\n",
    "counter = defaultdict(list)\n",
    "\n",
    "with open('data.txt', 'r') as f:\n",
    "    for line in f:\n",
    "        # assumes we have exactly two words on the line\n",
    "        # key, val = line.split() \n",
    "        # we should do some error checking here to be sure...\n",
    "        # ...the line is formatted properly\n",
    "        words = line.split()\n",
    "        if len(words) == 2:\n",
    "            key, val = words \n",
    "            counter[key].append(val)\n",
    "        else:\n",
    "            print('ill-formatted line:', line)\n",
    "\n",
    "print(counter)"
   ]
  },
  {
   "cell_type": "code",
   "execution_count": 153,
   "metadata": {
    "collapsed": true
   },
   "outputs": [],
   "source": [
    "class MyDefaultDict(dict):\n",
    "    def __init__(self, type):\n",
    "        # self is already a dict\n",
    "        if type == int:\n",
    "            self.default = 0\n",
    "        elif type == list:\n",
    "            self.default = []\n",
    "        elif type == str:\n",
    "            self.default = \"\"\n",
    "        else:\n",
    "            raise TypeError\n",
    "\n",
    "    def __getitem__(self, key):\n",
    "        return self.get(key)\n",
    "\n",
    "    def get(self, key):\n",
    "        print('in get function')\n",
    "\n",
    "        if key in self:\n",
    "            return dict(self)[key]\n",
    "        else:\n",
    "            return self.default"
   ]
  },
  {
   "cell_type": "code",
   "execution_count": 154,
   "metadata": {
    "collapsed": true
   },
   "outputs": [],
   "source": [
    "d = MyDefaultDict(int)"
   ]
  },
  {
   "cell_type": "code",
   "execution_count": 155,
   "metadata": {
    "collapsed": false
   },
   "outputs": [
    {
     "name": "stdout",
     "output_type": "stream",
     "text": [
      "in get function\n"
     ]
    },
    {
     "data": {
      "text/plain": [
       "0"
      ]
     },
     "execution_count": 155,
     "metadata": {},
     "output_type": "execute_result"
    }
   ],
   "source": [
    "d.get('a')"
   ]
  },
  {
   "cell_type": "code",
   "execution_count": 156,
   "metadata": {
    "collapsed": false
   },
   "outputs": [
    {
     "name": "stdout",
     "output_type": "stream",
     "text": [
      "in get function\n",
      "in get function\n"
     ]
    },
    {
     "data": {
      "text/plain": [
       "1"
      ]
     },
     "execution_count": 156,
     "metadata": {},
     "output_type": "execute_result"
    }
   ],
   "source": [
    "d['a'] += 1\n",
    "d['a']"
   ]
  },
  {
   "cell_type": "code",
   "execution_count": 157,
   "metadata": {
    "collapsed": false
   },
   "outputs": [
    {
     "ename": "TypeError",
     "evalue": "",
     "output_type": "error",
     "traceback": [
      "\u001b[0;31m-------------------------------------------------------------------------\u001b[0m",
      "\u001b[0;31mTypeError\u001b[0m                               Traceback (most recent call last)",
      "\u001b[0;32m<ipython-input-157-b1e0c10db2f3>\u001b[0m in \u001b[0;36m<module>\u001b[0;34m()\u001b[0m\n\u001b[0;32m----> 1\u001b[0;31m \u001b[0md\u001b[0m \u001b[0;34m=\u001b[0m \u001b[0mMyDefaultDict\u001b[0m\u001b[0;34m(\u001b[0m\u001b[0mfloat\u001b[0m\u001b[0;34m)\u001b[0m\u001b[0;34m\u001b[0m\u001b[0m\n\u001b[0m",
      "\u001b[0;32m<ipython-input-153-3be97576d826>\u001b[0m in \u001b[0;36m__init__\u001b[0;34m(self, type)\u001b[0m\n\u001b[1;32m      9\u001b[0m             \u001b[0mself\u001b[0m\u001b[0;34m.\u001b[0m\u001b[0mdefault\u001b[0m \u001b[0;34m=\u001b[0m \u001b[0;34m\"\"\u001b[0m\u001b[0;34m\u001b[0m\u001b[0m\n\u001b[1;32m     10\u001b[0m         \u001b[0;32melse\u001b[0m\u001b[0;34m:\u001b[0m\u001b[0;34m\u001b[0m\u001b[0m\n\u001b[0;32m---> 11\u001b[0;31m             \u001b[0;32mraise\u001b[0m \u001b[0mTypeError\u001b[0m\u001b[0;34m\u001b[0m\u001b[0m\n\u001b[0m\u001b[1;32m     12\u001b[0m \u001b[0;34m\u001b[0m\u001b[0m\n\u001b[1;32m     13\u001b[0m     \u001b[0;32mdef\u001b[0m \u001b[0m__getitem__\u001b[0m\u001b[0;34m(\u001b[0m\u001b[0mself\u001b[0m\u001b[0;34m,\u001b[0m \u001b[0mkey\u001b[0m\u001b[0;34m)\u001b[0m\u001b[0;34m:\u001b[0m\u001b[0;34m\u001b[0m\u001b[0m\n",
      "\u001b[0;31mTypeError\u001b[0m: "
     ]
    }
   ],
   "source": [
    "d = MyDefaultDict(float)"
   ]
  },
  {
   "cell_type": "code",
   "execution_count": 158,
   "metadata": {
    "collapsed": false
   },
   "outputs": [],
   "source": [
    "def last_n_lines(filename, n):\n",
    "    from collections import deque\n",
    "    lines = deque(maxlen=n)\n",
    "    \n",
    "    with open(filename) as f:\n",
    "        for line in f:\n",
    "            lines.append(line)\n",
    "    \n",
    "    return lines"
   ]
  },
  {
   "cell_type": "code",
   "execution_count": 159,
   "metadata": {
    "collapsed": false
   },
   "outputs": [
    {
     "name": "stdout",
     "output_type": "stream",
     "text": [
      "I shall be telling this with a sigh\t\n",
      "Somewhere ages and ages hence:\t\n",
      "Two roads diverged in a wood, and I—\t\n",
      "I took the one less traveled by,\t\n",
      "And that has made all the difference.\n",
      "\n"
     ]
    }
   ],
   "source": [
    "print(''.join(last_n_lines('poem.txt', 5)))"
   ]
  },
  {
   "cell_type": "code",
   "execution_count": null,
   "metadata": {
    "collapsed": true
   },
   "outputs": [],
   "source": [
    "# how would we implement a deque?\n",
    "class deque(list):\n",
    "    def rotate(self, n):\n",
    "        # remove n from right\n",
    "        # if < 0 remove n from left\n",
    "        # ...and re-insert on other side\n",
    "        \n",
    "    def appendleft(self, thing):\n",
    "        ..."
   ]
  },
  {
   "cell_type": "code",
   "execution_count": 160,
   "metadata": {
    "collapsed": true
   },
   "outputs": [],
   "source": [
    "from collections import namedtuple\n",
    "Card = namedtuple('Card', 'rank suit')"
   ]
  },
  {
   "cell_type": "code",
   "execution_count": 161,
   "metadata": {
    "collapsed": false
   },
   "outputs": [
    {
     "data": {
      "text/plain": [
       "Card(rank='2', suit='hearts')"
      ]
     },
     "execution_count": 161,
     "metadata": {},
     "output_type": "execute_result"
    }
   ],
   "source": [
    "c = Card('2', 'hearts')\n",
    "c"
   ]
  },
  {
   "cell_type": "code",
   "execution_count": 164,
   "metadata": {
    "collapsed": false
   },
   "outputs": [
    {
     "data": {
      "text/plain": [
       "['2', '3', '4', '5', '6', '7', '8', '9', '10', 'J', 'Q', 'K', 'A']"
      ]
     },
     "execution_count": 164,
     "metadata": {},
     "output_type": "execute_result"
    }
   ],
   "source": [
    "ranks = [str(num) for num in range(2, 11)] + list('JQKA')\n",
    "ranks"
   ]
  },
  {
   "cell_type": "code",
   "execution_count": 165,
   "metadata": {
    "collapsed": false
   },
   "outputs": [
    {
     "data": {
      "text/plain": [
       "['clubs', 'diamonds', 'hearts', 'spades']"
      ]
     },
     "execution_count": 165,
     "metadata": {},
     "output_type": "execute_result"
    }
   ],
   "source": [
    "suits = 'clubs diamonds hearts spades'.split()\n",
    "suits"
   ]
  },
  {
   "cell_type": "code",
   "execution_count": 166,
   "metadata": {
    "collapsed": true
   },
   "outputs": [],
   "source": [
    "deck = []\n",
    "\n",
    "for rank in ranks:\n",
    "    for suit in suits:\n",
    "        deck.append(Card(rank, suit))"
   ]
  },
  {
   "cell_type": "code",
   "execution_count": 167,
   "metadata": {
    "collapsed": false
   },
   "outputs": [
    {
     "data": {
      "text/plain": [
       "[Card(rank='2', suit='clubs'),\n",
       " Card(rank='2', suit='diamonds'),\n",
       " Card(rank='2', suit='hearts'),\n",
       " Card(rank='2', suit='spades'),\n",
       " Card(rank='3', suit='clubs'),\n",
       " Card(rank='3', suit='diamonds'),\n",
       " Card(rank='3', suit='hearts'),\n",
       " Card(rank='3', suit='spades'),\n",
       " Card(rank='4', suit='clubs'),\n",
       " Card(rank='4', suit='diamonds'),\n",
       " Card(rank='4', suit='hearts'),\n",
       " Card(rank='4', suit='spades'),\n",
       " Card(rank='5', suit='clubs'),\n",
       " Card(rank='5', suit='diamonds'),\n",
       " Card(rank='5', suit='hearts'),\n",
       " Card(rank='5', suit='spades'),\n",
       " Card(rank='6', suit='clubs'),\n",
       " Card(rank='6', suit='diamonds'),\n",
       " Card(rank='6', suit='hearts'),\n",
       " Card(rank='6', suit='spades'),\n",
       " Card(rank='7', suit='clubs'),\n",
       " Card(rank='7', suit='diamonds'),\n",
       " Card(rank='7', suit='hearts'),\n",
       " Card(rank='7', suit='spades'),\n",
       " Card(rank='8', suit='clubs'),\n",
       " Card(rank='8', suit='diamonds'),\n",
       " Card(rank='8', suit='hearts'),\n",
       " Card(rank='8', suit='spades'),\n",
       " Card(rank='9', suit='clubs'),\n",
       " Card(rank='9', suit='diamonds'),\n",
       " Card(rank='9', suit='hearts'),\n",
       " Card(rank='9', suit='spades'),\n",
       " Card(rank='10', suit='clubs'),\n",
       " Card(rank='10', suit='diamonds'),\n",
       " Card(rank='10', suit='hearts'),\n",
       " Card(rank='10', suit='spades'),\n",
       " Card(rank='J', suit='clubs'),\n",
       " Card(rank='J', suit='diamonds'),\n",
       " Card(rank='J', suit='hearts'),\n",
       " Card(rank='J', suit='spades'),\n",
       " Card(rank='Q', suit='clubs'),\n",
       " Card(rank='Q', suit='diamonds'),\n",
       " Card(rank='Q', suit='hearts'),\n",
       " Card(rank='Q', suit='spades'),\n",
       " Card(rank='K', suit='clubs'),\n",
       " Card(rank='K', suit='diamonds'),\n",
       " Card(rank='K', suit='hearts'),\n",
       " Card(rank='K', suit='spades'),\n",
       " Card(rank='A', suit='clubs'),\n",
       " Card(rank='A', suit='diamonds'),\n",
       " Card(rank='A', suit='hearts'),\n",
       " Card(rank='A', suit='spades')]"
      ]
     },
     "execution_count": 167,
     "metadata": {},
     "output_type": "execute_result"
    }
   ],
   "source": [
    "deck = [Card(rank, suit) for rank in ranks\n",
    "                         for suit in suits]\n",
    "deck"
   ]
  },
  {
   "cell_type": "code",
   "execution_count": 169,
   "metadata": {
    "collapsed": false
   },
   "outputs": [
    {
     "data": {
      "text/plain": [
       "[Card(rank='K', suit='diamonds'),\n",
       " Card(rank='3', suit='clubs'),\n",
       " Card(rank='8', suit='clubs'),\n",
       " Card(rank='8', suit='spades'),\n",
       " Card(rank='2', suit='clubs'),\n",
       " Card(rank='10', suit='diamonds'),\n",
       " Card(rank='K', suit='hearts'),\n",
       " Card(rank='9', suit='spades'),\n",
       " Card(rank='8', suit='hearts'),\n",
       " Card(rank='6', suit='diamonds'),\n",
       " Card(rank='J', suit='diamonds'),\n",
       " Card(rank='4', suit='spades'),\n",
       " Card(rank='2', suit='spades'),\n",
       " Card(rank='A', suit='clubs'),\n",
       " Card(rank='2', suit='diamonds'),\n",
       " Card(rank='3', suit='diamonds'),\n",
       " Card(rank='Q', suit='spades'),\n",
       " Card(rank='6', suit='spades'),\n",
       " Card(rank='6', suit='hearts'),\n",
       " Card(rank='2', suit='hearts'),\n",
       " Card(rank='7', suit='hearts'),\n",
       " Card(rank='4', suit='hearts'),\n",
       " Card(rank='7', suit='spades'),\n",
       " Card(rank='A', suit='hearts'),\n",
       " Card(rank='9', suit='diamonds'),\n",
       " Card(rank='5', suit='hearts'),\n",
       " Card(rank='J', suit='clubs'),\n",
       " Card(rank='A', suit='spades'),\n",
       " Card(rank='10', suit='clubs'),\n",
       " Card(rank='9', suit='clubs'),\n",
       " Card(rank='5', suit='spades'),\n",
       " Card(rank='A', suit='diamonds'),\n",
       " Card(rank='3', suit='hearts'),\n",
       " Card(rank='Q', suit='hearts'),\n",
       " Card(rank='7', suit='diamonds'),\n",
       " Card(rank='5', suit='clubs'),\n",
       " Card(rank='Q', suit='diamonds'),\n",
       " Card(rank='5', suit='diamonds'),\n",
       " Card(rank='K', suit='spades'),\n",
       " Card(rank='3', suit='spades'),\n",
       " Card(rank='J', suit='spades'),\n",
       " Card(rank='8', suit='diamonds'),\n",
       " Card(rank='10', suit='spades'),\n",
       " Card(rank='K', suit='clubs'),\n",
       " Card(rank='4', suit='clubs'),\n",
       " Card(rank='J', suit='hearts'),\n",
       " Card(rank='Q', suit='clubs'),\n",
       " Card(rank='7', suit='clubs'),\n",
       " Card(rank='4', suit='diamonds'),\n",
       " Card(rank='9', suit='hearts'),\n",
       " Card(rank='6', suit='clubs'),\n",
       " Card(rank='10', suit='hearts')]"
      ]
     },
     "execution_count": 169,
     "metadata": {},
     "output_type": "execute_result"
    }
   ],
   "source": [
    "import random\n",
    "random.shuffle(deck)\n",
    "deck"
   ]
  },
  {
   "cell_type": "code",
   "execution_count": 170,
   "metadata": {
    "collapsed": false
   },
   "outputs": [],
   "source": [
    "from string import punctuation\n",
    "\n",
    "line = 'Hi Hamlet, how are you?'\n",
    "\n",
    "list_of_chars = [char for char in line.lower()\n",
    "                        if char not in punctuation]"
   ]
  },
  {
   "cell_type": "code",
   "execution_count": 171,
   "metadata": {
    "collapsed": false
   },
   "outputs": [
    {
     "data": {
      "text/plain": [
       "['h',\n",
       " 'i',\n",
       " ' ',\n",
       " 'h',\n",
       " 'a',\n",
       " 'm',\n",
       " 'l',\n",
       " 'e',\n",
       " 't',\n",
       " ' ',\n",
       " 'h',\n",
       " 'o',\n",
       " 'w',\n",
       " ' ',\n",
       " 'a',\n",
       " 'r',\n",
       " 'e',\n",
       " ' ',\n",
       " 'y',\n",
       " 'o',\n",
       " 'u']"
      ]
     },
     "execution_count": 171,
     "metadata": {},
     "output_type": "execute_result"
    }
   ],
   "source": [
    "list_of_chars"
   ]
  },
  {
   "cell_type": "code",
   "execution_count": 172,
   "metadata": {
    "collapsed": false
   },
   "outputs": [
    {
     "data": {
      "text/plain": [
       "'hi hamlet how are you'"
      ]
     },
     "execution_count": 172,
     "metadata": {},
     "output_type": "execute_result"
    }
   ],
   "source": [
    "''.join(list_of_chars)"
   ]
  },
  {
   "cell_type": "code",
   "execution_count": 173,
   "metadata": {
    "collapsed": false
   },
   "outputs": [
    {
     "data": {
      "text/plain": [
       "['fig', 'pear', 'apple']"
      ]
     },
     "execution_count": 173,
     "metadata": {},
     "output_type": "execute_result"
    }
   ],
   "source": [
    "# key=len allows us to pass the len function\n",
    "# into the sorted function as a parameter\n",
    "sorted(['apple', 'fig', 'pear'], key=len)"
   ]
  },
  {
   "cell_type": "code",
   "execution_count": 174,
   "metadata": {
    "collapsed": false
   },
   "outputs": [
    {
     "data": {
      "text/plain": [
       "<function len>"
      ]
     },
     "execution_count": 174,
     "metadata": {},
     "output_type": "execute_result"
    }
   ],
   "source": [
    "len"
   ]
  },
  {
   "cell_type": "code",
   "execution_count": 175,
   "metadata": {
    "collapsed": false
   },
   "outputs": [
    {
     "data": {
      "text/plain": [
       "4302535992"
      ]
     },
     "execution_count": 175,
     "metadata": {},
     "output_type": "execute_result"
    }
   ],
   "source": [
    "id(len)"
   ]
  },
  {
   "cell_type": "code",
   "execution_count": 176,
   "metadata": {
    "collapsed": true
   },
   "outputs": [],
   "source": [
    "string = 'alphabet soup is tasty'"
   ]
  },
  {
   "cell_type": "code",
   "execution_count": 177,
   "metadata": {
    "collapsed": false
   },
   "outputs": [
    {
     "data": {
      "text/plain": [
       "'habet'"
      ]
     },
     "execution_count": 177,
     "metadata": {},
     "output_type": "execute_result"
    }
   ],
   "source": [
    "string[3:8]"
   ]
  },
  {
   "cell_type": "code",
   "execution_count": 178,
   "metadata": {
    "collapsed": false
   },
   "outputs": [
    {
     "data": {
      "text/plain": [
       "'hbtsu '"
      ]
     },
     "execution_count": 178,
     "metadata": {},
     "output_type": "execute_result"
    }
   ],
   "source": [
    "string[3:14:2]"
   ]
  },
  {
   "cell_type": "code",
   "execution_count": 179,
   "metadata": {
    "collapsed": false
   },
   "outputs": [
    {
     "data": {
      "text/plain": [
       "'alphabet soup '"
      ]
     },
     "execution_count": 179,
     "metadata": {},
     "output_type": "execute_result"
    }
   ],
   "source": [
    "string[:14]"
   ]
  },
  {
   "cell_type": "code",
   "execution_count": 180,
   "metadata": {
    "collapsed": false
   },
   "outputs": [
    {
     "data": {
      "text/plain": [
       "'is tasty'"
      ]
     },
     "execution_count": 180,
     "metadata": {},
     "output_type": "execute_result"
    }
   ],
   "source": [
    "string[14:]"
   ]
  },
  {
   "cell_type": "code",
   "execution_count": 181,
   "metadata": {
    "collapsed": false
   },
   "outputs": [
    {
     "data": {
      "text/plain": [
       "'ytsat si puos tebahpla'"
      ]
     },
     "execution_count": 181,
     "metadata": {},
     "output_type": "execute_result"
    }
   ],
   "source": [
    "string[::-1]"
   ]
  },
  {
   "cell_type": "code",
   "execution_count": 182,
   "metadata": {
    "collapsed": false
   },
   "outputs": [
    {
     "data": {
      "text/plain": [
       "['apple', 'olive']"
      ]
     },
     "execution_count": 182,
     "metadata": {},
     "output_type": "execute_result"
    }
   ],
   "source": [
    "food = ['apple', 'banana', 'pear', 'olive']\n",
    "list(filter(lambda x: x[0] in 'aeiou', food))"
   ]
  },
  {
   "cell_type": "code",
   "execution_count": 183,
   "metadata": {
    "collapsed": false
   },
   "outputs": [
    {
     "data": {
      "text/plain": [
       "['apple', 'olive']"
      ]
     },
     "execution_count": 183,
     "metadata": {},
     "output_type": "execute_result"
    }
   ],
   "source": [
    "vowel_foods = [word for word in food\n",
    "                      if word[0] in 'aeiou']\n",
    "vowel_foods"
   ]
  },
  {
   "cell_type": "code",
   "execution_count": 184,
   "metadata": {
    "collapsed": true
   },
   "outputs": [],
   "source": [
    "def last_n_lines(filename, n, pattern=None):\n",
    "    from collections import deque\n",
    "    lines = deque(maxlen=n)\n",
    "    \n",
    "    with open(filename) as f:\n",
    "        for line in f:\n",
    "            lines.append(line)\n",
    "    \n",
    "    if pattern:\n",
    "        return list(filter(lambda x: pattern in x, lines))\n",
    "    else:\n",
    "        return lines"
   ]
  },
  {
   "cell_type": "code",
   "execution_count": 185,
   "metadata": {
    "collapsed": false
   },
   "outputs": [
    {
     "data": {
      "text/plain": [
       "deque(['In leaves no step had trodden black.\\t\\n',\n",
       "       'Oh, I kept the first for another day!\\t\\n',\n",
       "       'Yet knowing how way leads on to way,\\t\\n',\n",
       "       'I doubted if I should ever come back.\\n',\n",
       "       ' \\n',\n",
       "       'I shall be telling this with a sigh\\t\\n',\n",
       "       'Somewhere ages and ages hence:\\t\\n',\n",
       "       'Two roads diverged in a wood, and I—\\t\\n',\n",
       "       'I took the one less traveled by,\\t\\n',\n",
       "       'And that has made all the difference.\\n'])"
      ]
     },
     "execution_count": 185,
     "metadata": {},
     "output_type": "execute_result"
    }
   ],
   "source": [
    "last_n_lines('poem.txt', 10)"
   ]
  },
  {
   "cell_type": "code",
   "execution_count": 186,
   "metadata": {
    "collapsed": false
   },
   "outputs": [
    {
     "data": {
      "text/plain": [
       "['Oh, I kept the first for another day!\\t\\n',\n",
       " 'I took the one less traveled by,\\t\\n',\n",
       " 'And that has made all the difference.\\n']"
      ]
     },
     "execution_count": 186,
     "metadata": {},
     "output_type": "execute_result"
    }
   ],
   "source": [
    "last_n_lines('poem.txt', 10, 'the')"
   ]
  },
  {
   "cell_type": "code",
   "execution_count": 187,
   "metadata": {
    "collapsed": true
   },
   "outputs": [],
   "source": [
    "def counter_wrap(func):\n",
    "    def inner(string):\n",
    "        from collections import Counter\n",
    "        count = Counter(string)\n",
    "        for item in count:\n",
    "            print(item, count[item])\n",
    "        print('     about to execute', func.__name__)\n",
    "        # call the remembered function, with string argument\n",
    "        func(string) \n",
    "    # return the inner function\n",
    "    return inner"
   ]
  },
  {
   "cell_type": "code",
   "execution_count": 188,
   "metadata": {
    "collapsed": false
   },
   "outputs": [],
   "source": [
    "@counter_wrap\n",
    "# printer = counter_wrap(printer)\n",
    "def printer(s):\n",
    "    print(s)"
   ]
  },
  {
   "cell_type": "code",
   "execution_count": 189,
   "metadata": {
    "collapsed": false
   },
   "outputs": [
    {
     "name": "stdout",
     "output_type": "stream",
     "text": [
      "s 1\n",
      "y 3\n",
      "z 1\n",
      "g 1\n",
      "     about to execute printer\n",
      "syzygy\n"
     ]
    }
   ],
   "source": [
    "printer('syzygy')"
   ]
  },
  {
   "cell_type": "code",
   "execution_count": 190,
   "metadata": {
    "collapsed": true
   },
   "outputs": [],
   "source": [
    "# a wrapper/decorator tp ensure args are nonnegative\n",
    "def ensure_positive(func):\n",
    "    # inner function which does the work\n",
    "    def decorator(*args):\n",
    "        # for each arg, make it -arg if it's < 0\n",
    "        #new_args = [max(arg, -arg) for arg in args]\n",
    "        new_args = [-arg if arg < 0 else arg for arg in args]\n",
    "        # now invoke the saved function (func) with NEW arguments\n",
    "        return func(*new_args)\n",
    "    # return a reference to inner function\n",
    "    return decorator"
   ]
  },
  {
   "cell_type": "code",
   "execution_count": 191,
   "metadata": {
    "collapsed": true
   },
   "outputs": [],
   "source": [
    "@ensure_positive\n",
    "def myfunc(x, y, z):\n",
    "    # want all args to be non-negative\n",
    "    # that will happen when this function is decorated\n",
    "    print(x, y, z)"
   ]
  },
  {
   "cell_type": "code",
   "execution_count": 192,
   "metadata": {
    "collapsed": false
   },
   "outputs": [
    {
     "name": "stdout",
     "output_type": "stream",
     "text": [
      "1 2 3\n"
     ]
    }
   ],
   "source": [
    "myfunc(1, 2, 3)"
   ]
  },
  {
   "cell_type": "code",
   "execution_count": 193,
   "metadata": {
    "collapsed": false
   },
   "outputs": [
    {
     "name": "stdout",
     "output_type": "stream",
     "text": [
      "3 1 5\n"
     ]
    }
   ],
   "source": [
    "myfunc(-3, 1, -5)"
   ]
  },
  {
   "cell_type": "code",
   "execution_count": 194,
   "metadata": {
    "collapsed": false
   },
   "outputs": [],
   "source": [
    "# x = y > 0 ? 5 : 7\n",
    "y = 15\n",
    "x = 5 if y > 0 else 7"
   ]
  },
  {
   "cell_type": "code",
   "execution_count": 195,
   "metadata": {
    "collapsed": false
   },
   "outputs": [
    {
     "data": {
      "text/plain": [
       "5"
      ]
     },
     "execution_count": 195,
     "metadata": {},
     "output_type": "execute_result"
    }
   ],
   "source": [
    "x"
   ]
  },
  {
   "cell_type": "code",
   "execution_count": 196,
   "metadata": {
    "collapsed": true
   },
   "outputs": [],
   "source": [
    "def myprint(thing):\n",
    "    print('-' * len(thing), thing, '-' * len(thing), sep='\\n')"
   ]
  },
  {
   "cell_type": "code",
   "execution_count": 197,
   "metadata": {
    "collapsed": false
   },
   "outputs": [
    {
     "name": "stdout",
     "output_type": "stream",
     "text": [
      "-----------\n",
      "hello there\n",
      "-----------\n"
     ]
    }
   ],
   "source": [
    "myprint('hello there')"
   ]
  },
  {
   "cell_type": "code",
   "execution_count": 198,
   "metadata": {
    "collapsed": true
   },
   "outputs": [],
   "source": [
    "class Test(object):\n",
    "    def __init__(self, name):\n",
    "        self.name = name\n",
    "    \n",
    "    def printname(self):\n",
    "        return self.name\n",
    "\n",
    "    @staticmethod\n",
    "    def staticthing():\n",
    "        print('hello')"
   ]
  },
  {
   "cell_type": "code",
   "execution_count": 199,
   "metadata": {
    "collapsed": true
   },
   "outputs": [],
   "source": [
    "t = Test('foo')"
   ]
  },
  {
   "cell_type": "code",
   "execution_count": 200,
   "metadata": {
    "collapsed": false
   },
   "outputs": [
    {
     "data": {
      "text/plain": [
       "'foo'"
      ]
     },
     "execution_count": 200,
     "metadata": {},
     "output_type": "execute_result"
    }
   ],
   "source": [
    "t.printname()"
   ]
  },
  {
   "cell_type": "code",
   "execution_count": 201,
   "metadata": {
    "collapsed": false
   },
   "outputs": [
    {
     "data": {
      "text/plain": [
       "'foo'"
      ]
     },
     "execution_count": 201,
     "metadata": {},
     "output_type": "execute_result"
    }
   ],
   "source": [
    "Test.printname(t)"
   ]
  },
  {
   "cell_type": "code",
   "execution_count": 202,
   "metadata": {
    "collapsed": false
   },
   "outputs": [
    {
     "name": "stdout",
     "output_type": "stream",
     "text": [
      "hello\n"
     ]
    }
   ],
   "source": [
    "t.staticthing()"
   ]
  },
  {
   "cell_type": "code",
   "execution_count": 203,
   "metadata": {
    "collapsed": false
   },
   "outputs": [
    {
     "ename": "TypeError",
     "evalue": "staticthing() takes 0 positional arguments but 1 was given",
     "output_type": "error",
     "traceback": [
      "\u001b[0;31m-------------------------------------------------------------------------\u001b[0m",
      "\u001b[0;31mTypeError\u001b[0m                               Traceback (most recent call last)",
      "\u001b[0;32m<ipython-input-203-0620170b94d3>\u001b[0m in \u001b[0;36m<module>\u001b[0;34m()\u001b[0m\n\u001b[0;32m----> 1\u001b[0;31m \u001b[0mTest\u001b[0m\u001b[0;34m.\u001b[0m\u001b[0mstaticthing\u001b[0m\u001b[0;34m(\u001b[0m\u001b[0;34m\"hello\"\u001b[0m\u001b[0;34m)\u001b[0m\u001b[0;34m\u001b[0m\u001b[0m\n\u001b[0m",
      "\u001b[0;31mTypeError\u001b[0m: staticthing() takes 0 positional arguments but 1 was given"
     ]
    }
   ],
   "source": [
    "Test.staticthing(\"hello\")"
   ]
  },
  {
   "cell_type": "code",
   "execution_count": 204,
   "metadata": {
    "collapsed": false
   },
   "outputs": [
    {
     "ename": "TypeError",
     "evalue": "staticthing() takes 0 positional arguments but 1 was given",
     "output_type": "error",
     "traceback": [
      "\u001b[0;31m-------------------------------------------------------------------------\u001b[0m",
      "\u001b[0;31mTypeError\u001b[0m                               Traceback (most recent call last)",
      "\u001b[0;32m<ipython-input-204-962f0ce30ff8>\u001b[0m in \u001b[0;36m<module>\u001b[0;34m()\u001b[0m\n\u001b[0;32m----> 1\u001b[0;31m \u001b[0mt\u001b[0m\u001b[0;34m.\u001b[0m\u001b[0mstaticthing\u001b[0m\u001b[0;34m(\u001b[0m\u001b[0;34m'hello'\u001b[0m\u001b[0;34m)\u001b[0m\u001b[0;34m\u001b[0m\u001b[0m\n\u001b[0m",
      "\u001b[0;31mTypeError\u001b[0m: staticthing() takes 0 positional arguments but 1 was given"
     ]
    }
   ],
   "source": [
    "t.staticthing('hello')"
   ]
  },
  {
   "cell_type": "code",
   "execution_count": 205,
   "metadata": {
    "collapsed": false
   },
   "outputs": [
    {
     "ename": "TypeError",
     "evalue": "staticthing() takes 0 positional arguments but 2 were given",
     "output_type": "error",
     "traceback": [
      "\u001b[0;31m-------------------------------------------------------------------------\u001b[0m",
      "\u001b[0;31mTypeError\u001b[0m                               Traceback (most recent call last)",
      "\u001b[0;32m<ipython-input-205-e887e30087d5>\u001b[0m in \u001b[0;36m<module>\u001b[0;34m()\u001b[0m\n\u001b[0;32m----> 1\u001b[0;31m \u001b[0mTest\u001b[0m\u001b[0;34m.\u001b[0m\u001b[0mstaticthing\u001b[0m\u001b[0;34m(\u001b[0m\u001b[0mt\u001b[0m\u001b[0;34m,\u001b[0m \u001b[0;34m'hello'\u001b[0m\u001b[0;34m)\u001b[0m\u001b[0;34m\u001b[0m\u001b[0m\n\u001b[0m",
      "\u001b[0;31mTypeError\u001b[0m: staticthing() takes 0 positional arguments but 2 were given"
     ]
    }
   ],
   "source": [
    "Test.staticthing(t, 'hello')"
   ]
  },
  {
   "cell_type": "code",
   "execution_count": 206,
   "metadata": {
    "collapsed": true
   },
   "outputs": [],
   "source": [
    "class Example(object):\n",
    "    __some_data = 'blah'\n",
    "    __how_many = 0\n",
    "    \n",
    "    def __init__(self, val):\n",
    "        print('in init for Example')\n",
    "        self.name = val # instance data\n",
    "        self.__class__.__how_many += 1 # get from object to class\n",
    "        print('__how_many =', self.__class__.__how_many)\n",
    "\n",
    "    def __del__(self):\n",
    "        Example.__how_many -= 1\n",
    "        \n",
    "    # We can use a static (or class) method to get around\n",
    "    # a brittle __init__ that doesn't quite do what we want.\n",
    "    @staticmethod\n",
    "    def list_init(somelist):\n",
    "        '''allow me to send in a list, and \"flatten\" it\n",
    "        into a string with intervening commas'''\n",
    "        obj = Example('')\n",
    "        obj.name = ', '.join(somelist)\n",
    "        return obj\n",
    "    \n",
    "    @classmethod\n",
    "    def get_some_data(cls):\n",
    "        return cls.__some_data"
   ]
  },
  {
   "cell_type": "code",
   "execution_count": 207,
   "metadata": {
    "collapsed": false
   },
   "outputs": [
    {
     "name": "stdout",
     "output_type": "stream",
     "text": [
      "in init for Example\n",
      "__how_many = 1\n",
      "in init for Example\n",
      "__how_many = 2\n"
     ]
    }
   ],
   "source": [
    "e1 = Example('foo')\n",
    "e2 = Example('bar')"
   ]
  },
  {
   "cell_type": "code",
   "execution_count": 208,
   "metadata": {
    "collapsed": false
   },
   "outputs": [
    {
     "data": {
      "text/plain": [
       "'blah'"
      ]
     },
     "execution_count": 208,
     "metadata": {},
     "output_type": "execute_result"
    }
   ],
   "source": [
    "Example.get_some_data()"
   ]
  },
  {
   "cell_type": "code",
   "execution_count": 209,
   "metadata": {
    "collapsed": false
   },
   "outputs": [
    {
     "data": {
      "text/plain": [
       "2"
      ]
     },
     "execution_count": 209,
     "metadata": {},
     "output_type": "execute_result"
    }
   ],
   "source": [
    "Example._Example__how_many"
   ]
  },
  {
   "cell_type": "code",
   "execution_count": 210,
   "metadata": {
    "collapsed": false
   },
   "outputs": [
    {
     "name": "stdout",
     "output_type": "stream",
     "text": [
      "in init for Example\n",
      "__how_many = 3\n"
     ]
    }
   ],
   "source": [
    "e3 = Example.list_init(['a', 'b', 'c'])"
   ]
  },
  {
   "cell_type": "code",
   "execution_count": 211,
   "metadata": {
    "collapsed": false
   },
   "outputs": [
    {
     "data": {
      "text/plain": [
       "'a, b, c'"
      ]
     },
     "execution_count": 211,
     "metadata": {},
     "output_type": "execute_result"
    }
   ],
   "source": [
    "e3.name"
   ]
  },
  {
   "cell_type": "code",
   "execution_count": 212,
   "metadata": {
    "collapsed": true
   },
   "outputs": [],
   "source": [
    "class Person(object):\n",
    "    # class data, owned by the class and shared by all instances\n",
    "    __instance_count = 0\n",
    "    __allnames = []\n",
    "    \n",
    "    def __init__(self, name):\n",
    "        self.name = name # instance data, specific to the instance\n",
    "        # once I create a new object, I want to increment the object\n",
    "        # count inside the class, and also add the object's name to\n",
    "        # the list that lives inside the class\n",
    "        self.__class__.__instance_count += 1\n",
    "        self.__class__.__allnames.append(name)\n",
    "        \n",
    "    # this method returns class data, so it should be a class method\n",
    "    @classmethod\n",
    "    def count(cls):\n",
    "        return cls.__instance_count\n",
    "    \n",
    "    # this method returns class data, so it should be a class method\n",
    "    @classmethod\n",
    "    def names(cls):\n",
    "        return cls.__allnames\n",
    "    \n",
    "    # this method is called when deleting an object, so it has to be\n",
    "    # an instance method, but it \"reaches up into the class\" to change\n",
    "    # class data\n",
    "    def __del__(self):\n",
    "        self.__class__.__allnames.remove(self.name)\n",
    "        self.__class__.__instance_count -= 1"
   ]
  },
  {
   "cell_type": "code",
   "execution_count": 213,
   "metadata": {
    "collapsed": false
   },
   "outputs": [],
   "source": [
    "p1 = Person('Marc Benioff')\n",
    "p2 = Person('Sandeep Kumar')\n",
    "p3 = Person('Lakshmi Narayana')"
   ]
  },
  {
   "cell_type": "code",
   "execution_count": 214,
   "metadata": {
    "collapsed": false
   },
   "outputs": [
    {
     "data": {
      "text/plain": [
       "3"
      ]
     },
     "execution_count": 214,
     "metadata": {},
     "output_type": "execute_result"
    }
   ],
   "source": [
    "Person.count()"
   ]
  },
  {
   "cell_type": "code",
   "execution_count": 215,
   "metadata": {
    "collapsed": false
   },
   "outputs": [
    {
     "data": {
      "text/plain": [
       "['Marc Benioff', 'Sandeep Kumar', 'Lakshmi Narayana']"
      ]
     },
     "execution_count": 215,
     "metadata": {},
     "output_type": "execute_result"
    }
   ],
   "source": [
    "Person.names()"
   ]
  },
  {
   "cell_type": "code",
   "execution_count": 216,
   "metadata": {
    "collapsed": false
   },
   "outputs": [],
   "source": [
    "del p1"
   ]
  },
  {
   "cell_type": "code",
   "execution_count": 217,
   "metadata": {
    "collapsed": false
   },
   "outputs": [
    {
     "data": {
      "text/plain": [
       "['Sandeep Kumar', 'Lakshmi Narayana']"
      ]
     },
     "execution_count": 217,
     "metadata": {},
     "output_type": "execute_result"
    }
   ],
   "source": [
    "Person.names()"
   ]
  },
  {
   "cell_type": "code",
   "execution_count": 218,
   "metadata": {
    "collapsed": false
   },
   "outputs": [
    {
     "data": {
      "text/plain": [
       "2"
      ]
     },
     "execution_count": 218,
     "metadata": {},
     "output_type": "execute_result"
    }
   ],
   "source": [
    "Person.count()"
   ]
  },
  {
   "cell_type": "code",
   "execution_count": 1,
   "metadata": {
    "collapsed": false
   },
   "outputs": [
    {
     "name": "stdout",
     "output_type": "stream",
     "text": [
      "Database server processing request for 10 seconds\n",
      "Database server processing request for 8 seconds\n",
      "Enter a word: hello\n",
      "current list: ['hello']\n",
      "Database server processing request for 1 seconds\n",
      "Enter a word: quit\n",
      "DB server received termination request.\n"
     ]
    }
   ],
   "source": [
    "from threading import Thread\n",
    "import random\n",
    "import time\n",
    "\n",
    "class DatabaseServer(Thread):\n",
    "    def __init__(self):\n",
    "        self.stopped = False\n",
    "        super().__init__()\n",
    "        \n",
    "    def run(self):\n",
    "        while not self.stopped:\n",
    "            seconds = random.randint(1, 10)\n",
    "            # print out that you are \"processing a DB reuqest\"\n",
    "            print('Database server processing request for %d seconds' % seconds)\n",
    "            # sleep for a random interval\n",
    "            time.sleep(seconds)\n",
    "        print('DB server received termination request.')\n",
    "\n",
    "mylist = []\n",
    "my_db_sever = DatabaseServer()\n",
    "my_db_sever.start()\n",
    "\n",
    "while True:\n",
    "    word = input('Enter a word: ')\n",
    "    if word == 'quit':\n",
    "        my_db_sever.stopped = True\n",
    "        break\n",
    "    else:\n",
    "        mylist.append(word)\n",
    "        print('current list:', mylist)"
   ]
  },
  {
   "cell_type": "markdown",
   "metadata": {},
   "source": [
    "# Good Python Reference Book\n",
    "* Fluent Python by Luciano Ramalho"
   ]
  },
  {
   "cell_type": "code",
   "execution_count": 221,
   "metadata": {
    "collapsed": false
   },
   "outputs": [
    {
     "name": "stdout",
     "output_type": "stream",
     "text": [
      "1! is 1\n",
      "2! is 2\n",
      "3! is 6\n",
      "4! is 24\n",
      "5! is 120\n",
      "6! is 720\n",
      "7! is 5040\n",
      "8! is 40320\n",
      "9! is 362880\n",
      "10! is 3628800\n",
      "11! is 39916800\n",
      "12! is 479001600\n",
      "13! is 6227020800\n",
      "14! is 87178291200\n",
      "15! is 1307674368000\n",
      "16! is 20922789888000\n",
      "17! is 355687428096000\n",
      "18! is 6402373705728000\n",
      "19! is 121645100408832000\n",
      "20! is 2432902008176640000\n",
      "21! is 51090942171709440000\n",
      "22! is 1124000727777607680000\n",
      "23! is 25852016738884976640000\n",
      "24! is 620448401733239439360000\n",
      "25! is 15511210043330985984000000\n",
      "26! is 403291461126605635584000000\n",
      "27! is 10888869450418352160768000000\n",
      "28! is 304888344611713860501504000000\n",
      "29! is 8841761993739701954543616000000\n",
      "30! is 265252859812191058636308480000000\n",
      "31! is 8222838654177922817725562880000000\n",
      "32! is 263130836933693530167218012160000000\n",
      "33! is 8683317618811886495518194401280000000\n",
      "34! is 295232799039604140847618609643520000000\n",
      "35! is 10333147966386144929666651337523200000000\n",
      "36! is 371993326789901217467999448150835200000000\n",
      "37! is 13763753091226345046315979581580902400000000\n",
      "38! is 523022617466601111760007224100074291200000000\n",
      "39! is 20397882081197443358640281739902897356800000000\n",
      "40! is 815915283247897734345611269596115894272000000000\n",
      "41! is 33452526613163807108170062053440751665152000000000\n",
      "42! is 1405006117752879898543142606244511569936384000000000\n",
      "43! is 60415263063373835637355132068513997507264512000000000\n",
      "44! is 2658271574788448768043625811014615890319638528000000000\n",
      "45! is 119622220865480194561963161495657715064383733760000000000\n",
      "46! is 5502622159812088949850305428800254892961651752960000000000\n",
      "47! is 258623241511168180642964355153611979969197632389120000000000\n",
      "48! is 12413915592536072670862289047373375038521486354677760000000000\n"
     ]
    }
   ],
   "source": [
    "# multiprocessing lab\n",
    "import random\n",
    "import math\n",
    "import time\n",
    "import os\n",
    "from multiprocessing.pool import Pool\n",
    "\n",
    "# use math.factorial() instead\n",
    "def factorial(n):\n",
    "    if n == 1:\n",
    "        return 1\n",
    "    else:\n",
    "        return n * factorial(n - 1)\n",
    "\n",
    "if __name__ == '__main__':\n",
    "    pool = Pool()\n",
    "\n",
    "    work_to_be_done = list(range(1, 49))\n",
    "    results = pool.map(factorial, work_to_be_done)\n",
    "    \n",
    "    for value, fact in zip(work_to_be_done, results):\n",
    "        print(\"{}! is {}\".format(value, fact))"
   ]
  },
  {
   "cell_type": "code",
   "execution_count": 222,
   "metadata": {
    "collapsed": false
   },
   "outputs": [
    {
     "ename": "TypeError",
     "evalue": "can only concatenate list (not \"int\") to list",
     "output_type": "error",
     "traceback": [
      "\u001b[0;31m-------------------------------------------------------------------------\u001b[0m",
      "\u001b[0;31mTypeError\u001b[0m                               Traceback (most recent call last)",
      "\u001b[0;32m<ipython-input-222-b5c1c35a8cdc>\u001b[0m in \u001b[0;36m<module>\u001b[0;34m()\u001b[0m\n\u001b[0;32m----> 1\u001b[0;31m \u001b[0;34m[\u001b[0m\u001b[0;36m1\u001b[0m\u001b[0;34m,\u001b[0m \u001b[0;36m2\u001b[0m\u001b[0;34m,\u001b[0m \u001b[0;36m3\u001b[0m\u001b[0;34m]\u001b[0m \u001b[0;34m+\u001b[0m \u001b[0;36m4\u001b[0m\u001b[0;34m\u001b[0m\u001b[0m\n\u001b[0m",
      "\u001b[0;31mTypeError\u001b[0m: can only concatenate list (not \"int\") to list"
     ]
    }
   ],
   "source": [
    "[1, 2, 3] + 4"
   ]
  },
  {
   "cell_type": "code",
   "execution_count": 223,
   "metadata": {
    "collapsed": false
   },
   "outputs": [
    {
     "data": {
      "text/plain": [
       "[1, 2, 3, 4]"
      ]
     },
     "execution_count": 223,
     "metadata": {},
     "output_type": "execute_result"
    }
   ],
   "source": [
    "[1, 2, 3] + [4]"
   ]
  },
  {
   "cell_type": "code",
   "execution_count": 11,
   "metadata": {
    "collapsed": false
   },
   "outputs": [
    {
     "name": "stdout",
     "output_type": "stream",
     "text": [
      "[1, 2, 3, 4, 5, 6, 7, 8, 9]\n"
     ]
    }
   ],
   "source": [
    "%%python\n",
    "print(range(1, 10))"
   ]
  },
  {
   "cell_type": "code",
   "execution_count": 12,
   "metadata": {
    "collapsed": false
   },
   "outputs": [
    {
     "name": "stdout",
     "output_type": "stream",
     "text": [
      "range(1, 10)\n"
     ]
    }
   ],
   "source": [
    "print(range(1, 10))"
   ]
  },
  {
   "cell_type": "code",
   "execution_count": 14,
   "metadata": {
    "collapsed": false
   },
   "outputs": [
    {
     "data": {
      "text/html": [
       "<div>\n",
       "<table border=\"1\" class=\"dataframe\">\n",
       "  <thead>\n",
       "    <tr style=\"text-align: right;\">\n",
       "      <th></th>\n",
       "      <th>DATE</th>\n",
       "      <th>max_tempF</th>\n",
       "      <th>mean_tempF</th>\n",
       "      <th>min_tempF</th>\n",
       "      <th>max_dew_pointF</th>\n",
       "      <th>mean_dew_pointF</th>\n",
       "      <th>min_dew_pointF</th>\n",
       "      <th>max_humidity</th>\n",
       "      <th>mean_humidity</th>\n",
       "      <th>min_humidity</th>\n",
       "      <th>...</th>\n",
       "      <th>Max VisibilityMiles</th>\n",
       "      <th>Mean VisibilityMiles</th>\n",
       "      <th>Min VisibilityMiles</th>\n",
       "      <th>Max Wind SpeedMPH</th>\n",
       "      <th>Mean Wind SpeedMPH</th>\n",
       "      <th>Max Gust SpeedMPH</th>\n",
       "      <th>PrecipitationIn</th>\n",
       "      <th>CloudCover</th>\n",
       "      <th>Events</th>\n",
       "      <th>WindDirDegrees</th>\n",
       "    </tr>\n",
       "  </thead>\n",
       "  <tbody>\n",
       "    <tr>\n",
       "      <th>0</th>\n",
       "      <td>2012-3-10</td>\n",
       "      <td>56</td>\n",
       "      <td>40</td>\n",
       "      <td>24</td>\n",
       "      <td>24</td>\n",
       "      <td>20</td>\n",
       "      <td>16</td>\n",
       "      <td>74</td>\n",
       "      <td>50</td>\n",
       "      <td>26</td>\n",
       "      <td>...</td>\n",
       "      <td>10</td>\n",
       "      <td>10</td>\n",
       "      <td>10</td>\n",
       "      <td>13</td>\n",
       "      <td>6</td>\n",
       "      <td>17.0</td>\n",
       "      <td>0.00</td>\n",
       "      <td>0</td>\n",
       "      <td>NaN</td>\n",
       "      <td>138</td>\n",
       "    </tr>\n",
       "    <tr>\n",
       "      <th>1</th>\n",
       "      <td>2012-3-11</td>\n",
       "      <td>67</td>\n",
       "      <td>49</td>\n",
       "      <td>30</td>\n",
       "      <td>43</td>\n",
       "      <td>31</td>\n",
       "      <td>24</td>\n",
       "      <td>78</td>\n",
       "      <td>53</td>\n",
       "      <td>28</td>\n",
       "      <td>...</td>\n",
       "      <td>10</td>\n",
       "      <td>10</td>\n",
       "      <td>10</td>\n",
       "      <td>22</td>\n",
       "      <td>7</td>\n",
       "      <td>32.0</td>\n",
       "      <td>0.00</td>\n",
       "      <td>1</td>\n",
       "      <td>Rain</td>\n",
       "      <td>163</td>\n",
       "    </tr>\n",
       "    <tr>\n",
       "      <th>2</th>\n",
       "      <td>2012-3-12</td>\n",
       "      <td>71</td>\n",
       "      <td>62</td>\n",
       "      <td>53</td>\n",
       "      <td>59</td>\n",
       "      <td>55</td>\n",
       "      <td>43</td>\n",
       "      <td>90</td>\n",
       "      <td>76</td>\n",
       "      <td>61</td>\n",
       "      <td>...</td>\n",
       "      <td>10</td>\n",
       "      <td>10</td>\n",
       "      <td>6</td>\n",
       "      <td>24</td>\n",
       "      <td>14</td>\n",
       "      <td>36.0</td>\n",
       "      <td>0.03</td>\n",
       "      <td>6</td>\n",
       "      <td>Rain</td>\n",
       "      <td>190</td>\n",
       "    </tr>\n",
       "    <tr>\n",
       "      <th>3</th>\n",
       "      <td>2012-3-13</td>\n",
       "      <td>76</td>\n",
       "      <td>63</td>\n",
       "      <td>50</td>\n",
       "      <td>57</td>\n",
       "      <td>53</td>\n",
       "      <td>47</td>\n",
       "      <td>93</td>\n",
       "      <td>66</td>\n",
       "      <td>38</td>\n",
       "      <td>...</td>\n",
       "      <td>10</td>\n",
       "      <td>10</td>\n",
       "      <td>4</td>\n",
       "      <td>16</td>\n",
       "      <td>5</td>\n",
       "      <td>24.0</td>\n",
       "      <td>0.00</td>\n",
       "      <td>0</td>\n",
       "      <td>NaN</td>\n",
       "      <td>242</td>\n",
       "    </tr>\n",
       "    <tr>\n",
       "      <th>4</th>\n",
       "      <td>2012-3-14</td>\n",
       "      <td>80</td>\n",
       "      <td>62</td>\n",
       "      <td>44</td>\n",
       "      <td>58</td>\n",
       "      <td>52</td>\n",
       "      <td>43</td>\n",
       "      <td>93</td>\n",
       "      <td>68</td>\n",
       "      <td>42</td>\n",
       "      <td>...</td>\n",
       "      <td>10</td>\n",
       "      <td>10</td>\n",
       "      <td>10</td>\n",
       "      <td>16</td>\n",
       "      <td>6</td>\n",
       "      <td>22.0</td>\n",
       "      <td>0.00</td>\n",
       "      <td>0</td>\n",
       "      <td>NaN</td>\n",
       "      <td>202</td>\n",
       "    </tr>\n",
       "  </tbody>\n",
       "</table>\n",
       "<p>5 rows × 23 columns</p>\n",
       "</div>"
      ],
      "text/plain": [
       "        DATE  max_tempF  mean_tempF  min_tempF  max_dew_pointF  \\\n",
       "0  2012-3-10         56          40         24              24   \n",
       "1  2012-3-11         67          49         30              43   \n",
       "2  2012-3-12         71          62         53              59   \n",
       "3  2012-3-13         76          63         50              57   \n",
       "4  2012-3-14         80          62         44              58   \n",
       "\n",
       "   mean_dew_pointF  min_dew_pointF  max_humidity  mean_humidity  min_humidity  \\\n",
       "0               20              16            74             50            26   \n",
       "1               31              24            78             53            28   \n",
       "2               55              43            90             76            61   \n",
       "3               53              47            93             66            38   \n",
       "4               52              43            93             68            42   \n",
       "\n",
       "        ...          Max VisibilityMiles   Mean VisibilityMiles  \\\n",
       "0       ...                           10                     10   \n",
       "1       ...                           10                     10   \n",
       "2       ...                           10                     10   \n",
       "3       ...                           10                     10   \n",
       "4       ...                           10                     10   \n",
       "\n",
       "    Min VisibilityMiles   Max Wind SpeedMPH   Mean Wind SpeedMPH  \\\n",
       "0                    10                  13                    6   \n",
       "1                    10                  22                    7   \n",
       "2                     6                  24                   14   \n",
       "3                     4                  16                    5   \n",
       "4                    10                  16                    6   \n",
       "\n",
       "    Max Gust SpeedMPH  PrecipitationIn   CloudCover   Events   WindDirDegrees  \n",
       "0                17.0             0.00            0      NaN              138  \n",
       "1                32.0             0.00            1     Rain              163  \n",
       "2                36.0             0.03            6     Rain              190  \n",
       "3                24.0             0.00            0      NaN              242  \n",
       "4                22.0             0.00            0      NaN              202  \n",
       "\n",
       "[5 rows x 23 columns]"
      ]
     },
     "execution_count": 14,
     "metadata": {},
     "output_type": "execute_result"
    }
   ],
   "source": [
    "import pandas as pd\n",
    "\n",
    "# read the weather data\n",
    "# display first 10 rows–use the .head() function\n",
    "# weather = pd.read_csv('http://bit.ly/1PL3X6t')\n",
    "weather = pd.read_csv('weather.csv')\n",
    "weather.head()"
   ]
  },
  {
   "cell_type": "code",
   "execution_count": 15,
   "metadata": {
    "collapsed": false
   },
   "outputs": [
    {
     "data": {
      "text/plain": [
       "DATE\n",
       "2012-3-10    0.00\n",
       "2012-3-11    0.00\n",
       "2012-3-12    0.03\n",
       "2012-3-13    0.00\n",
       "2012-3-14    0.00\n",
       "2012-3-15    0.04\n",
       "2012-3-16    0.00\n",
       "2012-3-17    0.00\n",
       "2012-3-18    0.00\n",
       "2012-3-19    0.00\n",
       "2012-3-20    0.00\n",
       "2012-3-21    0.00\n",
       "2012-3-22    0.14\n",
       "2012-3-23    0.86\n",
       "2012-3-24    0.06\n",
       "2012-3-25    0.00\n",
       "2012-3-26    0.00\n",
       "2012-3-27    0.00\n",
       "2012-3-28    0.00\n",
       "2012-3-29    0.00\n",
       "2012-3-30    0.01\n",
       "2012-3-31    0.00\n",
       "2012-4-1     0.51\n",
       "2012-4-2     0.01\n",
       "2012-4-3     0.00\n",
       "2012-4-4     0.01\n",
       "2012-4-5     0.69\n",
       "2012-4-6     0.00\n",
       "2012-4-7     0.00\n",
       "2012-4-8     0.00\n",
       "             ... \n",
       "2013-2-9     0.00\n",
       "2013-2-10    0.27\n",
       "2013-2-11    0.00\n",
       "2013-2-12    0.00\n",
       "2013-2-13    0.00\n",
       "2013-2-14    0.00\n",
       "2013-2-15    0.00\n",
       "2013-2-16    0.00\n",
       "2013-2-17    0.00\n",
       "2013-2-18    0.39\n",
       "2013-2-19    0.10\n",
       "2013-2-20    0.00\n",
       "2013-2-21    0.30\n",
       "2013-2-22    0.03\n",
       "2013-2-23    0.00\n",
       "2013-2-24    0.00\n",
       "2013-2-25    0.00\n",
       "2013-2-26    1.17\n",
       "2013-2-27    0.05\n",
       "2013-2-28    0.01\n",
       "2013-3-1     0.03\n",
       "2013-3-2     0.00\n",
       "2013-3-3     0.00\n",
       "2013-3-4     0.00\n",
       "2013-3-5     0.26\n",
       "2013-3-6     0.04\n",
       "2013-3-7     0.00\n",
       "2013-3-8     0.00\n",
       "2013-3-9     0.00\n",
       "2013-3-10    0.00\n",
       "Name: PrecipitationIn, dtype: float64"
      ]
     },
     "execution_count": 15,
     "metadata": {},
     "output_type": "execute_result"
    }
   ],
   "source": [
    "# set the index of weather to be DATE\n",
    "# examine the column PrecipitationIn (precipitation in inches by date)\n",
    "\n",
    "weather.set_index('DATE', inplace=True)\n",
    "weather['PrecipitationIn']"
   ]
  },
  {
   "cell_type": "code",
   "execution_count": 19,
   "metadata": {
    "collapsed": false
   },
   "outputs": [
    {
     "data": {
      "text/plain": [
       "35.460000000000001"
      ]
     },
     "execution_count": 19,
     "metadata": {},
     "output_type": "execute_result"
    }
   ],
   "source": [
    "# determine the total amount of precipitation for the entire dataset (there is a .sum() function)\n",
    "weather['PrecipitationIn'].sum()"
   ]
  },
  {
   "cell_type": "code",
   "execution_count": 17,
   "metadata": {
    "collapsed": false
   },
   "outputs": [
    {
     "data": {
      "text/plain": [
       "2.5499999999999994"
      ]
     },
     "execution_count": 17,
     "metadata": {},
     "output_type": "execute_result"
    }
   ],
   "source": [
    "# determine the total amount of precipitation for the month of February 2013\n",
    "weather['PrecipitationIn']['2013-2-1':'2013-2-28'].sum()"
   ]
  },
  {
   "cell_type": "code",
   "execution_count": 18,
   "metadata": {
    "collapsed": false
   },
   "outputs": [
    {
     "data": {
      "text/html": [
       "<div>\n",
       "<table border=\"1\" class=\"dataframe\">\n",
       "  <thead>\n",
       "    <tr style=\"text-align: right;\">\n",
       "      <th></th>\n",
       "      <th>max_tempF</th>\n",
       "      <th>mean_tempF</th>\n",
       "      <th>min_tempF</th>\n",
       "      <th>max_dew_pointF</th>\n",
       "      <th>mean_dew_pointF</th>\n",
       "      <th>min_dew_pointF</th>\n",
       "      <th>max_humidity</th>\n",
       "      <th>mean_humidity</th>\n",
       "      <th>min_humidity</th>\n",
       "      <th>Max Sea Level PressureIn</th>\n",
       "      <th>...</th>\n",
       "      <th>Max VisibilityMiles</th>\n",
       "      <th>Mean VisibilityMiles</th>\n",
       "      <th>Min VisibilityMiles</th>\n",
       "      <th>Max Wind SpeedMPH</th>\n",
       "      <th>Mean Wind SpeedMPH</th>\n",
       "      <th>Max Gust SpeedMPH</th>\n",
       "      <th>PrecipitationIn</th>\n",
       "      <th>CloudCover</th>\n",
       "      <th>Events</th>\n",
       "      <th>WindDirDegrees</th>\n",
       "    </tr>\n",
       "    <tr>\n",
       "      <th>DATE</th>\n",
       "      <th></th>\n",
       "      <th></th>\n",
       "      <th></th>\n",
       "      <th></th>\n",
       "      <th></th>\n",
       "      <th></th>\n",
       "      <th></th>\n",
       "      <th></th>\n",
       "      <th></th>\n",
       "      <th></th>\n",
       "      <th></th>\n",
       "      <th></th>\n",
       "      <th></th>\n",
       "      <th></th>\n",
       "      <th></th>\n",
       "      <th></th>\n",
       "      <th></th>\n",
       "      <th></th>\n",
       "      <th></th>\n",
       "      <th></th>\n",
       "      <th></th>\n",
       "    </tr>\n",
       "  </thead>\n",
       "  <tbody>\n",
       "    <tr>\n",
       "      <th>2012-3-12</th>\n",
       "      <td>71</td>\n",
       "      <td>62</td>\n",
       "      <td>53</td>\n",
       "      <td>59</td>\n",
       "      <td>55</td>\n",
       "      <td>43</td>\n",
       "      <td>90</td>\n",
       "      <td>76</td>\n",
       "      <td>61</td>\n",
       "      <td>30.13</td>\n",
       "      <td>...</td>\n",
       "      <td>10</td>\n",
       "      <td>10</td>\n",
       "      <td>6</td>\n",
       "      <td>24</td>\n",
       "      <td>14</td>\n",
       "      <td>36.0</td>\n",
       "      <td>0.03</td>\n",
       "      <td>6</td>\n",
       "      <td>Rain</td>\n",
       "      <td>190</td>\n",
       "    </tr>\n",
       "    <tr>\n",
       "      <th>2012-3-15</th>\n",
       "      <td>79</td>\n",
       "      <td>69</td>\n",
       "      <td>58</td>\n",
       "      <td>61</td>\n",
       "      <td>58</td>\n",
       "      <td>53</td>\n",
       "      <td>90</td>\n",
       "      <td>69</td>\n",
       "      <td>48</td>\n",
       "      <td>30.13</td>\n",
       "      <td>...</td>\n",
       "      <td>10</td>\n",
       "      <td>10</td>\n",
       "      <td>10</td>\n",
       "      <td>31</td>\n",
       "      <td>10</td>\n",
       "      <td>41.0</td>\n",
       "      <td>0.04</td>\n",
       "      <td>3</td>\n",
       "      <td>Rain-Thunderstorm</td>\n",
       "      <td>209</td>\n",
       "    </tr>\n",
       "    <tr>\n",
       "      <th>2012-3-22</th>\n",
       "      <td>81</td>\n",
       "      <td>69</td>\n",
       "      <td>57</td>\n",
       "      <td>63</td>\n",
       "      <td>57</td>\n",
       "      <td>51</td>\n",
       "      <td>87</td>\n",
       "      <td>65</td>\n",
       "      <td>42</td>\n",
       "      <td>30.11</td>\n",
       "      <td>...</td>\n",
       "      <td>10</td>\n",
       "      <td>10</td>\n",
       "      <td>2</td>\n",
       "      <td>31</td>\n",
       "      <td>4</td>\n",
       "      <td>41.0</td>\n",
       "      <td>0.14</td>\n",
       "      <td>3</td>\n",
       "      <td>Rain</td>\n",
       "      <td>159</td>\n",
       "    </tr>\n",
       "    <tr>\n",
       "      <th>2012-3-23</th>\n",
       "      <td>73</td>\n",
       "      <td>64</td>\n",
       "      <td>55</td>\n",
       "      <td>61</td>\n",
       "      <td>58</td>\n",
       "      <td>54</td>\n",
       "      <td>97</td>\n",
       "      <td>79</td>\n",
       "      <td>61</td>\n",
       "      <td>30.03</td>\n",
       "      <td>...</td>\n",
       "      <td>10</td>\n",
       "      <td>9</td>\n",
       "      <td>2</td>\n",
       "      <td>21</td>\n",
       "      <td>6</td>\n",
       "      <td>24.0</td>\n",
       "      <td>0.86</td>\n",
       "      <td>7</td>\n",
       "      <td>Rain-Thunderstorm</td>\n",
       "      <td>129</td>\n",
       "    </tr>\n",
       "    <tr>\n",
       "      <th>2012-3-24</th>\n",
       "      <td>65</td>\n",
       "      <td>56</td>\n",
       "      <td>46</td>\n",
       "      <td>54</td>\n",
       "      <td>49</td>\n",
       "      <td>43</td>\n",
       "      <td>100</td>\n",
       "      <td>80</td>\n",
       "      <td>48</td>\n",
       "      <td>29.88</td>\n",
       "      <td>...</td>\n",
       "      <td>10</td>\n",
       "      <td>8</td>\n",
       "      <td>0</td>\n",
       "      <td>12</td>\n",
       "      <td>5</td>\n",
       "      <td>14.0</td>\n",
       "      <td>0.06</td>\n",
       "      <td>5</td>\n",
       "      <td>Fog-Rain</td>\n",
       "      <td>222</td>\n",
       "    </tr>\n",
       "    <tr>\n",
       "      <th>2012-3-30</th>\n",
       "      <td>81</td>\n",
       "      <td>66</td>\n",
       "      <td>51</td>\n",
       "      <td>61</td>\n",
       "      <td>50</td>\n",
       "      <td>42</td>\n",
       "      <td>78</td>\n",
       "      <td>59</td>\n",
       "      <td>39</td>\n",
       "      <td>29.93</td>\n",
       "      <td>...</td>\n",
       "      <td>10</td>\n",
       "      <td>10</td>\n",
       "      <td>10</td>\n",
       "      <td>25</td>\n",
       "      <td>11</td>\n",
       "      <td>37.0</td>\n",
       "      <td>0.01</td>\n",
       "      <td>4</td>\n",
       "      <td>Rain-Thunderstorm</td>\n",
       "      <td>182</td>\n",
       "    </tr>\n",
       "    <tr>\n",
       "      <th>2012-4-1</th>\n",
       "      <td>79</td>\n",
       "      <td>64</td>\n",
       "      <td>48</td>\n",
       "      <td>62</td>\n",
       "      <td>52</td>\n",
       "      <td>44</td>\n",
       "      <td>96</td>\n",
       "      <td>75</td>\n",
       "      <td>54</td>\n",
       "      <td>29.89</td>\n",
       "      <td>...</td>\n",
       "      <td>10</td>\n",
       "      <td>6</td>\n",
       "      <td>1</td>\n",
       "      <td>24</td>\n",
       "      <td>7</td>\n",
       "      <td>31.0</td>\n",
       "      <td>0.51</td>\n",
       "      <td>4</td>\n",
       "      <td>Rain-Thunderstorm</td>\n",
       "      <td>169</td>\n",
       "    </tr>\n",
       "    <tr>\n",
       "      <th>2012-4-2</th>\n",
       "      <td>68</td>\n",
       "      <td>62</td>\n",
       "      <td>55</td>\n",
       "      <td>60</td>\n",
       "      <td>51</td>\n",
       "      <td>45</td>\n",
       "      <td>97</td>\n",
       "      <td>73</td>\n",
       "      <td>48</td>\n",
       "      <td>29.90</td>\n",
       "      <td>...</td>\n",
       "      <td>10</td>\n",
       "      <td>9</td>\n",
       "      <td>5</td>\n",
       "      <td>16</td>\n",
       "      <td>9</td>\n",
       "      <td>21.0</td>\n",
       "      <td>0.01</td>\n",
       "      <td>3</td>\n",
       "      <td>NaN</td>\n",
       "      <td>109</td>\n",
       "    </tr>\n",
       "    <tr>\n",
       "      <th>2012-4-4</th>\n",
       "      <td>68</td>\n",
       "      <td>62</td>\n",
       "      <td>55</td>\n",
       "      <td>59</td>\n",
       "      <td>54</td>\n",
       "      <td>42</td>\n",
       "      <td>90</td>\n",
       "      <td>74</td>\n",
       "      <td>57</td>\n",
       "      <td>29.82</td>\n",
       "      <td>...</td>\n",
       "      <td>10</td>\n",
       "      <td>8</td>\n",
       "      <td>3</td>\n",
       "      <td>15</td>\n",
       "      <td>7</td>\n",
       "      <td>18.0</td>\n",
       "      <td>0.01</td>\n",
       "      <td>6</td>\n",
       "      <td>Rain-Thunderstorm</td>\n",
       "      <td>42</td>\n",
       "    </tr>\n",
       "    <tr>\n",
       "      <th>2012-4-5</th>\n",
       "      <td>61</td>\n",
       "      <td>53</td>\n",
       "      <td>44</td>\n",
       "      <td>43</td>\n",
       "      <td>35</td>\n",
       "      <td>30</td>\n",
       "      <td>92</td>\n",
       "      <td>64</td>\n",
       "      <td>36</td>\n",
       "      <td>30.01</td>\n",
       "      <td>...</td>\n",
       "      <td>10</td>\n",
       "      <td>9</td>\n",
       "      <td>2</td>\n",
       "      <td>20</td>\n",
       "      <td>12</td>\n",
       "      <td>28.0</td>\n",
       "      <td>0.69</td>\n",
       "      <td>3</td>\n",
       "      <td>Rain</td>\n",
       "      <td>66</td>\n",
       "    </tr>\n",
       "    <tr>\n",
       "      <th>2012-4-14</th>\n",
       "      <td>67</td>\n",
       "      <td>59</td>\n",
       "      <td>50</td>\n",
       "      <td>59</td>\n",
       "      <td>52</td>\n",
       "      <td>38</td>\n",
       "      <td>100</td>\n",
       "      <td>76</td>\n",
       "      <td>51</td>\n",
       "      <td>30.10</td>\n",
       "      <td>...</td>\n",
       "      <td>10</td>\n",
       "      <td>5</td>\n",
       "      <td>1</td>\n",
       "      <td>18</td>\n",
       "      <td>7</td>\n",
       "      <td>25.0</td>\n",
       "      <td>1.45</td>\n",
       "      <td>7</td>\n",
       "      <td>Rain-Thunderstorm</td>\n",
       "      <td>176</td>\n",
       "    </tr>\n",
       "    <tr>\n",
       "      <th>2012-4-16</th>\n",
       "      <td>73</td>\n",
       "      <td>61</td>\n",
       "      <td>48</td>\n",
       "      <td>62</td>\n",
       "      <td>52</td>\n",
       "      <td>43</td>\n",
       "      <td>97</td>\n",
       "      <td>75</td>\n",
       "      <td>52</td>\n",
       "      <td>30.23</td>\n",
       "      <td>...</td>\n",
       "      <td>10</td>\n",
       "      <td>9</td>\n",
       "      <td>4</td>\n",
       "      <td>30</td>\n",
       "      <td>12</td>\n",
       "      <td>43.0</td>\n",
       "      <td>0.38</td>\n",
       "      <td>5</td>\n",
       "      <td>Rain</td>\n",
       "      <td>233</td>\n",
       "    </tr>\n",
       "    <tr>\n",
       "      <th>2012-4-20</th>\n",
       "      <td>73</td>\n",
       "      <td>58</td>\n",
       "      <td>43</td>\n",
       "      <td>53</td>\n",
       "      <td>47</td>\n",
       "      <td>41</td>\n",
       "      <td>93</td>\n",
       "      <td>70</td>\n",
       "      <td>47</td>\n",
       "      <td>29.89</td>\n",
       "      <td>...</td>\n",
       "      <td>10</td>\n",
       "      <td>9</td>\n",
       "      <td>2</td>\n",
       "      <td>21</td>\n",
       "      <td>9</td>\n",
       "      <td>31.0</td>\n",
       "      <td>0.19</td>\n",
       "      <td>5</td>\n",
       "      <td>Rain</td>\n",
       "      <td>273</td>\n",
       "    </tr>\n",
       "    <tr>\n",
       "      <th>2012-4-25</th>\n",
       "      <td>73</td>\n",
       "      <td>60</td>\n",
       "      <td>47</td>\n",
       "      <td>61</td>\n",
       "      <td>53</td>\n",
       "      <td>46</td>\n",
       "      <td>100</td>\n",
       "      <td>77</td>\n",
       "      <td>53</td>\n",
       "      <td>29.75</td>\n",
       "      <td>...</td>\n",
       "      <td>10</td>\n",
       "      <td>8</td>\n",
       "      <td>2</td>\n",
       "      <td>16</td>\n",
       "      <td>7</td>\n",
       "      <td>21.0</td>\n",
       "      <td>0.15</td>\n",
       "      <td>2</td>\n",
       "      <td>Rain-Thunderstorm</td>\n",
       "      <td>132</td>\n",
       "    </tr>\n",
       "    <tr>\n",
       "      <th>2012-4-28</th>\n",
       "      <td>63</td>\n",
       "      <td>56</td>\n",
       "      <td>48</td>\n",
       "      <td>50</td>\n",
       "      <td>45</td>\n",
       "      <td>30</td>\n",
       "      <td>100</td>\n",
       "      <td>71</td>\n",
       "      <td>41</td>\n",
       "      <td>30.13</td>\n",
       "      <td>...</td>\n",
       "      <td>10</td>\n",
       "      <td>8</td>\n",
       "      <td>2</td>\n",
       "      <td>26</td>\n",
       "      <td>11</td>\n",
       "      <td>33.0</td>\n",
       "      <td>0.49</td>\n",
       "      <td>7</td>\n",
       "      <td>Rain-Thunderstorm</td>\n",
       "      <td>96</td>\n",
       "    </tr>\n",
       "    <tr>\n",
       "      <th>2012-4-30</th>\n",
       "      <td>81</td>\n",
       "      <td>69</td>\n",
       "      <td>57</td>\n",
       "      <td>64</td>\n",
       "      <td>61</td>\n",
       "      <td>54</td>\n",
       "      <td>93</td>\n",
       "      <td>73</td>\n",
       "      <td>52</td>\n",
       "      <td>30.04</td>\n",
       "      <td>...</td>\n",
       "      <td>10</td>\n",
       "      <td>8</td>\n",
       "      <td>1</td>\n",
       "      <td>22</td>\n",
       "      <td>7</td>\n",
       "      <td>26.0</td>\n",
       "      <td>0.29</td>\n",
       "      <td>5</td>\n",
       "      <td>Rain-Thunderstorm</td>\n",
       "      <td>239</td>\n",
       "    </tr>\n",
       "    <tr>\n",
       "      <th>2012-5-1</th>\n",
       "      <td>79</td>\n",
       "      <td>69</td>\n",
       "      <td>59</td>\n",
       "      <td>70</td>\n",
       "      <td>63</td>\n",
       "      <td>57</td>\n",
       "      <td>100</td>\n",
       "      <td>90</td>\n",
       "      <td>79</td>\n",
       "      <td>30.03</td>\n",
       "      <td>...</td>\n",
       "      <td>10</td>\n",
       "      <td>6</td>\n",
       "      <td>0</td>\n",
       "      <td>26</td>\n",
       "      <td>6</td>\n",
       "      <td>44.0</td>\n",
       "      <td>0.86</td>\n",
       "      <td>6</td>\n",
       "      <td>Fog-Rain-Thunderstorm</td>\n",
       "      <td>189</td>\n",
       "    </tr>\n",
       "    <tr>\n",
       "      <th>2012-5-4</th>\n",
       "      <td>80</td>\n",
       "      <td>72</td>\n",
       "      <td>64</td>\n",
       "      <td>68</td>\n",
       "      <td>65</td>\n",
       "      <td>60</td>\n",
       "      <td>93</td>\n",
       "      <td>78</td>\n",
       "      <td>62</td>\n",
       "      <td>30.03</td>\n",
       "      <td>...</td>\n",
       "      <td>10</td>\n",
       "      <td>9</td>\n",
       "      <td>5</td>\n",
       "      <td>17</td>\n",
       "      <td>7</td>\n",
       "      <td>24.0</td>\n",
       "      <td>0.09</td>\n",
       "      <td>6</td>\n",
       "      <td>Rain-Thunderstorm</td>\n",
       "      <td>209</td>\n",
       "    </tr>\n",
       "    <tr>\n",
       "      <th>2012-5-7</th>\n",
       "      <td>83</td>\n",
       "      <td>74</td>\n",
       "      <td>64</td>\n",
       "      <td>67</td>\n",
       "      <td>64</td>\n",
       "      <td>60</td>\n",
       "      <td>100</td>\n",
       "      <td>77</td>\n",
       "      <td>54</td>\n",
       "      <td>29.86</td>\n",
       "      <td>...</td>\n",
       "      <td>10</td>\n",
       "      <td>8</td>\n",
       "      <td>1</td>\n",
       "      <td>25</td>\n",
       "      <td>4</td>\n",
       "      <td>35.0</td>\n",
       "      <td>0.90</td>\n",
       "      <td>5</td>\n",
       "      <td>Rain-Thunderstorm</td>\n",
       "      <td>165</td>\n",
       "    </tr>\n",
       "    <tr>\n",
       "      <th>2012-5-9</th>\n",
       "      <td>68</td>\n",
       "      <td>58</td>\n",
       "      <td>48</td>\n",
       "      <td>49</td>\n",
       "      <td>46</td>\n",
       "      <td>41</td>\n",
       "      <td>93</td>\n",
       "      <td>68</td>\n",
       "      <td>42</td>\n",
       "      <td>29.92</td>\n",
       "      <td>...</td>\n",
       "      <td>10</td>\n",
       "      <td>10</td>\n",
       "      <td>6</td>\n",
       "      <td>22</td>\n",
       "      <td>6</td>\n",
       "      <td>30.0</td>\n",
       "      <td>0.02</td>\n",
       "      <td>3</td>\n",
       "      <td>Rain</td>\n",
       "      <td>307</td>\n",
       "    </tr>\n",
       "    <tr>\n",
       "      <th>2012-5-20</th>\n",
       "      <td>88</td>\n",
       "      <td>74</td>\n",
       "      <td>60</td>\n",
       "      <td>64</td>\n",
       "      <td>60</td>\n",
       "      <td>54</td>\n",
       "      <td>97</td>\n",
       "      <td>67</td>\n",
       "      <td>36</td>\n",
       "      <td>30.13</td>\n",
       "      <td>...</td>\n",
       "      <td>10</td>\n",
       "      <td>9</td>\n",
       "      <td>6</td>\n",
       "      <td>21</td>\n",
       "      <td>3</td>\n",
       "      <td>29.0</td>\n",
       "      <td>0.07</td>\n",
       "      <td>1</td>\n",
       "      <td>Thunderstorm</td>\n",
       "      <td>161</td>\n",
       "    </tr>\n",
       "    <tr>\n",
       "      <th>2012-5-21</th>\n",
       "      <td>78</td>\n",
       "      <td>67</td>\n",
       "      <td>55</td>\n",
       "      <td>63</td>\n",
       "      <td>59</td>\n",
       "      <td>47</td>\n",
       "      <td>93</td>\n",
       "      <td>77</td>\n",
       "      <td>60</td>\n",
       "      <td>30.08</td>\n",
       "      <td>...</td>\n",
       "      <td>10</td>\n",
       "      <td>9</td>\n",
       "      <td>4</td>\n",
       "      <td>16</td>\n",
       "      <td>5</td>\n",
       "      <td>23.0</td>\n",
       "      <td>0.03</td>\n",
       "      <td>4</td>\n",
       "      <td>Rain-Thunderstorm</td>\n",
       "      <td>322</td>\n",
       "    </tr>\n",
       "    <tr>\n",
       "      <th>2012-5-29</th>\n",
       "      <td>80</td>\n",
       "      <td>70</td>\n",
       "      <td>59</td>\n",
       "      <td>68</td>\n",
       "      <td>65</td>\n",
       "      <td>58</td>\n",
       "      <td>100</td>\n",
       "      <td>77</td>\n",
       "      <td>54</td>\n",
       "      <td>29.90</td>\n",
       "      <td>...</td>\n",
       "      <td>10</td>\n",
       "      <td>10</td>\n",
       "      <td>7</td>\n",
       "      <td>21</td>\n",
       "      <td>4</td>\n",
       "      <td>30.0</td>\n",
       "      <td>0.14</td>\n",
       "      <td>4</td>\n",
       "      <td>Rain-Thunderstorm</td>\n",
       "      <td>213</td>\n",
       "    </tr>\n",
       "    <tr>\n",
       "      <th>2012-5-31</th>\n",
       "      <td>78</td>\n",
       "      <td>64</td>\n",
       "      <td>50</td>\n",
       "      <td>62</td>\n",
       "      <td>55</td>\n",
       "      <td>46</td>\n",
       "      <td>93</td>\n",
       "      <td>67</td>\n",
       "      <td>40</td>\n",
       "      <td>29.90</td>\n",
       "      <td>...</td>\n",
       "      <td>10</td>\n",
       "      <td>9</td>\n",
       "      <td>1</td>\n",
       "      <td>15</td>\n",
       "      <td>6</td>\n",
       "      <td>21.0</td>\n",
       "      <td>0.19</td>\n",
       "      <td>4</td>\n",
       "      <td>Rain-Thunderstorm</td>\n",
       "      <td>67</td>\n",
       "    </tr>\n",
       "    <tr>\n",
       "      <th>2012-6-1</th>\n",
       "      <td>62</td>\n",
       "      <td>56</td>\n",
       "      <td>50</td>\n",
       "      <td>59</td>\n",
       "      <td>53</td>\n",
       "      <td>47</td>\n",
       "      <td>100</td>\n",
       "      <td>84</td>\n",
       "      <td>67</td>\n",
       "      <td>29.88</td>\n",
       "      <td>...</td>\n",
       "      <td>10</td>\n",
       "      <td>6</td>\n",
       "      <td>1</td>\n",
       "      <td>17</td>\n",
       "      <td>7</td>\n",
       "      <td>23.0</td>\n",
       "      <td>0.01</td>\n",
       "      <td>7</td>\n",
       "      <td>Rain</td>\n",
       "      <td>289</td>\n",
       "    </tr>\n",
       "    <tr>\n",
       "      <th>2012-6-2</th>\n",
       "      <td>70</td>\n",
       "      <td>60</td>\n",
       "      <td>49</td>\n",
       "      <td>56</td>\n",
       "      <td>48</td>\n",
       "      <td>44</td>\n",
       "      <td>93</td>\n",
       "      <td>69</td>\n",
       "      <td>44</td>\n",
       "      <td>29.91</td>\n",
       "      <td>...</td>\n",
       "      <td>10</td>\n",
       "      <td>10</td>\n",
       "      <td>5</td>\n",
       "      <td>17</td>\n",
       "      <td>7</td>\n",
       "      <td>24.0</td>\n",
       "      <td>0.03</td>\n",
       "      <td>3</td>\n",
       "      <td>Rain</td>\n",
       "      <td>245</td>\n",
       "    </tr>\n",
       "    <tr>\n",
       "      <th>2012-6-4</th>\n",
       "      <td>68</td>\n",
       "      <td>62</td>\n",
       "      <td>56</td>\n",
       "      <td>63</td>\n",
       "      <td>59</td>\n",
       "      <td>54</td>\n",
       "      <td>100</td>\n",
       "      <td>84</td>\n",
       "      <td>68</td>\n",
       "      <td>29.89</td>\n",
       "      <td>...</td>\n",
       "      <td>10</td>\n",
       "      <td>8</td>\n",
       "      <td>1</td>\n",
       "      <td>9</td>\n",
       "      <td>2</td>\n",
       "      <td>23.0</td>\n",
       "      <td>0.13</td>\n",
       "      <td>4</td>\n",
       "      <td>Rain</td>\n",
       "      <td>323</td>\n",
       "    </tr>\n",
       "    <tr>\n",
       "      <th>2012-6-17</th>\n",
       "      <td>86</td>\n",
       "      <td>80</td>\n",
       "      <td>73</td>\n",
       "      <td>68</td>\n",
       "      <td>66</td>\n",
       "      <td>64</td>\n",
       "      <td>79</td>\n",
       "      <td>64</td>\n",
       "      <td>48</td>\n",
       "      <td>29.99</td>\n",
       "      <td>...</td>\n",
       "      <td>10</td>\n",
       "      <td>10</td>\n",
       "      <td>10</td>\n",
       "      <td>18</td>\n",
       "      <td>9</td>\n",
       "      <td>25.0</td>\n",
       "      <td>0.02</td>\n",
       "      <td>2</td>\n",
       "      <td>NaN</td>\n",
       "      <td>222</td>\n",
       "    </tr>\n",
       "    <tr>\n",
       "      <th>2012-6-18</th>\n",
       "      <td>91</td>\n",
       "      <td>81</td>\n",
       "      <td>70</td>\n",
       "      <td>70</td>\n",
       "      <td>64</td>\n",
       "      <td>60</td>\n",
       "      <td>90</td>\n",
       "      <td>64</td>\n",
       "      <td>38</td>\n",
       "      <td>29.94</td>\n",
       "      <td>...</td>\n",
       "      <td>10</td>\n",
       "      <td>10</td>\n",
       "      <td>8</td>\n",
       "      <td>21</td>\n",
       "      <td>10</td>\n",
       "      <td>29.0</td>\n",
       "      <td>0.01</td>\n",
       "      <td>1</td>\n",
       "      <td>Rain-Thunderstorm</td>\n",
       "      <td>209</td>\n",
       "    </tr>\n",
       "    <tr>\n",
       "      <th>2012-7-1</th>\n",
       "      <td>101</td>\n",
       "      <td>84</td>\n",
       "      <td>67</td>\n",
       "      <td>69</td>\n",
       "      <td>66</td>\n",
       "      <td>61</td>\n",
       "      <td>93</td>\n",
       "      <td>61</td>\n",
       "      <td>29</td>\n",
       "      <td>30.03</td>\n",
       "      <td>...</td>\n",
       "      <td>10</td>\n",
       "      <td>10</td>\n",
       "      <td>8</td>\n",
       "      <td>25</td>\n",
       "      <td>6</td>\n",
       "      <td>31.0</td>\n",
       "      <td>0.10</td>\n",
       "      <td>2</td>\n",
       "      <td>Thunderstorm</td>\n",
       "      <td>178</td>\n",
       "    </tr>\n",
       "    <tr>\n",
       "      <th>...</th>\n",
       "      <td>...</td>\n",
       "      <td>...</td>\n",
       "      <td>...</td>\n",
       "      <td>...</td>\n",
       "      <td>...</td>\n",
       "      <td>...</td>\n",
       "      <td>...</td>\n",
       "      <td>...</td>\n",
       "      <td>...</td>\n",
       "      <td>...</td>\n",
       "      <td>...</td>\n",
       "      <td>...</td>\n",
       "      <td>...</td>\n",
       "      <td>...</td>\n",
       "      <td>...</td>\n",
       "      <td>...</td>\n",
       "      <td>...</td>\n",
       "      <td>...</td>\n",
       "      <td>...</td>\n",
       "      <td>...</td>\n",
       "      <td>...</td>\n",
       "    </tr>\n",
       "    <tr>\n",
       "      <th>2012-12-20</th>\n",
       "      <td>57</td>\n",
       "      <td>43</td>\n",
       "      <td>28</td>\n",
       "      <td>50</td>\n",
       "      <td>36</td>\n",
       "      <td>25</td>\n",
       "      <td>92</td>\n",
       "      <td>79</td>\n",
       "      <td>66</td>\n",
       "      <td>29.75</td>\n",
       "      <td>...</td>\n",
       "      <td>10</td>\n",
       "      <td>5</td>\n",
       "      <td>0</td>\n",
       "      <td>35</td>\n",
       "      <td>19</td>\n",
       "      <td>54.0</td>\n",
       "      <td>0.44</td>\n",
       "      <td>8</td>\n",
       "      <td>Fog-Rain-Snow-Thunderstorm</td>\n",
       "      <td>219</td>\n",
       "    </tr>\n",
       "    <tr>\n",
       "      <th>2012-12-21</th>\n",
       "      <td>29</td>\n",
       "      <td>26</td>\n",
       "      <td>22</td>\n",
       "      <td>25</td>\n",
       "      <td>19</td>\n",
       "      <td>15</td>\n",
       "      <td>85</td>\n",
       "      <td>74</td>\n",
       "      <td>63</td>\n",
       "      <td>30.21</td>\n",
       "      <td>...</td>\n",
       "      <td>10</td>\n",
       "      <td>5</td>\n",
       "      <td>0</td>\n",
       "      <td>25</td>\n",
       "      <td>14</td>\n",
       "      <td>39.0</td>\n",
       "      <td>0.02</td>\n",
       "      <td>7</td>\n",
       "      <td>Fog-Snow</td>\n",
       "      <td>285</td>\n",
       "    </tr>\n",
       "    <tr>\n",
       "      <th>2012-12-24</th>\n",
       "      <td>40</td>\n",
       "      <td>36</td>\n",
       "      <td>31</td>\n",
       "      <td>38</td>\n",
       "      <td>31</td>\n",
       "      <td>26</td>\n",
       "      <td>100</td>\n",
       "      <td>88</td>\n",
       "      <td>75</td>\n",
       "      <td>30.05</td>\n",
       "      <td>...</td>\n",
       "      <td>10</td>\n",
       "      <td>5</td>\n",
       "      <td>0</td>\n",
       "      <td>14</td>\n",
       "      <td>4</td>\n",
       "      <td>21.0</td>\n",
       "      <td>0.04</td>\n",
       "      <td>7</td>\n",
       "      <td>Fog-Rain</td>\n",
       "      <td>304</td>\n",
       "    </tr>\n",
       "    <tr>\n",
       "      <th>2012-12-26</th>\n",
       "      <td>33</td>\n",
       "      <td>31</td>\n",
       "      <td>29</td>\n",
       "      <td>29</td>\n",
       "      <td>27</td>\n",
       "      <td>23</td>\n",
       "      <td>92</td>\n",
       "      <td>81</td>\n",
       "      <td>69</td>\n",
       "      <td>30.02</td>\n",
       "      <td>...</td>\n",
       "      <td>10</td>\n",
       "      <td>3</td>\n",
       "      <td>0</td>\n",
       "      <td>28</td>\n",
       "      <td>16</td>\n",
       "      <td>38.0</td>\n",
       "      <td>0.48</td>\n",
       "      <td>8</td>\n",
       "      <td>Fog-Snow</td>\n",
       "      <td>16</td>\n",
       "    </tr>\n",
       "    <tr>\n",
       "      <th>2012-12-28</th>\n",
       "      <td>33</td>\n",
       "      <td>31</td>\n",
       "      <td>29</td>\n",
       "      <td>28</td>\n",
       "      <td>26</td>\n",
       "      <td>25</td>\n",
       "      <td>85</td>\n",
       "      <td>80</td>\n",
       "      <td>75</td>\n",
       "      <td>30.13</td>\n",
       "      <td>...</td>\n",
       "      <td>10</td>\n",
       "      <td>8</td>\n",
       "      <td>1</td>\n",
       "      <td>10</td>\n",
       "      <td>4</td>\n",
       "      <td>14.0</td>\n",
       "      <td>0.04</td>\n",
       "      <td>8</td>\n",
       "      <td>Snow</td>\n",
       "      <td>119</td>\n",
       "    </tr>\n",
       "    <tr>\n",
       "      <th>2012-12-29</th>\n",
       "      <td>32</td>\n",
       "      <td>28</td>\n",
       "      <td>23</td>\n",
       "      <td>28</td>\n",
       "      <td>25</td>\n",
       "      <td>16</td>\n",
       "      <td>92</td>\n",
       "      <td>80</td>\n",
       "      <td>68</td>\n",
       "      <td>30.29</td>\n",
       "      <td>...</td>\n",
       "      <td>10</td>\n",
       "      <td>3</td>\n",
       "      <td>0</td>\n",
       "      <td>18</td>\n",
       "      <td>9</td>\n",
       "      <td>29.0</td>\n",
       "      <td>0.20</td>\n",
       "      <td>8</td>\n",
       "      <td>Fog-Snow</td>\n",
       "      <td>308</td>\n",
       "    </tr>\n",
       "    <tr>\n",
       "      <th>2012-12-31</th>\n",
       "      <td>36</td>\n",
       "      <td>31</td>\n",
       "      <td>25</td>\n",
       "      <td>31</td>\n",
       "      <td>28</td>\n",
       "      <td>21</td>\n",
       "      <td>92</td>\n",
       "      <td>78</td>\n",
       "      <td>64</td>\n",
       "      <td>30.28</td>\n",
       "      <td>...</td>\n",
       "      <td>10</td>\n",
       "      <td>4</td>\n",
       "      <td>0</td>\n",
       "      <td>18</td>\n",
       "      <td>7</td>\n",
       "      <td>28.0</td>\n",
       "      <td>0.12</td>\n",
       "      <td>7</td>\n",
       "      <td>Fog-Snow</td>\n",
       "      <td>228</td>\n",
       "    </tr>\n",
       "    <tr>\n",
       "      <th>2013-1-10</th>\n",
       "      <td>47</td>\n",
       "      <td>38</td>\n",
       "      <td>29</td>\n",
       "      <td>45</td>\n",
       "      <td>36</td>\n",
       "      <td>27</td>\n",
       "      <td>96</td>\n",
       "      <td>80</td>\n",
       "      <td>64</td>\n",
       "      <td>30.50</td>\n",
       "      <td>...</td>\n",
       "      <td>10</td>\n",
       "      <td>6</td>\n",
       "      <td>2</td>\n",
       "      <td>17</td>\n",
       "      <td>8</td>\n",
       "      <td>24.0</td>\n",
       "      <td>0.14</td>\n",
       "      <td>6</td>\n",
       "      <td>Rain</td>\n",
       "      <td>120</td>\n",
       "    </tr>\n",
       "    <tr>\n",
       "      <th>2013-1-11</th>\n",
       "      <td>59</td>\n",
       "      <td>53</td>\n",
       "      <td>47</td>\n",
       "      <td>54</td>\n",
       "      <td>51</td>\n",
       "      <td>46</td>\n",
       "      <td>100</td>\n",
       "      <td>86</td>\n",
       "      <td>72</td>\n",
       "      <td>29.99</td>\n",
       "      <td>...</td>\n",
       "      <td>10</td>\n",
       "      <td>6</td>\n",
       "      <td>0</td>\n",
       "      <td>26</td>\n",
       "      <td>11</td>\n",
       "      <td>31.0</td>\n",
       "      <td>0.82</td>\n",
       "      <td>6</td>\n",
       "      <td>Fog-Rain</td>\n",
       "      <td>184</td>\n",
       "    </tr>\n",
       "    <tr>\n",
       "      <th>2013-1-12</th>\n",
       "      <td>66</td>\n",
       "      <td>61</td>\n",
       "      <td>55</td>\n",
       "      <td>61</td>\n",
       "      <td>55</td>\n",
       "      <td>47</td>\n",
       "      <td>93</td>\n",
       "      <td>80</td>\n",
       "      <td>67</td>\n",
       "      <td>29.99</td>\n",
       "      <td>...</td>\n",
       "      <td>10</td>\n",
       "      <td>7</td>\n",
       "      <td>1</td>\n",
       "      <td>21</td>\n",
       "      <td>8</td>\n",
       "      <td>28.0</td>\n",
       "      <td>1.16</td>\n",
       "      <td>6</td>\n",
       "      <td>Rain</td>\n",
       "      <td>199</td>\n",
       "    </tr>\n",
       "    <tr>\n",
       "      <th>2013-1-13</th>\n",
       "      <td>65</td>\n",
       "      <td>45</td>\n",
       "      <td>25</td>\n",
       "      <td>61</td>\n",
       "      <td>37</td>\n",
       "      <td>20</td>\n",
       "      <td>93</td>\n",
       "      <td>87</td>\n",
       "      <td>81</td>\n",
       "      <td>30.24</td>\n",
       "      <td>...</td>\n",
       "      <td>10</td>\n",
       "      <td>5</td>\n",
       "      <td>1</td>\n",
       "      <td>21</td>\n",
       "      <td>7</td>\n",
       "      <td>28.0</td>\n",
       "      <td>1.73</td>\n",
       "      <td>8</td>\n",
       "      <td>Rain</td>\n",
       "      <td>324</td>\n",
       "    </tr>\n",
       "    <tr>\n",
       "      <th>2013-1-25</th>\n",
       "      <td>30</td>\n",
       "      <td>25</td>\n",
       "      <td>20</td>\n",
       "      <td>18</td>\n",
       "      <td>12</td>\n",
       "      <td>0</td>\n",
       "      <td>74</td>\n",
       "      <td>57</td>\n",
       "      <td>39</td>\n",
       "      <td>30.35</td>\n",
       "      <td>...</td>\n",
       "      <td>10</td>\n",
       "      <td>8</td>\n",
       "      <td>1</td>\n",
       "      <td>16</td>\n",
       "      <td>7</td>\n",
       "      <td>21.0</td>\n",
       "      <td>0.02</td>\n",
       "      <td>6</td>\n",
       "      <td>Snow</td>\n",
       "      <td>192</td>\n",
       "    </tr>\n",
       "    <tr>\n",
       "      <th>2013-1-27</th>\n",
       "      <td>40</td>\n",
       "      <td>31</td>\n",
       "      <td>21</td>\n",
       "      <td>38</td>\n",
       "      <td>24</td>\n",
       "      <td>15</td>\n",
       "      <td>92</td>\n",
       "      <td>72</td>\n",
       "      <td>52</td>\n",
       "      <td>30.40</td>\n",
       "      <td>...</td>\n",
       "      <td>10</td>\n",
       "      <td>6</td>\n",
       "      <td>2</td>\n",
       "      <td>15</td>\n",
       "      <td>9</td>\n",
       "      <td>21.0</td>\n",
       "      <td>0.19</td>\n",
       "      <td>5</td>\n",
       "      <td>Rain</td>\n",
       "      <td>139</td>\n",
       "    </tr>\n",
       "    <tr>\n",
       "      <th>2013-1-28</th>\n",
       "      <td>58</td>\n",
       "      <td>49</td>\n",
       "      <td>39</td>\n",
       "      <td>55</td>\n",
       "      <td>48</td>\n",
       "      <td>37</td>\n",
       "      <td>96</td>\n",
       "      <td>84</td>\n",
       "      <td>71</td>\n",
       "      <td>30.10</td>\n",
       "      <td>...</td>\n",
       "      <td>10</td>\n",
       "      <td>4</td>\n",
       "      <td>2</td>\n",
       "      <td>28</td>\n",
       "      <td>13</td>\n",
       "      <td>41.0</td>\n",
       "      <td>0.40</td>\n",
       "      <td>8</td>\n",
       "      <td>Rain</td>\n",
       "      <td>202</td>\n",
       "    </tr>\n",
       "    <tr>\n",
       "      <th>2013-1-30</th>\n",
       "      <td>68</td>\n",
       "      <td>48</td>\n",
       "      <td>27</td>\n",
       "      <td>57</td>\n",
       "      <td>42</td>\n",
       "      <td>20</td>\n",
       "      <td>96</td>\n",
       "      <td>82</td>\n",
       "      <td>68</td>\n",
       "      <td>29.70</td>\n",
       "      <td>...</td>\n",
       "      <td>10</td>\n",
       "      <td>7</td>\n",
       "      <td>2</td>\n",
       "      <td>39</td>\n",
       "      <td>14</td>\n",
       "      <td>63.0</td>\n",
       "      <td>0.99</td>\n",
       "      <td>8</td>\n",
       "      <td>Rain-Snow</td>\n",
       "      <td>260</td>\n",
       "    </tr>\n",
       "    <tr>\n",
       "      <th>2013-1-31</th>\n",
       "      <td>31</td>\n",
       "      <td>21</td>\n",
       "      <td>10</td>\n",
       "      <td>22</td>\n",
       "      <td>14</td>\n",
       "      <td>-2</td>\n",
       "      <td>81</td>\n",
       "      <td>67</td>\n",
       "      <td>53</td>\n",
       "      <td>30.19</td>\n",
       "      <td>...</td>\n",
       "      <td>10</td>\n",
       "      <td>6</td>\n",
       "      <td>0</td>\n",
       "      <td>28</td>\n",
       "      <td>15</td>\n",
       "      <td>38.0</td>\n",
       "      <td>0.01</td>\n",
       "      <td>7</td>\n",
       "      <td>Fog-Snow</td>\n",
       "      <td>284</td>\n",
       "    </tr>\n",
       "    <tr>\n",
       "      <th>2013-2-2</th>\n",
       "      <td>30</td>\n",
       "      <td>22</td>\n",
       "      <td>14</td>\n",
       "      <td>22</td>\n",
       "      <td>18</td>\n",
       "      <td>7</td>\n",
       "      <td>84</td>\n",
       "      <td>71</td>\n",
       "      <td>58</td>\n",
       "      <td>30.30</td>\n",
       "      <td>...</td>\n",
       "      <td>10</td>\n",
       "      <td>6</td>\n",
       "      <td>1</td>\n",
       "      <td>20</td>\n",
       "      <td>9</td>\n",
       "      <td>28.0</td>\n",
       "      <td>0.08</td>\n",
       "      <td>8</td>\n",
       "      <td>Snow</td>\n",
       "      <td>237</td>\n",
       "    </tr>\n",
       "    <tr>\n",
       "      <th>2013-2-4</th>\n",
       "      <td>40</td>\n",
       "      <td>26</td>\n",
       "      <td>12</td>\n",
       "      <td>29</td>\n",
       "      <td>23</td>\n",
       "      <td>11</td>\n",
       "      <td>92</td>\n",
       "      <td>72</td>\n",
       "      <td>52</td>\n",
       "      <td>30.12</td>\n",
       "      <td>...</td>\n",
       "      <td>10</td>\n",
       "      <td>7</td>\n",
       "      <td>1</td>\n",
       "      <td>21</td>\n",
       "      <td>6</td>\n",
       "      <td>25.0</td>\n",
       "      <td>0.01</td>\n",
       "      <td>5</td>\n",
       "      <td>Snow</td>\n",
       "      <td>219</td>\n",
       "    </tr>\n",
       "    <tr>\n",
       "      <th>2013-2-7</th>\n",
       "      <td>61</td>\n",
       "      <td>46</td>\n",
       "      <td>30</td>\n",
       "      <td>46</td>\n",
       "      <td>35</td>\n",
       "      <td>25</td>\n",
       "      <td>93</td>\n",
       "      <td>66</td>\n",
       "      <td>39</td>\n",
       "      <td>30.17</td>\n",
       "      <td>...</td>\n",
       "      <td>10</td>\n",
       "      <td>7</td>\n",
       "      <td>3</td>\n",
       "      <td>18</td>\n",
       "      <td>7</td>\n",
       "      <td>23.0</td>\n",
       "      <td>0.14</td>\n",
       "      <td>3</td>\n",
       "      <td>Rain</td>\n",
       "      <td>165</td>\n",
       "    </tr>\n",
       "    <tr>\n",
       "      <th>2013-2-10</th>\n",
       "      <td>52</td>\n",
       "      <td>44</td>\n",
       "      <td>35</td>\n",
       "      <td>48</td>\n",
       "      <td>37</td>\n",
       "      <td>21</td>\n",
       "      <td>89</td>\n",
       "      <td>71</td>\n",
       "      <td>52</td>\n",
       "      <td>30.14</td>\n",
       "      <td>...</td>\n",
       "      <td>10</td>\n",
       "      <td>9</td>\n",
       "      <td>2</td>\n",
       "      <td>21</td>\n",
       "      <td>11</td>\n",
       "      <td>32.0</td>\n",
       "      <td>0.27</td>\n",
       "      <td>7</td>\n",
       "      <td>Rain</td>\n",
       "      <td>160</td>\n",
       "    </tr>\n",
       "    <tr>\n",
       "      <th>2013-2-18</th>\n",
       "      <td>58</td>\n",
       "      <td>43</td>\n",
       "      <td>27</td>\n",
       "      <td>43</td>\n",
       "      <td>30</td>\n",
       "      <td>13</td>\n",
       "      <td>86</td>\n",
       "      <td>61</td>\n",
       "      <td>36</td>\n",
       "      <td>30.13</td>\n",
       "      <td>...</td>\n",
       "      <td>10</td>\n",
       "      <td>10</td>\n",
       "      <td>5</td>\n",
       "      <td>32</td>\n",
       "      <td>15</td>\n",
       "      <td>44.0</td>\n",
       "      <td>0.39</td>\n",
       "      <td>4</td>\n",
       "      <td>Rain</td>\n",
       "      <td>179</td>\n",
       "    </tr>\n",
       "    <tr>\n",
       "      <th>2013-2-19</th>\n",
       "      <td>47</td>\n",
       "      <td>35</td>\n",
       "      <td>23</td>\n",
       "      <td>43</td>\n",
       "      <td>19</td>\n",
       "      <td>10</td>\n",
       "      <td>86</td>\n",
       "      <td>71</td>\n",
       "      <td>55</td>\n",
       "      <td>30.19</td>\n",
       "      <td>...</td>\n",
       "      <td>10</td>\n",
       "      <td>10</td>\n",
       "      <td>3</td>\n",
       "      <td>30</td>\n",
       "      <td>16</td>\n",
       "      <td>39.0</td>\n",
       "      <td>0.10</td>\n",
       "      <td>8</td>\n",
       "      <td>Rain-Snow</td>\n",
       "      <td>282</td>\n",
       "    </tr>\n",
       "    <tr>\n",
       "      <th>2013-2-21</th>\n",
       "      <td>33</td>\n",
       "      <td>24</td>\n",
       "      <td>15</td>\n",
       "      <td>27</td>\n",
       "      <td>20</td>\n",
       "      <td>12</td>\n",
       "      <td>88</td>\n",
       "      <td>71</td>\n",
       "      <td>54</td>\n",
       "      <td>30.35</td>\n",
       "      <td>...</td>\n",
       "      <td>10</td>\n",
       "      <td>7</td>\n",
       "      <td>0</td>\n",
       "      <td>23</td>\n",
       "      <td>10</td>\n",
       "      <td>32.0</td>\n",
       "      <td>0.30</td>\n",
       "      <td>5</td>\n",
       "      <td>Fog-Rain-Snow</td>\n",
       "      <td>91</td>\n",
       "    </tr>\n",
       "    <tr>\n",
       "      <th>2013-2-22</th>\n",
       "      <td>37</td>\n",
       "      <td>34</td>\n",
       "      <td>31</td>\n",
       "      <td>34</td>\n",
       "      <td>30</td>\n",
       "      <td>23</td>\n",
       "      <td>96</td>\n",
       "      <td>83</td>\n",
       "      <td>70</td>\n",
       "      <td>30.02</td>\n",
       "      <td>...</td>\n",
       "      <td>10</td>\n",
       "      <td>5</td>\n",
       "      <td>0</td>\n",
       "      <td>23</td>\n",
       "      <td>10</td>\n",
       "      <td>30.0</td>\n",
       "      <td>0.03</td>\n",
       "      <td>8</td>\n",
       "      <td>Fog-Rain</td>\n",
       "      <td>200</td>\n",
       "    </tr>\n",
       "    <tr>\n",
       "      <th>2013-2-26</th>\n",
       "      <td>44</td>\n",
       "      <td>40</td>\n",
       "      <td>35</td>\n",
       "      <td>43</td>\n",
       "      <td>35</td>\n",
       "      <td>23</td>\n",
       "      <td>93</td>\n",
       "      <td>72</td>\n",
       "      <td>50</td>\n",
       "      <td>29.77</td>\n",
       "      <td>...</td>\n",
       "      <td>10</td>\n",
       "      <td>5</td>\n",
       "      <td>1</td>\n",
       "      <td>21</td>\n",
       "      <td>9</td>\n",
       "      <td>25.0</td>\n",
       "      <td>1.17</td>\n",
       "      <td>8</td>\n",
       "      <td>Rain</td>\n",
       "      <td>109</td>\n",
       "    </tr>\n",
       "    <tr>\n",
       "      <th>2013-2-27</th>\n",
       "      <td>40</td>\n",
       "      <td>36</td>\n",
       "      <td>32</td>\n",
       "      <td>37</td>\n",
       "      <td>30</td>\n",
       "      <td>27</td>\n",
       "      <td>92</td>\n",
       "      <td>87</td>\n",
       "      <td>82</td>\n",
       "      <td>29.75</td>\n",
       "      <td>...</td>\n",
       "      <td>10</td>\n",
       "      <td>4</td>\n",
       "      <td>1</td>\n",
       "      <td>22</td>\n",
       "      <td>11</td>\n",
       "      <td>31.0</td>\n",
       "      <td>0.05</td>\n",
       "      <td>8</td>\n",
       "      <td>Snow</td>\n",
       "      <td>251</td>\n",
       "    </tr>\n",
       "    <tr>\n",
       "      <th>2013-2-28</th>\n",
       "      <td>37</td>\n",
       "      <td>35</td>\n",
       "      <td>32</td>\n",
       "      <td>32</td>\n",
       "      <td>30</td>\n",
       "      <td>27</td>\n",
       "      <td>96</td>\n",
       "      <td>86</td>\n",
       "      <td>76</td>\n",
       "      <td>30.01</td>\n",
       "      <td>...</td>\n",
       "      <td>10</td>\n",
       "      <td>7</td>\n",
       "      <td>1</td>\n",
       "      <td>15</td>\n",
       "      <td>8</td>\n",
       "      <td>21.0</td>\n",
       "      <td>0.01</td>\n",
       "      <td>8</td>\n",
       "      <td>Rain-Snow</td>\n",
       "      <td>295</td>\n",
       "    </tr>\n",
       "    <tr>\n",
       "      <th>2013-3-1</th>\n",
       "      <td>36</td>\n",
       "      <td>34</td>\n",
       "      <td>31</td>\n",
       "      <td>29</td>\n",
       "      <td>28</td>\n",
       "      <td>26</td>\n",
       "      <td>85</td>\n",
       "      <td>80</td>\n",
       "      <td>75</td>\n",
       "      <td>30.07</td>\n",
       "      <td>...</td>\n",
       "      <td>10</td>\n",
       "      <td>4</td>\n",
       "      <td>1</td>\n",
       "      <td>13</td>\n",
       "      <td>5</td>\n",
       "      <td>15.0</td>\n",
       "      <td>0.03</td>\n",
       "      <td>8</td>\n",
       "      <td>Snow</td>\n",
       "      <td>342</td>\n",
       "    </tr>\n",
       "    <tr>\n",
       "      <th>2013-3-5</th>\n",
       "      <td>40</td>\n",
       "      <td>35</td>\n",
       "      <td>29</td>\n",
       "      <td>37</td>\n",
       "      <td>29</td>\n",
       "      <td>24</td>\n",
       "      <td>100</td>\n",
       "      <td>80</td>\n",
       "      <td>59</td>\n",
       "      <td>29.91</td>\n",
       "      <td>...</td>\n",
       "      <td>10</td>\n",
       "      <td>3</td>\n",
       "      <td>0</td>\n",
       "      <td>26</td>\n",
       "      <td>10</td>\n",
       "      <td>44.0</td>\n",
       "      <td>0.26</td>\n",
       "      <td>8</td>\n",
       "      <td>Fog-Rain-Snow</td>\n",
       "      <td>280</td>\n",
       "    </tr>\n",
       "    <tr>\n",
       "      <th>2013-3-6</th>\n",
       "      <td>32</td>\n",
       "      <td>31</td>\n",
       "      <td>29</td>\n",
       "      <td>27</td>\n",
       "      <td>26</td>\n",
       "      <td>25</td>\n",
       "      <td>92</td>\n",
       "      <td>85</td>\n",
       "      <td>78</td>\n",
       "      <td>30.31</td>\n",
       "      <td>...</td>\n",
       "      <td>10</td>\n",
       "      <td>5</td>\n",
       "      <td>1</td>\n",
       "      <td>22</td>\n",
       "      <td>9</td>\n",
       "      <td>33.0</td>\n",
       "      <td>0.04</td>\n",
       "      <td>8</td>\n",
       "      <td>Snow</td>\n",
       "      <td>314</td>\n",
       "    </tr>\n",
       "  </tbody>\n",
       "</table>\n",
       "<p>115 rows × 22 columns</p>\n",
       "</div>"
      ],
      "text/plain": [
       "            max_tempF  mean_tempF  min_tempF  max_dew_pointF  mean_dew_pointF  \\\n",
       "DATE                                                                            \n",
       "2012-3-12          71          62         53              59               55   \n",
       "2012-3-15          79          69         58              61               58   \n",
       "2012-3-22          81          69         57              63               57   \n",
       "2012-3-23          73          64         55              61               58   \n",
       "2012-3-24          65          56         46              54               49   \n",
       "2012-3-30          81          66         51              61               50   \n",
       "2012-4-1           79          64         48              62               52   \n",
       "2012-4-2           68          62         55              60               51   \n",
       "2012-4-4           68          62         55              59               54   \n",
       "2012-4-5           61          53         44              43               35   \n",
       "2012-4-14          67          59         50              59               52   \n",
       "2012-4-16          73          61         48              62               52   \n",
       "2012-4-20          73          58         43              53               47   \n",
       "2012-4-25          73          60         47              61               53   \n",
       "2012-4-28          63          56         48              50               45   \n",
       "2012-4-30          81          69         57              64               61   \n",
       "2012-5-1           79          69         59              70               63   \n",
       "2012-5-4           80          72         64              68               65   \n",
       "2012-5-7           83          74         64              67               64   \n",
       "2012-5-9           68          58         48              49               46   \n",
       "2012-5-20          88          74         60              64               60   \n",
       "2012-5-21          78          67         55              63               59   \n",
       "2012-5-29          80          70         59              68               65   \n",
       "2012-5-31          78          64         50              62               55   \n",
       "2012-6-1           62          56         50              59               53   \n",
       "2012-6-2           70          60         49              56               48   \n",
       "2012-6-4           68          62         56              63               59   \n",
       "2012-6-17          86          80         73              68               66   \n",
       "2012-6-18          91          81         70              70               64   \n",
       "2012-7-1          101          84         67              69               66   \n",
       "...               ...         ...        ...             ...              ...   \n",
       "2012-12-20         57          43         28              50               36   \n",
       "2012-12-21         29          26         22              25               19   \n",
       "2012-12-24         40          36         31              38               31   \n",
       "2012-12-26         33          31         29              29               27   \n",
       "2012-12-28         33          31         29              28               26   \n",
       "2012-12-29         32          28         23              28               25   \n",
       "2012-12-31         36          31         25              31               28   \n",
       "2013-1-10          47          38         29              45               36   \n",
       "2013-1-11          59          53         47              54               51   \n",
       "2013-1-12          66          61         55              61               55   \n",
       "2013-1-13          65          45         25              61               37   \n",
       "2013-1-25          30          25         20              18               12   \n",
       "2013-1-27          40          31         21              38               24   \n",
       "2013-1-28          58          49         39              55               48   \n",
       "2013-1-30          68          48         27              57               42   \n",
       "2013-1-31          31          21         10              22               14   \n",
       "2013-2-2           30          22         14              22               18   \n",
       "2013-2-4           40          26         12              29               23   \n",
       "2013-2-7           61          46         30              46               35   \n",
       "2013-2-10          52          44         35              48               37   \n",
       "2013-2-18          58          43         27              43               30   \n",
       "2013-2-19          47          35         23              43               19   \n",
       "2013-2-21          33          24         15              27               20   \n",
       "2013-2-22          37          34         31              34               30   \n",
       "2013-2-26          44          40         35              43               35   \n",
       "2013-2-27          40          36         32              37               30   \n",
       "2013-2-28          37          35         32              32               30   \n",
       "2013-3-1           36          34         31              29               28   \n",
       "2013-3-5           40          35         29              37               29   \n",
       "2013-3-6           32          31         29              27               26   \n",
       "\n",
       "            min_dew_pointF  max_humidity  mean_humidity  min_humidity  \\\n",
       "DATE                                                                    \n",
       "2012-3-12               43            90             76            61   \n",
       "2012-3-15               53            90             69            48   \n",
       "2012-3-22               51            87             65            42   \n",
       "2012-3-23               54            97             79            61   \n",
       "2012-3-24               43           100             80            48   \n",
       "2012-3-30               42            78             59            39   \n",
       "2012-4-1                44            96             75            54   \n",
       "2012-4-2                45            97             73            48   \n",
       "2012-4-4                42            90             74            57   \n",
       "2012-4-5                30            92             64            36   \n",
       "2012-4-14               38           100             76            51   \n",
       "2012-4-16               43            97             75            52   \n",
       "2012-4-20               41            93             70            47   \n",
       "2012-4-25               46           100             77            53   \n",
       "2012-4-28               30           100             71            41   \n",
       "2012-4-30               54            93             73            52   \n",
       "2012-5-1                57           100             90            79   \n",
       "2012-5-4                60            93             78            62   \n",
       "2012-5-7                60           100             77            54   \n",
       "2012-5-9                41            93             68            42   \n",
       "2012-5-20               54            97             67            36   \n",
       "2012-5-21               47            93             77            60   \n",
       "2012-5-29               58           100             77            54   \n",
       "2012-5-31               46            93             67            40   \n",
       "2012-6-1                47           100             84            67   \n",
       "2012-6-2                44            93             69            44   \n",
       "2012-6-4                54           100             84            68   \n",
       "2012-6-17               64            79             64            48   \n",
       "2012-6-18               60            90             64            38   \n",
       "2012-7-1                61            93             61            29   \n",
       "...                    ...           ...            ...           ...   \n",
       "2012-12-20              25            92             79            66   \n",
       "2012-12-21              15            85             74            63   \n",
       "2012-12-24              26           100             88            75   \n",
       "2012-12-26              23            92             81            69   \n",
       "2012-12-28              25            85             80            75   \n",
       "2012-12-29              16            92             80            68   \n",
       "2012-12-31              21            92             78            64   \n",
       "2013-1-10               27            96             80            64   \n",
       "2013-1-11               46           100             86            72   \n",
       "2013-1-12               47            93             80            67   \n",
       "2013-1-13               20            93             87            81   \n",
       "2013-1-25                0            74             57            39   \n",
       "2013-1-27               15            92             72            52   \n",
       "2013-1-28               37            96             84            71   \n",
       "2013-1-30               20            96             82            68   \n",
       "2013-1-31               -2            81             67            53   \n",
       "2013-2-2                 7            84             71            58   \n",
       "2013-2-4                11            92             72            52   \n",
       "2013-2-7                25            93             66            39   \n",
       "2013-2-10               21            89             71            52   \n",
       "2013-2-18               13            86             61            36   \n",
       "2013-2-19               10            86             71            55   \n",
       "2013-2-21               12            88             71            54   \n",
       "2013-2-22               23            96             83            70   \n",
       "2013-2-26               23            93             72            50   \n",
       "2013-2-27               27            92             87            82   \n",
       "2013-2-28               27            96             86            76   \n",
       "2013-3-1                26            85             80            75   \n",
       "2013-3-5                24           100             80            59   \n",
       "2013-3-6                25            92             85            78   \n",
       "\n",
       "            Max Sea Level PressureIn       ...          Max VisibilityMiles  \\\n",
       "DATE                                       ...                                \n",
       "2012-3-12                      30.13       ...                           10   \n",
       "2012-3-15                      30.13       ...                           10   \n",
       "2012-3-22                      30.11       ...                           10   \n",
       "2012-3-23                      30.03       ...                           10   \n",
       "2012-3-24                      29.88       ...                           10   \n",
       "2012-3-30                      29.93       ...                           10   \n",
       "2012-4-1                       29.89       ...                           10   \n",
       "2012-4-2                       29.90       ...                           10   \n",
       "2012-4-4                       29.82       ...                           10   \n",
       "2012-4-5                       30.01       ...                           10   \n",
       "2012-4-14                      30.10       ...                           10   \n",
       "2012-4-16                      30.23       ...                           10   \n",
       "2012-4-20                      29.89       ...                           10   \n",
       "2012-4-25                      29.75       ...                           10   \n",
       "2012-4-28                      30.13       ...                           10   \n",
       "2012-4-30                      30.04       ...                           10   \n",
       "2012-5-1                       30.03       ...                           10   \n",
       "2012-5-4                       30.03       ...                           10   \n",
       "2012-5-7                       29.86       ...                           10   \n",
       "2012-5-9                       29.92       ...                           10   \n",
       "2012-5-20                      30.13       ...                           10   \n",
       "2012-5-21                      30.08       ...                           10   \n",
       "2012-5-29                      29.90       ...                           10   \n",
       "2012-5-31                      29.90       ...                           10   \n",
       "2012-6-1                       29.88       ...                           10   \n",
       "2012-6-2                       29.91       ...                           10   \n",
       "2012-6-4                       29.89       ...                           10   \n",
       "2012-6-17                      29.99       ...                           10   \n",
       "2012-6-18                      29.94       ...                           10   \n",
       "2012-7-1                       30.03       ...                           10   \n",
       "...                              ...       ...                          ...   \n",
       "2012-12-20                     29.75       ...                           10   \n",
       "2012-12-21                     30.21       ...                           10   \n",
       "2012-12-24                     30.05       ...                           10   \n",
       "2012-12-26                     30.02       ...                           10   \n",
       "2012-12-28                     30.13       ...                           10   \n",
       "2012-12-29                     30.29       ...                           10   \n",
       "2012-12-31                     30.28       ...                           10   \n",
       "2013-1-10                      30.50       ...                           10   \n",
       "2013-1-11                      29.99       ...                           10   \n",
       "2013-1-12                      29.99       ...                           10   \n",
       "2013-1-13                      30.24       ...                           10   \n",
       "2013-1-25                      30.35       ...                           10   \n",
       "2013-1-27                      30.40       ...                           10   \n",
       "2013-1-28                      30.10       ...                           10   \n",
       "2013-1-30                      29.70       ...                           10   \n",
       "2013-1-31                      30.19       ...                           10   \n",
       "2013-2-2                       30.30       ...                           10   \n",
       "2013-2-4                       30.12       ...                           10   \n",
       "2013-2-7                       30.17       ...                           10   \n",
       "2013-2-10                      30.14       ...                           10   \n",
       "2013-2-18                      30.13       ...                           10   \n",
       "2013-2-19                      30.19       ...                           10   \n",
       "2013-2-21                      30.35       ...                           10   \n",
       "2013-2-22                      30.02       ...                           10   \n",
       "2013-2-26                      29.77       ...                           10   \n",
       "2013-2-27                      29.75       ...                           10   \n",
       "2013-2-28                      30.01       ...                           10   \n",
       "2013-3-1                       30.07       ...                           10   \n",
       "2013-3-5                       29.91       ...                           10   \n",
       "2013-3-6                       30.31       ...                           10   \n",
       "\n",
       "             Mean VisibilityMiles   Min VisibilityMiles   Max Wind SpeedMPH  \\\n",
       "DATE                                                                          \n",
       "2012-3-12                      10                     6                  24   \n",
       "2012-3-15                      10                    10                  31   \n",
       "2012-3-22                      10                     2                  31   \n",
       "2012-3-23                       9                     2                  21   \n",
       "2012-3-24                       8                     0                  12   \n",
       "2012-3-30                      10                    10                  25   \n",
       "2012-4-1                        6                     1                  24   \n",
       "2012-4-2                        9                     5                  16   \n",
       "2012-4-4                        8                     3                  15   \n",
       "2012-4-5                        9                     2                  20   \n",
       "2012-4-14                       5                     1                  18   \n",
       "2012-4-16                       9                     4                  30   \n",
       "2012-4-20                       9                     2                  21   \n",
       "2012-4-25                       8                     2                  16   \n",
       "2012-4-28                       8                     2                  26   \n",
       "2012-4-30                       8                     1                  22   \n",
       "2012-5-1                        6                     0                  26   \n",
       "2012-5-4                        9                     5                  17   \n",
       "2012-5-7                        8                     1                  25   \n",
       "2012-5-9                       10                     6                  22   \n",
       "2012-5-20                       9                     6                  21   \n",
       "2012-5-21                       9                     4                  16   \n",
       "2012-5-29                      10                     7                  21   \n",
       "2012-5-31                       9                     1                  15   \n",
       "2012-6-1                        6                     1                  17   \n",
       "2012-6-2                       10                     5                  17   \n",
       "2012-6-4                        8                     1                   9   \n",
       "2012-6-17                      10                    10                  18   \n",
       "2012-6-18                      10                     8                  21   \n",
       "2012-7-1                       10                     8                  25   \n",
       "...                           ...                   ...                 ...   \n",
       "2012-12-20                      5                     0                  35   \n",
       "2012-12-21                      5                     0                  25   \n",
       "2012-12-24                      5                     0                  14   \n",
       "2012-12-26                      3                     0                  28   \n",
       "2012-12-28                      8                     1                  10   \n",
       "2012-12-29                      3                     0                  18   \n",
       "2012-12-31                      4                     0                  18   \n",
       "2013-1-10                       6                     2                  17   \n",
       "2013-1-11                       6                     0                  26   \n",
       "2013-1-12                       7                     1                  21   \n",
       "2013-1-13                       5                     1                  21   \n",
       "2013-1-25                       8                     1                  16   \n",
       "2013-1-27                       6                     2                  15   \n",
       "2013-1-28                       4                     2                  28   \n",
       "2013-1-30                       7                     2                  39   \n",
       "2013-1-31                       6                     0                  28   \n",
       "2013-2-2                        6                     1                  20   \n",
       "2013-2-4                        7                     1                  21   \n",
       "2013-2-7                        7                     3                  18   \n",
       "2013-2-10                       9                     2                  21   \n",
       "2013-2-18                      10                     5                  32   \n",
       "2013-2-19                      10                     3                  30   \n",
       "2013-2-21                       7                     0                  23   \n",
       "2013-2-22                       5                     0                  23   \n",
       "2013-2-26                       5                     1                  21   \n",
       "2013-2-27                       4                     1                  22   \n",
       "2013-2-28                       7                     1                  15   \n",
       "2013-3-1                        4                     1                  13   \n",
       "2013-3-5                        3                     0                  26   \n",
       "2013-3-6                        5                     1                  22   \n",
       "\n",
       "             Mean Wind SpeedMPH   Max Gust SpeedMPH  PrecipitationIn  \\\n",
       "DATE                                                                   \n",
       "2012-3-12                    14                36.0             0.03   \n",
       "2012-3-15                    10                41.0             0.04   \n",
       "2012-3-22                     4                41.0             0.14   \n",
       "2012-3-23                     6                24.0             0.86   \n",
       "2012-3-24                     5                14.0             0.06   \n",
       "2012-3-30                    11                37.0             0.01   \n",
       "2012-4-1                      7                31.0             0.51   \n",
       "2012-4-2                      9                21.0             0.01   \n",
       "2012-4-4                      7                18.0             0.01   \n",
       "2012-4-5                     12                28.0             0.69   \n",
       "2012-4-14                     7                25.0             1.45   \n",
       "2012-4-16                    12                43.0             0.38   \n",
       "2012-4-20                     9                31.0             0.19   \n",
       "2012-4-25                     7                21.0             0.15   \n",
       "2012-4-28                    11                33.0             0.49   \n",
       "2012-4-30                     7                26.0             0.29   \n",
       "2012-5-1                      6                44.0             0.86   \n",
       "2012-5-4                      7                24.0             0.09   \n",
       "2012-5-7                      4                35.0             0.90   \n",
       "2012-5-9                      6                30.0             0.02   \n",
       "2012-5-20                     3                29.0             0.07   \n",
       "2012-5-21                     5                23.0             0.03   \n",
       "2012-5-29                     4                30.0             0.14   \n",
       "2012-5-31                     6                21.0             0.19   \n",
       "2012-6-1                      7                23.0             0.01   \n",
       "2012-6-2                      7                24.0             0.03   \n",
       "2012-6-4                      2                23.0             0.13   \n",
       "2012-6-17                     9                25.0             0.02   \n",
       "2012-6-18                    10                29.0             0.01   \n",
       "2012-7-1                      6                31.0             0.10   \n",
       "...                         ...                 ...              ...   \n",
       "2012-12-20                   19                54.0             0.44   \n",
       "2012-12-21                   14                39.0             0.02   \n",
       "2012-12-24                    4                21.0             0.04   \n",
       "2012-12-26                   16                38.0             0.48   \n",
       "2012-12-28                    4                14.0             0.04   \n",
       "2012-12-29                    9                29.0             0.20   \n",
       "2012-12-31                    7                28.0             0.12   \n",
       "2013-1-10                     8                24.0             0.14   \n",
       "2013-1-11                    11                31.0             0.82   \n",
       "2013-1-12                     8                28.0             1.16   \n",
       "2013-1-13                     7                28.0             1.73   \n",
       "2013-1-25                     7                21.0             0.02   \n",
       "2013-1-27                     9                21.0             0.19   \n",
       "2013-1-28                    13                41.0             0.40   \n",
       "2013-1-30                    14                63.0             0.99   \n",
       "2013-1-31                    15                38.0             0.01   \n",
       "2013-2-2                      9                28.0             0.08   \n",
       "2013-2-4                      6                25.0             0.01   \n",
       "2013-2-7                      7                23.0             0.14   \n",
       "2013-2-10                    11                32.0             0.27   \n",
       "2013-2-18                    15                44.0             0.39   \n",
       "2013-2-19                    16                39.0             0.10   \n",
       "2013-2-21                    10                32.0             0.30   \n",
       "2013-2-22                    10                30.0             0.03   \n",
       "2013-2-26                     9                25.0             1.17   \n",
       "2013-2-27                    11                31.0             0.05   \n",
       "2013-2-28                     8                21.0             0.01   \n",
       "2013-3-1                      5                15.0             0.03   \n",
       "2013-3-5                     10                44.0             0.26   \n",
       "2013-3-6                      9                33.0             0.04   \n",
       "\n",
       "             CloudCover                      Events   WindDirDegrees  \n",
       "DATE                                                                  \n",
       "2012-3-12             6                        Rain              190  \n",
       "2012-3-15             3           Rain-Thunderstorm              209  \n",
       "2012-3-22             3                        Rain              159  \n",
       "2012-3-23             7           Rain-Thunderstorm              129  \n",
       "2012-3-24             5                    Fog-Rain              222  \n",
       "2012-3-30             4           Rain-Thunderstorm              182  \n",
       "2012-4-1              4           Rain-Thunderstorm              169  \n",
       "2012-4-2              3                         NaN              109  \n",
       "2012-4-4              6           Rain-Thunderstorm               42  \n",
       "2012-4-5              3                        Rain               66  \n",
       "2012-4-14             7           Rain-Thunderstorm              176  \n",
       "2012-4-16             5                        Rain              233  \n",
       "2012-4-20             5                        Rain              273  \n",
       "2012-4-25             2           Rain-Thunderstorm              132  \n",
       "2012-4-28             7           Rain-Thunderstorm               96  \n",
       "2012-4-30             5           Rain-Thunderstorm              239  \n",
       "2012-5-1              6       Fog-Rain-Thunderstorm              189  \n",
       "2012-5-4              6           Rain-Thunderstorm              209  \n",
       "2012-5-7              5           Rain-Thunderstorm              165  \n",
       "2012-5-9              3                        Rain              307  \n",
       "2012-5-20             1                Thunderstorm              161  \n",
       "2012-5-21             4           Rain-Thunderstorm              322  \n",
       "2012-5-29             4           Rain-Thunderstorm              213  \n",
       "2012-5-31             4           Rain-Thunderstorm               67  \n",
       "2012-6-1              7                        Rain              289  \n",
       "2012-6-2              3                        Rain              245  \n",
       "2012-6-4              4                        Rain              323  \n",
       "2012-6-17             2                         NaN              222  \n",
       "2012-6-18             1           Rain-Thunderstorm              209  \n",
       "2012-7-1              2                Thunderstorm              178  \n",
       "...                 ...                         ...              ...  \n",
       "2012-12-20            8  Fog-Rain-Snow-Thunderstorm              219  \n",
       "2012-12-21            7                    Fog-Snow              285  \n",
       "2012-12-24            7                    Fog-Rain              304  \n",
       "2012-12-26            8                    Fog-Snow               16  \n",
       "2012-12-28            8                        Snow              119  \n",
       "2012-12-29            8                    Fog-Snow              308  \n",
       "2012-12-31            7                    Fog-Snow              228  \n",
       "2013-1-10             6                        Rain              120  \n",
       "2013-1-11             6                    Fog-Rain              184  \n",
       "2013-1-12             6                        Rain              199  \n",
       "2013-1-13             8                        Rain              324  \n",
       "2013-1-25             6                        Snow              192  \n",
       "2013-1-27             5                        Rain              139  \n",
       "2013-1-28             8                        Rain              202  \n",
       "2013-1-30             8                   Rain-Snow              260  \n",
       "2013-1-31             7                    Fog-Snow              284  \n",
       "2013-2-2              8                        Snow              237  \n",
       "2013-2-4              5                        Snow              219  \n",
       "2013-2-7              3                        Rain              165  \n",
       "2013-2-10             7                        Rain              160  \n",
       "2013-2-18             4                        Rain              179  \n",
       "2013-2-19             8                   Rain-Snow              282  \n",
       "2013-2-21             5               Fog-Rain-Snow               91  \n",
       "2013-2-22             8                    Fog-Rain              200  \n",
       "2013-2-26             8                        Rain              109  \n",
       "2013-2-27             8                        Snow              251  \n",
       "2013-2-28             8                   Rain-Snow              295  \n",
       "2013-3-1              8                        Snow              342  \n",
       "2013-3-5              8               Fog-Rain-Snow              280  \n",
       "2013-3-6              8                        Snow              314  \n",
       "\n",
       "[115 rows x 22 columns]"
      ]
     },
     "execution_count": 18,
     "metadata": {},
     "output_type": "execute_result"
    }
   ],
   "source": [
    "# create a new DataFrame which only contains the rows of weather for which there was some precipitation\n",
    "weather_prec = weather[weather['PrecipitationIn'] > 0]\n",
    "weather_prec"
   ]
  },
  {
   "cell_type": "markdown",
   "metadata": {},
   "source": [
    "# If you want a book–the book–on Data Science/Analysis\n",
    "* Python for Data Analysis by William McKinney\n"
   ]
  },
  {
   "cell_type": "code",
   "execution_count": 28,
   "metadata": {
    "collapsed": false
   },
   "outputs": [
    {
     "name": "stdout",
     "output_type": "stream",
     "text": [
      "sending 1 into get_primes...get_primes received 1\n",
      "2\n",
      "sending 10 into get_primes...get_primes received 10\n",
      "11\n",
      "sending 100 into get_primes...get_primes received 100\n",
      "101\n",
      "sending 1000 into get_primes...get_primes received 1000\n",
      "1009\n",
      "sending 10000 into get_primes...get_primes received 10000\n",
      "10007\n",
      "sending 100000 into get_primes...get_primes received 100000\n",
      "100003\n",
      "sending 1000000 into get_primes...get_primes received 1000000\n",
      "1000003\n",
      "sending 10000000 into get_primes...get_primes received 10000000\n",
      "10000019\n"
     ]
    }
   ],
   "source": [
    "# working generator example from notes\n",
    "def is_prime(num):\n",
    "    import math\n",
    "    if num > 2 and num % 2 == 0:\n",
    "        return False\n",
    "    for pd in range(3, int(math.sqrt(num)) + 1, 2):\n",
    "        if num % pd == 0:\n",
    "            return False\n",
    "    return True\n",
    "\n",
    "def get_primes(num):\n",
    "    # generator function to return next prime\n",
    "    while True:\n",
    "        if is_prime(num):\n",
    "            # yield a number, and accept a new starting point\n",
    "            num = yield num\n",
    "            print('...get_primes received', num)\n",
    "        num += 1\n",
    "\n",
    "def print_successive_primes(iterations, base=10):\n",
    "    prime_generator = get_primes(base)\n",
    "    prime_generator.send(None)\n",
    "    for power in range(iterations):\n",
    "        print('sending', base ** power, 'into get_primes', end='')\n",
    "        print(prime_generator.send(base ** power))\n",
    "\n",
    "print_successive_primes(8)"
   ]
  }
 ],
 "metadata": {
  "kernelspec": {
   "display_name": "Python 3",
   "language": "python",
   "name": "python3"
  },
  "language_info": {
   "codemirror_mode": {
    "name": "ipython",
    "version": 3
   },
   "file_extension": ".py",
   "mimetype": "text/x-python",
   "name": "python",
   "nbconvert_exporter": "python",
   "pygments_lexer": "ipython3",
   "version": "3.6.0"
  }
 },
 "nbformat": 4,
 "nbformat_minor": 2
}
