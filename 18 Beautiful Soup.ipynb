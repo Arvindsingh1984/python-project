{
 "cells": [
  {
   "cell_type": "markdown",
   "metadata": {
    "slideshow": {
     "slide_type": "slide"
    }
   },
   "source": [
    "# Web Scraping Using BeautifulSoup"
   ]
  },
  {
   "cell_type": "markdown",
   "metadata": {
    "slideshow": {
     "slide_type": "subslide"
    }
   },
   "source": [
    "## Web Scraping\n",
    "* here is the very simple web page we will use as an example"
   ]
  },
  {
   "cell_type": "markdown",
   "metadata": {},
   "source": [
    "<html>\n",
    "    <head>\n",
    "    </head>\n",
    "    <body>\n",
    "        <p>\n",
    "            Here is some text!\n",
    "        </p>\n",
    "        <p>\n",
    "            Here is some more text!\n",
    "        </p>\n",
    "    </body>\n",
    "</html>"
   ]
  },
  {
   "cell_type": "markdown",
   "metadata": {
    "slideshow": {
     "slide_type": "subslide"
    }
   },
   "source": [
    "## First we need the Python \"requests\" library\n",
    "* the Python requests library performs a GET request–this will result in a download of a webpage as HTML\n"
   ]
  },
  {
   "cell_type": "code",
   "execution_count": 109,
   "metadata": {
    "collapsed": false
   },
   "outputs": [
    {
     "data": {
      "text/plain": [
       "<Response [200]>"
      ]
     },
     "execution_count": 109,
     "metadata": {},
     "output_type": "execute_result"
    }
   ],
   "source": [
    "import requests\n",
    "\n",
    "page = requests.get(\n",
    "    \"http://dataquestio.github.io/web-scraping-pages/simple.html\")\n",
    "page # page is a Response object"
   ]
  },
  {
   "cell_type": "code",
   "execution_count": 111,
   "metadata": {
    "collapsed": false
   },
   "outputs": [
    {
     "data": {
      "text/plain": [
       "200"
      ]
     },
     "execution_count": 111,
     "metadata": {},
     "output_type": "execute_result"
    }
   ],
   "source": [
    "page.status_code # 200 = success"
   ]
  },
  {
   "cell_type": "code",
   "execution_count": 112,
   "metadata": {
    "collapsed": false
   },
   "outputs": [
    {
     "data": {
      "text/plain": [
       "b'<!DOCTYPE html>\\n<html>\\n    <head>\\n        <title>A simple example page</title>\\n    </head>\\n    <body>\\n        <p>Here is some simple content for this page.</p>\\n    </body>\\n</html>'"
      ]
     },
     "execution_count": 112,
     "metadata": {},
     "output_type": "execute_result"
    }
   ],
   "source": [
    "page.content"
   ]
  },
  {
   "cell_type": "markdown",
   "metadata": {
    "slideshow": {
     "slide_type": "subslide"
    }
   },
   "source": [
    "## Let's use Beautiful Soup to parse the webpage"
   ]
  },
  {
   "cell_type": "code",
   "execution_count": 32,
   "metadata": {
    "collapsed": false
   },
   "outputs": [
    {
     "name": "stdout",
     "output_type": "stream",
     "text": [
      "<!DOCTYPE html>\n",
      "<html>\n",
      " <head>\n",
      "  <title>\n",
      "   A simple example page\n",
      "  </title>\n",
      " </head>\n",
      " <body>\n",
      "  <p>\n",
      "   Here is some simple content for this page.\n",
      "  </p>\n",
      " </body>\n",
      "</html>\n"
     ]
    }
   ],
   "source": [
    "from bs4 import BeautifulSoup\n",
    "soup = BeautifulSoup(page.content, 'html.parser')\n",
    "print(soup.prettify()) # nice formatting"
   ]
  },
  {
   "cell_type": "markdown",
   "metadata": {
    "slideshow": {
     "slide_type": "subslide"
    }
   },
   "source": [
    "* _children_ are _tags_ inside of other _tags_\n",
    "* let's inspect the _children_ of the webpage\n",
    "* __`soup.children`__ returns an _iterator_, so we need to _list-ify_ it, in order to see the list\n",
    "* let's print out each child and its type"
   ]
  },
  {
   "cell_type": "code",
   "execution_count": 49,
   "metadata": {
    "collapsed": false,
    "slideshow": {
     "slide_type": "-"
    }
   },
   "outputs": [
    {
     "name": "stdout",
     "output_type": "stream",
     "text": [
      "0 => 'html' (<class 'bs4.element.Doctype'>)\n",
      "1 => '\\n' (<class 'bs4.element.NavigableString'>)\n",
      "2 => <html>\n",
      "<head>\n",
      "<title>A simple example page</title>\n",
      "</head>\n",
      "<body>\n",
      "<p>Here is some simple content for this page.</p>\n",
      "</body>\n",
      "</html> (<class 'bs4.element.Tag'>)\n"
     ]
    }
   ],
   "source": [
    "children = list(soup.children)\n",
    "for index, child in enumerate(children):\n",
    "    print('{} => {} ({})'.format(index, repr(child), type(child)))"
   ]
  },
  {
   "cell_type": "markdown",
   "metadata": {
    "slideshow": {
     "slide_type": "subslide"
    }
   },
   "source": [
    "## BeautifulSoup object types can be found here:\n",
    "https://www.crummy.com/software/BeautifulSoup/bs4/doc/#kinds-of-objects"
   ]
  },
  {
   "cell_type": "markdown",
   "metadata": {
    "slideshow": {
     "slide_type": "subslide"
    }
   },
   "source": [
    "## let's retrieve the children of the html tag..."
   ]
  },
  {
   "cell_type": "code",
   "execution_count": 54,
   "metadata": {
    "collapsed": false,
    "slideshow": {
     "slide_type": "-"
    }
   },
   "outputs": [
    {
     "name": "stdout",
     "output_type": "stream",
     "text": [
      "0 => '\\n' (<class 'bs4.element.NavigableString'>)\n",
      "1 => <head>\n",
      "<title>A simple example page</title>\n",
      "</head> (<class 'bs4.element.Tag'>)\n",
      "2 => '\\n' (<class 'bs4.element.NavigableString'>)\n",
      "3 => <body>\n",
      "<p>Here is some simple content for this page.</p>\n",
      "</body> (<class 'bs4.element.Tag'>)\n",
      "4 => '\\n' (<class 'bs4.element.NavigableString'>)\n"
     ]
    }
   ],
   "source": [
    "html = list(soup.children)[2]\n",
    "for index, child in enumerate(list(html.children)):\n",
    "    print('{} => {} ({})'.format(index, repr(child), type(child)))"
   ]
  },
  {
   "cell_type": "markdown",
   "metadata": {
    "slideshow": {
     "slide_type": "subslide"
    }
   },
   "source": [
    "# now drill down into the body tag"
   ]
  },
  {
   "cell_type": "code",
   "execution_count": 57,
   "metadata": {
    "collapsed": false
   },
   "outputs": [
    {
     "name": "stdout",
     "output_type": "stream",
     "text": [
      "0 => '\\n' (<class 'bs4.element.NavigableString'>)\n",
      "1 => <p>Here is some simple content for this page.</p> (<class 'bs4.element.Tag'>)\n",
      "2 => '\\n' (<class 'bs4.element.NavigableString'>)\n"
     ]
    }
   ],
   "source": [
    "body = list(html.children)[3]\n",
    "for index, child in enumerate(list(body.children)):\n",
    "    print('{} => {} ({})'.format(index, repr(child), type(child)))"
   ]
  },
  {
   "cell_type": "markdown",
   "metadata": {
    "slideshow": {
     "slide_type": "subslide"
    }
   },
   "source": [
    "## finally, we'll get the text in the &lt;p>"
   ]
  },
  {
   "cell_type": "code",
   "execution_count": 22,
   "metadata": {
    "collapsed": false,
    "slideshow": {
     "slide_type": "-"
    }
   },
   "outputs": [
    {
     "data": {
      "text/plain": [
       "'Here is some simple content for this page.'"
      ]
     },
     "execution_count": 22,
     "metadata": {},
     "output_type": "execute_result"
    }
   ],
   "source": [
    "p = list(body.children)[1]\n",
    "p.get_text()"
   ]
  },
  {
   "cell_type": "markdown",
   "metadata": {
    "slideshow": {
     "slide_type": "subslide"
    }
   },
   "source": [
    "## we can also ask for _all_ of the tags of a certain type..."
   ]
  },
  {
   "cell_type": "code",
   "execution_count": 23,
   "metadata": {
    "collapsed": false
   },
   "outputs": [
    {
     "data": {
      "text/plain": [
       "[<p>Here is some simple content for this page.</p>]"
      ]
     },
     "execution_count": 23,
     "metadata": {},
     "output_type": "execute_result"
    }
   ],
   "source": [
    "soup.find_all('p')"
   ]
  },
  {
   "cell_type": "code",
   "execution_count": 24,
   "metadata": {
    "collapsed": false
   },
   "outputs": [
    {
     "data": {
      "text/plain": [
       "'Here is some simple content for this page.'"
      ]
     },
     "execution_count": 24,
     "metadata": {},
     "output_type": "execute_result"
    }
   ],
   "source": [
    "soup.find_all('p')[0].get_text()\n"
   ]
  },
  {
   "cell_type": "markdown",
   "metadata": {
    "slideshow": {
     "slide_type": "subslide"
    }
   },
   "source": [
    "## Let's try a more complicated webpage"
   ]
  },
  {
   "cell_type": "markdown",
   "metadata": {},
   "source": [
    "<html>\n",
    "    <head>\n",
    "        <title>A simple example page</title>\n",
    "    </head>\n",
    "    <body>\n",
    "        <div>\n",
    "            <p class=\"inner-text first-item\" id=\"first\">\n",
    "                First paragraph.\n",
    "            </p>\n",
    "            <p class=\"inner-text\">\n",
    "                Second paragraph.\n",
    "            </p>\n",
    "        </div>\n",
    "        <p class=\"outer-text first-item\" id=\"second\">\n",
    "            <b>\n",
    "                First outer paragraph.\n",
    "            </b>\n",
    "        </p>\n",
    "        <p class=\"outer-text\">\n",
    "            <b>\n",
    "                Second outer paragraph.\n",
    "            </b>\n",
    "        </p>\n",
    "    </body>\n",
    "</html>"
   ]
  },
  {
   "cell_type": "code",
   "execution_count": 59,
   "metadata": {
    "collapsed": false
   },
   "outputs": [
    {
     "data": {
      "text/plain": [
       "<html>\n",
       "<head>\n",
       "<title>A simple example page</title>\n",
       "</head>\n",
       "<body>\n",
       "<div>\n",
       "<p class=\"inner-text first-item\" id=\"first\">\n",
       "                First paragraph.\n",
       "            </p>\n",
       "<p class=\"inner-text\">\n",
       "                Second paragraph.\n",
       "            </p>\n",
       "</div>\n",
       "<p class=\"outer-text first-item\" id=\"second\">\n",
       "<b>\n",
       "                First outer paragraph.\n",
       "            </b>\n",
       "</p>\n",
       "<p class=\"outer-text\">\n",
       "<b>\n",
       "                Second outer paragraph.\n",
       "            </b>\n",
       "</p>\n",
       "</body>\n",
       "</html>"
      ]
     },
     "execution_count": 59,
     "metadata": {},
     "output_type": "execute_result"
    }
   ],
   "source": [
    "page = requests.get(\"http://dataquestio.github.io/web-scraping-pages/ids_and_classes.html\")\n",
    "soup = BeautifulSoup(page.content, 'html.parser')\n",
    "soup"
   ]
  },
  {
   "cell_type": "markdown",
   "metadata": {
    "slideshow": {
     "slide_type": "subslide"
    }
   },
   "source": [
    "## we can use the __`find_all()`__ method to search for items by class or by id\n",
    "* let's search for any __&lt;p>__ tag that has the class __`outer-text`__"
   ]
  },
  {
   "cell_type": "code",
   "execution_count": 60,
   "metadata": {
    "collapsed": false
   },
   "outputs": [
    {
     "data": {
      "text/plain": [
       "[<p class=\"outer-text first-item\" id=\"second\">\n",
       " <b>\n",
       "                 First outer paragraph.\n",
       "             </b>\n",
       " </p>, <p class=\"outer-text\">\n",
       " <b>\n",
       "                 Second outer paragraph.\n",
       "             </b>\n",
       " </p>]"
      ]
     },
     "execution_count": 60,
     "metadata": {},
     "output_type": "execute_result"
    }
   ],
   "source": [
    "soup.find_all('p', class_='outer-text')"
   ]
  },
  {
   "cell_type": "markdown",
   "metadata": {
    "slideshow": {
     "slide_type": "subslide"
    }
   },
   "source": [
    "## ...or search by __`id`__"
   ]
  },
  {
   "cell_type": "code",
   "execution_count": 61,
   "metadata": {
    "collapsed": false
   },
   "outputs": [
    {
     "data": {
      "text/plain": [
       "[<p class=\"inner-text first-item\" id=\"first\">\n",
       "                 First paragraph.\n",
       "             </p>]"
      ]
     },
     "execution_count": 61,
     "metadata": {},
     "output_type": "execute_result"
    }
   ],
   "source": [
    "soup.find_all(id=\"first\")"
   ]
  },
  {
   "cell_type": "markdown",
   "metadata": {
    "slideshow": {
     "slide_type": "subslide"
    }
   },
   "source": [
    "# We can also search using CSS Selectors\n",
    "* CSS selectors are how the CSS language allows developers to specify HTML tags to style\n",
    "* Examples\n",
    "  * __`p a`__ – finds all __`a`__ tags inside of a __`p`__ tag\n",
    "  * __`body p a`__ – finds all __`a`__ tags inside of a __`p`__ tag inside of a __`body`__ tag\n",
    "  * __`html body`__ – finds all __`body`__ tags inside of an __`html`__ tag\n",
    "  * __`p.outer-text`__ – finds all __`p`__ tags with a class of __`outer-text`__\n",
    "  * __`p#first`__ – finds all __`p`__ tags with an __`id`__ of first\n",
    "  * __`body p.outer-text`__ – finds any __`p`__ tags with a class of __`outer-text`__ inside of a __`body`__ tag"
   ]
  },
  {
   "cell_type": "code",
   "execution_count": 62,
   "metadata": {
    "collapsed": false
   },
   "outputs": [
    {
     "data": {
      "text/plain": [
       "[<p class=\"inner-text first-item\" id=\"first\">\n",
       "                 First paragraph.\n",
       "             </p>, <p class=\"inner-text\">\n",
       "                 Second paragraph.\n",
       "             </p>]"
      ]
     },
     "execution_count": 62,
     "metadata": {},
     "output_type": "execute_result"
    }
   ],
   "source": [
    "soup.select(\"div p\")"
   ]
  },
  {
   "cell_type": "markdown",
   "metadata": {
    "slideshow": {
     "slide_type": "subslide"
    }
   },
   "source": [
    "## Downloading Weather Data\n",
    "* we will scrape SF weather data from http://forecast.weather.gov/MapClick.php?lat=37.7772&lon=-122.4168\n",
    "* download the web page containing the forecast\n",
    "* create a BeautifulSoup class to parse the page\n",
    "* find the div with id seven-day-forecast, and assign to seven_day\n",
    "* inside seven_day, find each individual forecast item\n",
    "* extract and print the first forecast item"
   ]
  },
  {
   "cell_type": "code",
   "execution_count": 114,
   "metadata": {
    "collapsed": false
   },
   "outputs": [
    {
     "name": "stdout",
     "output_type": "stream",
     "text": [
      "<div class=\"tombstone-container\">\n",
      " <p class=\"period-name\">\n",
      "  This\n",
      "  <br>\n",
      "   Afternoon\n",
      "  </br>\n",
      " </p>\n",
      " <p>\n",
      "  <img alt=\"This Afternoon: Rain. The rain could be heavy at times.  High near 61. South wind around 18 mph, with gusts as high as 24 mph.  Chance of precipitation is 100%. New precipitation amounts between a quarter and half of an inch possible. \" class=\"forecast-icon\" src=\"newimages/medium/ra100.png\" title=\"This Afternoon: Rain. The rain could be heavy at times.  High near 61. South wind around 18 mph, with gusts as high as 24 mph.  Chance of precipitation is 100%. New precipitation amounts between a quarter and half of an inch possible. \"/>\n",
      " </p>\n",
      " <p class=\"short-desc\">\n",
      "  Heavy Rain\n",
      " </p>\n",
      " <p class=\"temp temp-high\">\n",
      "  High: 61 °F\n",
      " </p>\n",
      "</div>\n"
     ]
    }
   ],
   "source": [
    "page = requests.get(\"http://forecast.weather.gov/MapClick.php?lat=37.7772&lon=-122.4168\")\n",
    "soup = BeautifulSoup(page.content, 'html.parser')\n",
    "seven_day = soup.find(id=\"seven-day-forecast\")\n",
    "forecast_items = seven_day.find_all(class_=\"tombstone-container\")\n",
    "tonight = forecast_items[0]\n",
    "print(tonight.prettify())"
   ]
  },
  {
   "cell_type": "markdown",
   "metadata": {},
   "source": [
    "* inside the forecast item __`tonight`__ is the information we want\n",
    "* there are 4 pieces of information we can extract:\n",
    "  * the name of the forecast item–in this case, __`Tonight`__\n",
    "  * the description of the conditions–this is stored in the title property of __`img`__\n",
    "  * a short description of the conditions–in this case, __`Mostly Clear`__\n",
    "  * the temperature low–__`49`º__\n",
    "  * we extract the name of the forecast item, the short description, and the temperature first, since they’re all similar"
   ]
  },
  {
   "cell_type": "code",
   "execution_count": 115,
   "metadata": {
    "collapsed": false
   },
   "outputs": [
    {
     "name": "stdout",
     "output_type": "stream",
     "text": [
      "ThisAfternoon\n",
      "Heavy Rain\n",
      "High: 61 °F\n"
     ]
    }
   ],
   "source": [
    "period = tonight.find(class_=\"period-name\").get_text()\n",
    "short_desc = tonight.find(class_=\"short-desc\").get_text()\n",
    "temp = tonight.find(class_=\"temp\").get_text()\n",
    "\n",
    "print(period)\n",
    "print(short_desc)\n",
    "print(temp)"
   ]
  },
  {
   "cell_type": "markdown",
   "metadata": {
    "slideshow": {
     "slide_type": "subslide"
    }
   },
   "source": [
    "* to extract the __`title`__ attribute from the __`img`__ tag, we just treat the __`BeautifulSoup`__ object like a dict, and pass in the attribute we want as a key"
   ]
  },
  {
   "cell_type": "code",
   "execution_count": 116,
   "metadata": {
    "collapsed": false
   },
   "outputs": [
    {
     "name": "stdout",
     "output_type": "stream",
     "text": [
      "This Afternoon: Rain. The rain could be heavy at times.  High near 61. South wind around 18 mph, with gusts as high as 24 mph.  Chance of precipitation is 100%. New precipitation amounts between a quarter and half of an inch possible. \n"
     ]
    }
   ],
   "source": [
    "img = tonight.find(\"img\")\n",
    "desc = img['title']\n",
    "\n",
    "print(desc)"
   ]
  },
  {
   "cell_type": "markdown",
   "metadata": {
    "slideshow": {
     "slide_type": "subslide"
    }
   },
   "source": [
    "## How to extract everything at once...\n",
    "* we can combine our knowledge with css selectors and list comprehensions to extract everything at once\n",
    "   * we select all items with the class __`period-name`__ inside an item with the class __`tombstone-container`__ in __`seven_day`__\n",
    "   * use a list comp to call the __`get_text`__ method on each __`BeautifulSoup`__ object\n"
   ]
  },
  {
   "cell_type": "code",
   "execution_count": 117,
   "metadata": {
    "collapsed": false
   },
   "outputs": [
    {
     "data": {
      "text/plain": [
       "['ThisAfternoon',\n",
       " 'Tonight',\n",
       " 'Saturday',\n",
       " 'SaturdayNight',\n",
       " 'Sunday',\n",
       " 'SundayNight',\n",
       " 'Monday',\n",
       " 'MondayNight',\n",
       " 'Tuesday']"
      ]
     },
     "execution_count": 117,
     "metadata": {},
     "output_type": "execute_result"
    }
   ],
   "source": [
    "period_tags = seven_day.select(\".tombstone-container .period-name\")\n",
    "periods = [pt.get_text() for pt in period_tags]\n",
    "periods"
   ]
  },
  {
   "cell_type": "code",
   "execution_count": 69,
   "metadata": {
    "collapsed": false
   },
   "outputs": [
    {
     "name": "stdout",
     "output_type": "stream",
     "text": [
      "['Chance Rain', 'Rain andBreezy', 'Rain Likelythen SlightChanceShowers', 'Mostly Sunny', 'Mostly Cloudy', 'ChanceShowers', 'ShowersLikely', 'Slight ChanceShowers', 'Partly Cloudy']\n",
      "['Low: 52 °F', 'High: 62 °F', 'Low: 52 °F', 'High: 63 °F', 'Low: 51 °F', 'High: 61 °F', 'Low: 52 °F', 'High: 63 °F', 'Low: 49 °F']\n",
      "['Tonight: A 50 percent chance of rain after 11pm.  Cloudy, with a low around 52. Southwest wind 10 to 16 mph becoming south southeast after midnight. Winds could gust as high as 21 mph.  New precipitation amounts between a tenth and quarter of an inch possible. ', 'Friday: Rain.  High near 62. Breezy, with a south wind around 22 mph, with gusts as high as 29 mph.  Chance of precipitation is 100%. New precipitation amounts between a half and three quarters of an inch possible. ', 'Friday Night: Rain likely before 11pm, then a slight chance of showers after 11pm.  Cloudy, then gradually becoming partly cloudy, with a low around 52. West northwest wind 6 to 9 mph.  Chance of precipitation is 70%. New precipitation amounts between a tenth and quarter of an inch possible. ', 'Saturday: Mostly sunny, with a high near 63. West wind 8 to 14 mph, with gusts as high as 18 mph. ', 'Saturday Night: Mostly cloudy, with a low around 51. West northwest wind 6 to 14 mph, with gusts as high as 18 mph. ', 'Sunday: A 50 percent chance of showers.  Mostly cloudy, with a high near 61. New precipitation amounts between a tenth and quarter of an inch possible. ', 'Sunday Night: Showers likely.  Mostly cloudy, with a low around 52. Chance of precipitation is 70%.', 'Monday: A slight chance of showers.  Partly sunny, with a high near 63.', 'Monday Night: Partly cloudy, with a low around 49.']\n"
     ]
    }
   ],
   "source": [
    "# now get short descriptions, temperatures, and descriptions\n",
    "short_descs = [sd.get_text() for sd in \n",
    "               seven_day.select(\".tombstone-container .short-desc\")]\n",
    "temps = [t.get_text() for t in \n",
    "         seven_day.select(\".tombstone-container .temp\")]\n",
    "descs = [d[\"title\"] for d in \n",
    "         seven_day.select(\".tombstone-container img\")]\n",
    "\n",
    "print(short_descs)\n",
    "print(temps)\n",
    "print(descs)"
   ]
  },
  {
   "cell_type": "markdown",
   "metadata": {
    "slideshow": {
     "slide_type": "subslide"
    }
   },
   "source": [
    "## Drop all of our data into a Pandas DataFrame"
   ]
  },
  {
   "cell_type": "code",
   "execution_count": 118,
   "metadata": {
    "collapsed": false
   },
   "outputs": [
    {
     "data": {
      "text/html": [
       "<div>\n",
       "<table border=\"1\" class=\"dataframe\">\n",
       "  <thead>\n",
       "    <tr style=\"text-align: right;\">\n",
       "      <th></th>\n",
       "      <th>desc</th>\n",
       "      <th>period</th>\n",
       "      <th>short_desc</th>\n",
       "      <th>temp</th>\n",
       "    </tr>\n",
       "  </thead>\n",
       "  <tbody>\n",
       "    <tr>\n",
       "      <th>0</th>\n",
       "      <td>Tonight: A 50 percent chance of rain after 11p...</td>\n",
       "      <td>ThisAfternoon</td>\n",
       "      <td>Chance Rain</td>\n",
       "      <td>Low: 52 °F</td>\n",
       "    </tr>\n",
       "    <tr>\n",
       "      <th>1</th>\n",
       "      <td>Friday: Rain.  High near 62. Breezy, with a so...</td>\n",
       "      <td>Tonight</td>\n",
       "      <td>Rain andBreezy</td>\n",
       "      <td>High: 62 °F</td>\n",
       "    </tr>\n",
       "    <tr>\n",
       "      <th>2</th>\n",
       "      <td>Friday Night: Rain likely before 11pm, then a ...</td>\n",
       "      <td>Saturday</td>\n",
       "      <td>Rain Likelythen SlightChanceShowers</td>\n",
       "      <td>Low: 52 °F</td>\n",
       "    </tr>\n",
       "    <tr>\n",
       "      <th>3</th>\n",
       "      <td>Saturday: Mostly sunny, with a high near 63. W...</td>\n",
       "      <td>SaturdayNight</td>\n",
       "      <td>Mostly Sunny</td>\n",
       "      <td>High: 63 °F</td>\n",
       "    </tr>\n",
       "    <tr>\n",
       "      <th>4</th>\n",
       "      <td>Saturday Night: Mostly cloudy, with a low arou...</td>\n",
       "      <td>Sunday</td>\n",
       "      <td>Mostly Cloudy</td>\n",
       "      <td>Low: 51 °F</td>\n",
       "    </tr>\n",
       "    <tr>\n",
       "      <th>5</th>\n",
       "      <td>Sunday: A 50 percent chance of showers.  Mostl...</td>\n",
       "      <td>SundayNight</td>\n",
       "      <td>ChanceShowers</td>\n",
       "      <td>High: 61 °F</td>\n",
       "    </tr>\n",
       "    <tr>\n",
       "      <th>6</th>\n",
       "      <td>Sunday Night: Showers likely.  Mostly cloudy, ...</td>\n",
       "      <td>Monday</td>\n",
       "      <td>ShowersLikely</td>\n",
       "      <td>Low: 52 °F</td>\n",
       "    </tr>\n",
       "    <tr>\n",
       "      <th>7</th>\n",
       "      <td>Monday: A slight chance of showers.  Partly su...</td>\n",
       "      <td>MondayNight</td>\n",
       "      <td>Slight ChanceShowers</td>\n",
       "      <td>High: 63 °F</td>\n",
       "    </tr>\n",
       "    <tr>\n",
       "      <th>8</th>\n",
       "      <td>Monday Night: Partly cloudy, with a low around...</td>\n",
       "      <td>Tuesday</td>\n",
       "      <td>Partly Cloudy</td>\n",
       "      <td>Low: 49 °F</td>\n",
       "    </tr>\n",
       "  </tbody>\n",
       "</table>\n",
       "</div>"
      ],
      "text/plain": [
       "                                                desc         period  \\\n",
       "0  Tonight: A 50 percent chance of rain after 11p...  ThisAfternoon   \n",
       "1  Friday: Rain.  High near 62. Breezy, with a so...        Tonight   \n",
       "2  Friday Night: Rain likely before 11pm, then a ...       Saturday   \n",
       "3  Saturday: Mostly sunny, with a high near 63. W...  SaturdayNight   \n",
       "4  Saturday Night: Mostly cloudy, with a low arou...         Sunday   \n",
       "5  Sunday: A 50 percent chance of showers.  Mostl...    SundayNight   \n",
       "6  Sunday Night: Showers likely.  Mostly cloudy, ...         Monday   \n",
       "7  Monday: A slight chance of showers.  Partly su...    MondayNight   \n",
       "8  Monday Night: Partly cloudy, with a low around...        Tuesday   \n",
       "\n",
       "                            short_desc         temp  \n",
       "0                          Chance Rain   Low: 52 °F  \n",
       "1                       Rain andBreezy  High: 62 °F  \n",
       "2  Rain Likelythen SlightChanceShowers   Low: 52 °F  \n",
       "3                         Mostly Sunny  High: 63 °F  \n",
       "4                        Mostly Cloudy   Low: 51 °F  \n",
       "5                        ChanceShowers  High: 61 °F  \n",
       "6                        ShowersLikely   Low: 52 °F  \n",
       "7                 Slight ChanceShowers  High: 63 °F  \n",
       "8                        Partly Cloudy   Low: 49 °F  "
      ]
     },
     "execution_count": 118,
     "metadata": {},
     "output_type": "execute_result"
    }
   ],
   "source": [
    "import pandas as pd\n",
    "weather = pd.DataFrame({\n",
    "        \"period\": periods, \n",
    "        \"short_desc\": short_descs, \n",
    "        \"temp\": temps, \n",
    "        \"desc\": descs\n",
    "    })\n",
    "weather"
   ]
  },
  {
   "cell_type": "code",
   "execution_count": 123,
   "metadata": {
    "collapsed": false
   },
   "outputs": [
    {
     "data": {
      "text/plain": [
       "0    52\n",
       "1    62\n",
       "2    52\n",
       "3    63\n",
       "4    51\n",
       "5    61\n",
       "6    52\n",
       "7    63\n",
       "8    49\n",
       "Name: temp_num, dtype: int64"
      ]
     },
     "execution_count": 123,
     "metadata": {},
     "output_type": "execute_result"
    }
   ],
   "source": [
    "# extract temps\n",
    "temp_nums = weather[\"temp\"].str.extract(\"(\\d+)\", expand=False)\n",
    "weather[\"temp_num\"] = temp_nums.astype('int')\n",
    "weather[\"temp_num\"]"
   ]
  },
  {
   "cell_type": "code",
   "execution_count": 124,
   "metadata": {
    "collapsed": false
   },
   "outputs": [
    {
     "data": {
      "text/plain": [
       "56.111111111111114"
      ]
     },
     "execution_count": 124,
     "metadata": {},
     "output_type": "execute_result"
    }
   ],
   "source": [
    "weather['temp_num'].mean()"
   ]
  },
  {
   "cell_type": "code",
   "execution_count": 125,
   "metadata": {
    "collapsed": false
   },
   "outputs": [
    {
     "name": "stdout",
     "output_type": "stream",
     "text": [
      "56\n"
     ]
    }
   ],
   "source": [
    "print('{:.0f}'.format(weather['temp_num'].mean()))"
   ]
  },
  {
   "cell_type": "code",
   "execution_count": 128,
   "metadata": {
    "collapsed": false
   },
   "outputs": [
    {
     "data": {
      "text/plain": [
       "0     True\n",
       "1    False\n",
       "2     True\n",
       "3    False\n",
       "4     True\n",
       "5    False\n",
       "6     True\n",
       "7    False\n",
       "8     True\n",
       "Name: temp, dtype: bool"
      ]
     },
     "execution_count": 128,
     "metadata": {},
     "output_type": "execute_result"
    }
   ],
   "source": [
    "# get only the rows that happen at night\n",
    "is_night = weather[\"temp\"].str.contains(\"Low\")\n",
    "weather[\"is_night\"] = is_night\n",
    "is_night"
   ]
  },
  {
   "cell_type": "code",
   "execution_count": 129,
   "metadata": {
    "collapsed": false
   },
   "outputs": [
    {
     "data": {
      "text/html": [
       "<div>\n",
       "<table border=\"1\" class=\"dataframe\">\n",
       "  <thead>\n",
       "    <tr style=\"text-align: right;\">\n",
       "      <th></th>\n",
       "      <th>desc</th>\n",
       "      <th>period</th>\n",
       "      <th>short_desc</th>\n",
       "      <th>temp</th>\n",
       "      <th>temp_num</th>\n",
       "      <th>is_night</th>\n",
       "    </tr>\n",
       "  </thead>\n",
       "  <tbody>\n",
       "    <tr>\n",
       "      <th>0</th>\n",
       "      <td>Tonight: A 50 percent chance of rain after 11p...</td>\n",
       "      <td>ThisAfternoon</td>\n",
       "      <td>Chance Rain</td>\n",
       "      <td>Low: 52 °F</td>\n",
       "      <td>52</td>\n",
       "      <td>True</td>\n",
       "    </tr>\n",
       "    <tr>\n",
       "      <th>2</th>\n",
       "      <td>Friday Night: Rain likely before 11pm, then a ...</td>\n",
       "      <td>Saturday</td>\n",
       "      <td>Rain Likelythen SlightChanceShowers</td>\n",
       "      <td>Low: 52 °F</td>\n",
       "      <td>52</td>\n",
       "      <td>True</td>\n",
       "    </tr>\n",
       "    <tr>\n",
       "      <th>4</th>\n",
       "      <td>Saturday Night: Mostly cloudy, with a low arou...</td>\n",
       "      <td>Sunday</td>\n",
       "      <td>Mostly Cloudy</td>\n",
       "      <td>Low: 51 °F</td>\n",
       "      <td>51</td>\n",
       "      <td>True</td>\n",
       "    </tr>\n",
       "    <tr>\n",
       "      <th>6</th>\n",
       "      <td>Sunday Night: Showers likely.  Mostly cloudy, ...</td>\n",
       "      <td>Monday</td>\n",
       "      <td>ShowersLikely</td>\n",
       "      <td>Low: 52 °F</td>\n",
       "      <td>52</td>\n",
       "      <td>True</td>\n",
       "    </tr>\n",
       "    <tr>\n",
       "      <th>8</th>\n",
       "      <td>Monday Night: Partly cloudy, with a low around...</td>\n",
       "      <td>Tuesday</td>\n",
       "      <td>Partly Cloudy</td>\n",
       "      <td>Low: 49 °F</td>\n",
       "      <td>49</td>\n",
       "      <td>True</td>\n",
       "    </tr>\n",
       "  </tbody>\n",
       "</table>\n",
       "</div>"
      ],
      "text/plain": [
       "                                                desc         period  \\\n",
       "0  Tonight: A 50 percent chance of rain after 11p...  ThisAfternoon   \n",
       "2  Friday Night: Rain likely before 11pm, then a ...       Saturday   \n",
       "4  Saturday Night: Mostly cloudy, with a low arou...         Sunday   \n",
       "6  Sunday Night: Showers likely.  Mostly cloudy, ...         Monday   \n",
       "8  Monday Night: Partly cloudy, with a low around...        Tuesday   \n",
       "\n",
       "                            short_desc        temp  temp_num is_night  \n",
       "0                          Chance Rain  Low: 52 °F        52     True  \n",
       "2  Rain Likelythen SlightChanceShowers  Low: 52 °F        52     True  \n",
       "4                        Mostly Cloudy  Low: 51 °F        51     True  \n",
       "6                        ShowersLikely  Low: 52 °F        52     True  \n",
       "8                        Partly Cloudy  Low: 49 °F        49     True  "
      ]
     },
     "execution_count": 129,
     "metadata": {},
     "output_type": "execute_result"
    }
   ],
   "source": [
    "weather[is_night]"
   ]
  },
  {
   "cell_type": "code",
   "execution_count": null,
   "metadata": {
    "collapsed": true
   },
   "outputs": [],
   "source": []
  }
 ],
 "metadata": {
  "celltoolbar": "Slideshow",
  "kernelspec": {
   "display_name": "Python 3",
   "language": "python",
   "name": "python3"
  },
  "language_info": {
   "codemirror_mode": {
    "name": "ipython",
    "version": 3
   },
   "file_extension": ".py",
   "mimetype": "text/x-python",
   "name": "python",
   "nbconvert_exporter": "python",
   "pygments_lexer": "ipython3",
   "version": "3.6.0"
  }
 },
 "nbformat": 4,
 "nbformat_minor": 2
}
