{
 "cells": [
  {
   "cell_type": "markdown",
   "metadata": {
    "collapsed": false,
    "scrolled": true,
    "slideshow": {
     "slide_type": "slide"
    }
   },
   "source": [
    "# Multithreading and Multiprocessing"
   ]
  },
  {
   "cell_type": "markdown",
   "metadata": {
    "slideshow": {
     "slide_type": "subslide"
    }
   },
   "source": [
    "### Threading\n",
    "* typically, concurrency is created so that we can do some task while I/O is happening (e.g., a server can start processing a new request while waiting for data from a previous request to arrive)\n",
    "* we can create objects that appear to be running independently, but simultaneously\n",
    "* the job of threading is to enable an application to be responsive\n",
    "* CPython, the default implementation of Python, has a Global Interpreter Lock (GIL), which prevents your application from doing two things at once, but rather, the CPU time is being rationed across your thread"
   ]
  },
  {
   "cell_type": "markdown",
   "metadata": {
    "slideshow": {
     "slide_type": "subslide"
    }
   },
   "source": [
    "### Simple threading example"
   ]
  },
  {
   "cell_type": "code",
   "execution_count": 4,
   "metadata": {
    "collapsed": false,
    "slideshow": {
     "slide_type": "subslide"
    }
   },
   "outputs": [
    {
     "name": "stdout",
     "output_type": "stream",
     "text": [
      "Are you ready? When you hit return the thread will start.\n",
      "Enter some text: hello\n",
      "calculated squares up to 1 * 1 = 1\n",
      "while you typed \"hello\"\n"
     ]
    }
   ],
   "source": [
    "from threading import Thread\n",
    "\n",
    "class InputReader(Thread):\n",
    "    \"\"\"Thread example, extends Thread class\"\"\"\n",
    "\n",
    "    def run(self):\n",
    "        \"\"\"\n",
    "        Whatever is in the run method (or called from\n",
    "        it) is executed in a separate thread\n",
    "        \"\"\"\n",
    "        self.line_of_text = input('Enter some text: ')\n",
    "\n",
    "input('Are you ready? When you hit return the thread will start.')\n",
    "thread = InputReader() # create thread object\n",
    "thread.start() # cf. thread.run() for no concurrency\n",
    "\n",
    "count, result = 1, 1\n",
    "\n",
    "while thread.is_alive():\n",
    "    result = count * count\n",
    "    count += 1\n",
    "\n",
    "print('calculated squares up to {0:_} * {0:_} = {1:,}'\n",
    "      .format(count, result))\n",
    "print('while you typed \"{}\"'.format(thread.line_of_text))"
   ]
  },
  {
   "cell_type": "code",
   "execution_count": 17,
   "metadata": {
    "collapsed": false,
    "slideshow": {
     "slide_type": "subslide"
    }
   },
   "outputs": [
    {
     "name": "stdout",
     "output_type": "stream",
     "text": [
      "IT is 57°F in Boulder\n",
      "IT is 47°F in Atlanta\n",
      "IT is 56°F in San Francisco\n",
      "IT is 39°F in Reno\n",
      "IT is 76°F in Honolulu\n",
      "IT is 33°F in Zurich\n",
      "IT is 74°F in Dubai\n",
      "IT is 56°F in Dublin\n",
      "IT is 81°F in Hyderabad\n",
      "IT is 44°F in Rome\n",
      "Got 10 temps in 0.4813971519470215 seconds\n"
     ]
    }
   ],
   "source": [
    "# Does not work inside Jupyter (but I think it does now)\n",
    "from threading import Thread\n",
    "import json\n",
    "from urllib.request import urlopen\n",
    "import time\n",
    "\n",
    "cities = ['Boulder', 'Atlanta', 'San Francisco',\n",
    "          'Reno', 'Honolulu', 'Zurich', 'Dubai',\n",
    "          'Dublin', 'Hyderabad', 'Rome']\n",
    "\n",
    "class TempGetter(Thread):\n",
    "    def __init__(self, city):\n",
    "        \"\"\"Initialize our thread\n",
    "\n",
    "In the previous example, our class which extended\n",
    "Thread did not need an __init__ method, because\n",
    "there was no per-thread information to store. Which\n",
    "means that the __init__ method from the superclass\n",
    "(Thread) was called automatically. Here, because we\n",
    "need to store per-thread information (the city), we\n",
    "have to explicitly call the__init__ method of Thread.\n",
    "        \"\"\"\n",
    "        super().__init__()\n",
    "        self.city = city\n",
    "\n",
    "    def run(self):\n",
    "        url_template = (\n",
    "            'http://api.openweathermap.org/data/2.5/' \n",
    "            'weather?q={}&units=imperial'\n",
    "                        '&&APPID=10d4440bbaa8581bb8da9bd1fbea5617')\n",
    "        response = urlopen(url_template.format(self.city))\n",
    "        data = json.loads(response.read().decode())\n",
    "        self.temperature = data['main']['temp']\n",
    "        \n",
    "threads = [TempGetter(c) for c in cities] # creates 10 threads\n",
    "start = time.time()\n",
    "\n",
    "# start all 10 threads\n",
    "for thread in threads:\n",
    "    thread.start() # not run()\n",
    "\n",
    "# wait for all 10 threads to complete\n",
    "for thread in threads:\n",
    "    thread.join()\n",
    "\n",
    "for thread in threads:\n",
    "    print(\"it is {0.temperature:.0f}°F in {0.city}\"\n",
    "          .format(thread))\n",
    "print(\"Got {} temps in {} seconds\"\n",
    "      .format(len(threads), time.time() - start))"
   ]
  },
  {
   "cell_type": "code",
   "execution_count": null,
   "metadata": {
    "collapsed": false,
    "slideshow": {
     "slide_type": "-"
    }
   },
   "outputs": [],
   "source": [
    "%%bash\n",
    "python3 getweather.py"
   ]
  },
  {
   "cell_type": "markdown",
   "metadata": {
    "slideshow": {
     "slide_type": "subslide"
    }
   },
   "source": [
    "## Threading (cont'd)\n",
    "* the main problem with threads is also their primary advantage–shared memory\n",
    " * all threads have access to all the memory\n",
    " * what if two threads access the same data?\n",
    "* synchronization is the solution, but it's tricky\n",
    " * bugs due to incorrect synchronization can be very difficult to find due to ordering issues\n",
    "* one solution is to force communication between threads to occur using a data structure that has built in locking, such as queue.Queue\n",
    "* disadvantages could be outweighed by the fact that shared memory is FAST, except for the GIL"
   ]
  },
  {
   "cell_type": "markdown",
   "metadata": {
    "slideshow": {
     "slide_type": "subslide"
    }
   },
   "source": [
    "## Lab: threads\n",
    "* create a program which uses threads to simulate a database server\n",
    "* your \"database server\" should simply be a thread which sleeps for a random interval (check out __`time.sleep()`__ and __`random.randint()`__ if you're not familiar with them)\n",
    "* your main thread should get input from the user and respond to it (perhaps reversing the input given by the user) while the database thread is busy"
   ]
  },
  {
   "cell_type": "markdown",
   "metadata": {
    "slideshow": {
     "slide_type": "subslide"
    }
   },
   "source": [
    "## Lab Solution: threads"
   ]
  },
  {
   "cell_type": "markdown",
   "metadata": {
    "slideshow": {
     "slide_type": "subslide"
    }
   },
   "source": [
    "# Multiprocessing\n",
    "* the Python multiprocessing library is designed for cases where CPU-bound jobs needs to happen in parallel and multiple cores are available\n",
    "* advantages\n",
    " * separate memory space for each process\n",
    " * code is usually straightforward compared to threads\n",
    " * avoids GIL limitation\n",
    " * eliminates synchronization (assuming no shared memory)"
   ]
  },
  {
   "cell_type": "markdown",
   "metadata": {
    "slideshow": {
     "slide_type": "subslide"
    }
   },
   "source": [
    "## A Simple Multiprocessing Example"
   ]
  },
  {
   "cell_type": "code",
   "execution_count": 24,
   "metadata": {
    "collapsed": false,
    "slideshow": {
     "slide_type": "subslide"
    }
   },
   "outputs": [
    {
     "name": "stdout",
     "output_type": "stream",
     "text": [
      "Running...\n",
      "16978\n",
      "16979\n",
      "__main__\n",
      "16980\n",
      "__main__\n",
      "16981\n",
      "__main__\n",
      "__main__\n",
      "work took 5.753094911575317 seconds\n"
     ]
    }
   ],
   "source": [
    "from multiprocessing import Process, cpu_count\n",
    "import time\n",
    "import os\n",
    "\n",
    "class MuchCPU(Process):\n",
    "    def run(self):\n",
    "        print(os.getpid()) # get process ID\n",
    "        print(__name__)\n",
    "        for i in range(40_000_000):\n",
    "            result = i * i\n",
    "            \n",
    "#if __name__ == '__main__':\n",
    "print('Running...')\n",
    "procs = [MuchCPU() for f in range(cpu_count())]\n",
    "t = time.time()\n",
    "for p in procs:\n",
    "    p.start()\n",
    "    \n",
    "for p in procs:\n",
    "    p.join()\n",
    "    \n",
    "print('work took {} seconds'.format(time.time() - t))"
   ]
  },
  {
   "cell_type": "markdown",
   "metadata": {
    "slideshow": {
     "slide_type": "subslide"
    }
   },
   "source": [
    "## Multiprocessing (cont'd)\n",
    "* no reason for more processes than there are processors\n",
    " * only `cpu_count()` procs can run simultaneously\n",
    " * each proc consumes resources with a full copy of Python interpreter\n",
    " * interproc communication is expensive\n",
    " * creating procs takes a nonzero amount of time\n",
    "* so we create at most `cpu_count()` processes when the program starts and have them execute tasks as needed\n",
    "* easy to implement a basic series of communicating processes to do this, but it can be tricky to debug, test, and get correct–we don't have to do all this work because the Python developers have already done it for us–multiprocessing pools\n"
   ]
  },
  {
   "cell_type": "markdown",
   "metadata": {
    "slideshow": {
     "slide_type": "subslide"
    }
   },
   "source": [
    "## Multiprocessing Pools\n",
    "* pools abstract away the overhead of figuring out what code is running in main process and what code is running in subprocess\n",
    "* abstraction restricts the number of places that code in different processes interact with each other, making it easier to keep track of\n",
    "* pools also hide the passing of data between processes\n",
    " * using a pool looks much like a function call–you pass data into a function, it's executed in another process or processes, and when the work is complete, a value is returned\n",
    " * under the hood, a lot of work is being done to support this–objects in one process are being pickled (serialized) and passed into a pipe, then another process retrieves data from the pipe and unpickles it. Work is done in the subprocess and a result is produced. The result is pickled and passed into a pipe. Eventually, the original process unpickles it and returns it."
   ]
  },
  {
   "cell_type": "markdown",
   "metadata": {
    "slideshow": {
     "slide_type": "subslide"
    }
   },
   "source": [
    "## Multiprocessing Pool Example"
   ]
  },
  {
   "cell_type": "code",
   "execution_count": 30,
   "metadata": {
    "collapsed": false,
    "slideshow": {
     "slide_type": "subslide"
    }
   },
   "outputs": [
    {
     "name": "stdout",
     "output_type": "stream",
     "text": [
      "[48417975, 43517475, 7961327, 36301960, 14874335, 17444282, 45065960, 42746163, 11305911, 659649, 15357121, 8619180, 12898027, 4694526, 29508322, 1360013, 37393428, 43559324, 49225351, 17697069, 11221067, 9216451, 15089572, 31818672, 44944394, 40783181, 26075596, 26034684, 3754459, 3659960, 148419, 13152877, 43831494, 7289907, 36747565, 10114097, 24020989, 36448377, 23441654, 41362295]\n",
      "The factors of 48417975 are [3, 3, 5, 5, 215191]\n",
      "The factors of 43517475 are [3, 3, 5, 5, 269, 719]\n",
      "The factors of 7961327 are [11, 31, 37, 631]\n",
      "The factors of 36301960 are [2, 2, 2, 5, 907549]\n",
      "The factors of 14874335 are [5, 7, 67, 6343]\n",
      "The factors of 17444282 are [2, 173, 50417]\n",
      "The factors of 45065960 are [2, 2, 2, 5, 1126649]\n",
      "The factors of 42746163 are [3, 149, 95629]\n",
      "The factors of 11305911 are [3, 29, 129953]\n",
      "The factors of 659649 are [3, 31, 41, 173]\n",
      "The factors of 15357121 are [13, 31, 53, 719]\n",
      "The factors of 8619180 are [2, 2, 3, 5, 143653]\n",
      "The factors of 12898027 are [53, 163, 1493]\n",
      "The factors of 4694526 are [2, 3, 3, 260807]\n",
      "The factors of 29508322 are [2, 14754161]\n",
      "The factors of 1360013 are [23, 29, 2039]\n",
      "The factors of 37393428 are [2, 2, 3, 71, 43889]\n",
      "The factors of 43559324 are [2, 2, 19, 173, 3313]\n",
      "The factors of 49225351 are [7, 7, 1004599]\n",
      "The factors of 17697069 are [3, 3, 3, 13, 127, 397]\n",
      "The factors of 11221067 are [11, 13, 131, 599]\n",
      "The factors of 9216451 are [9216451]\n",
      "The factors of 15089572 are [2, 2, 19, 367, 541]\n",
      "The factors of 31818672 are [2, 2, 2, 2, 3, 3, 79, 2797]\n",
      "The factors of 44944394 are [2, 11, 101, 113, 179]\n",
      "The factors of 40783181 are [71, 179, 3209]\n",
      "The factors of 26075596 are [2, 2, 67, 149, 653]\n",
      "The factors of 26034684 are [2, 2, 3, 13, 17, 9817]\n",
      "The factors of 3754459 are [43, 87313]\n",
      "The factors of 3659960 are [2, 2, 2, 5, 91499]\n",
      "The factors of 148419 are [3, 3, 3, 23, 239]\n",
      "The factors of 13152877 are [1297, 10141]\n",
      "The factors of 43831494 are [2, 3, 3, 7, 233, 1493]\n",
      "The factors of 7289907 are [3, 137, 17737]\n",
      "The factors of 36747565 are [5, 7349513]\n",
      "The factors of 10114097 are [7, 157, 9203]\n",
      "The factors of 24020989 are [24020989]\n",
      "The factors of 36448377 are [3, 7, 431, 4027]\n",
      "The factors of 23441654 are [2, 1511, 7757]\n",
      "The factors of 41362295 are [5, 13, 636343]\n"
     ]
    }
   ],
   "source": [
    "import random\n",
    "import math\n",
    "import os\n",
    "from multiprocessing.pool import Pool\n",
    "\n",
    "def prime_factor(value):\n",
    "    factors = []\n",
    "    #print('prime_factor(', value, ')', os.getpid())\n",
    "    for divisor in range(2, value-1):\n",
    "        quotient, remainder = divmod(value, divisor)\n",
    "        if not remainder:\n",
    "            factors.extend(prime_factor(divisor))\n",
    "            factors.extend(prime_factor(quotient))\n",
    "            break\n",
    "    else:\n",
    "        factors = [value]\n",
    "    return factors\n",
    "\n",
    "if __name__ == '__main__':\n",
    "    pool = Pool()\n",
    "\n",
    "    to_factor = [\n",
    "        random.randint(100_000, 50_000_000) \n",
    "                for i in range(40)\n",
    "    ]\n",
    "    print(to_factor)\n",
    "    results = pool.map(prime_factor, to_factor)\n",
    "    for value, factors in zip(to_factor, results):\n",
    "        print(\"The factors of {} are {}\".format(value, factors))"
   ]
  },
  {
   "cell_type": "markdown",
   "metadata": {
    "slideshow": {
     "slide_type": "subslide"
    }
   },
   "source": [
    "## Lab: Multiprocessing Pool\n",
    "* write a program to compute 1!…48! using a multiprocessing pool\n",
    "* won't be much of a parallelism example, but it's easy to code\n",
    "* use previous example as a template"
   ]
  },
  {
   "cell_type": "markdown",
   "metadata": {
    "slideshow": {
     "slide_type": "subslide"
    }
   },
   "source": [
    "## Multiprocessing Issues/What Else\n",
    "* primary drawback: sharing data between processes is expensive since all communication between processes requires serialization (pickling) the data\n",
    "* what we didn't cover\n",
    " * futures: objects that wrap threading or multiprocessing depending on what kind of concurrency we need (I/O vs. CPU)\n",
    " * AsyncIO: current state of the art in Python concurrent programming"
   ]
  }
 ],
 "metadata": {
  "celltoolbar": "Slideshow",
  "kernelspec": {
   "display_name": "Python 3",
   "language": "python",
   "name": "python3"
  },
  "language_info": {
   "codemirror_mode": {
    "name": "ipython",
    "version": 3
   },
   "file_extension": ".py",
   "mimetype": "text/x-python",
   "name": "python",
   "nbconvert_exporter": "python",
   "pygments_lexer": "ipython3",
   "version": "3.6.0"
  }
 },
 "nbformat": 4,
 "nbformat_minor": 0
}
