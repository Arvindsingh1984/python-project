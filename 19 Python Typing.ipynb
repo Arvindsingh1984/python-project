{
 "cells": [
  {
   "cell_type": "markdown",
   "metadata": {
    "slideshow": {
     "slide_type": "slide"
    }
   },
   "source": [
    "# Python 3.6 Typing"
   ]
  },
  {
   "cell_type": "markdown",
   "metadata": {
    "slideshow": {
     "slide_type": "subslide"
    }
   },
   "source": [
    "* Python 3.6+ allows you to specify types when you declare variables\n",
    "* ...or when you return a value from a function\n",
    "* Python itself doesn't do anything with this information, but...\n",
    "* ...there is a static type checker called __`mypy`__ which will check types"
   ]
  },
  {
   "cell_type": "code",
   "execution_count": 40,
   "metadata": {
    "collapsed": true
   },
   "outputs": [],
   "source": [
    "# valid Python 3.6 code\n",
    "x: int = 1"
   ]
  },
  {
   "cell_type": "code",
   "execution_count": 41,
   "metadata": {
    "collapsed": false
   },
   "outputs": [
    {
     "data": {
      "text/plain": [
       "int"
      ]
     },
     "execution_count": 41,
     "metadata": {},
     "output_type": "execute_result"
    }
   ],
   "source": [
    "type(x)"
   ]
  },
  {
   "cell_type": "code",
   "execution_count": 42,
   "metadata": {
    "collapsed": false
   },
   "outputs": [],
   "source": [
    "# no checking done here\n",
    "x = 3.5"
   ]
  },
  {
   "cell_type": "code",
   "execution_count": 1,
   "metadata": {
    "collapsed": false
   },
   "outputs": [
    {
     "name": "stdout",
     "output_type": "stream",
     "text": [
      "     1\tx: int = 1\r\n",
      "     2\t\r\n",
      "     3\t# ...\r\n",
      "     4\t\r\n",
      "     5\tx = 3.5\r\n"
     ]
    }
   ],
   "source": [
    "!cat -n type1.py"
   ]
  },
  {
   "cell_type": "code",
   "execution_count": 2,
   "metadata": {
    "collapsed": false
   },
   "outputs": [
    {
     "name": "stdout",
     "output_type": "stream",
     "text": [
      "type1.py:5: error: Incompatible types in assignment (expression has type \"float\", variable has type \"int\")\r\n"
     ]
    }
   ],
   "source": [
    "!mypy type1.py"
   ]
  },
  {
   "cell_type": "code",
   "execution_count": 3,
   "metadata": {
    "collapsed": false,
    "slideshow": {
     "slide_type": "subslide"
    }
   },
   "outputs": [
    {
     "name": "stdout",
     "output_type": "stream",
     "text": [
      "from typing import List, Any\r\n",
      "\r\n",
      "def func(arg: int) -> List[int]:\r\n",
      "    '''This function takes an int and returns a list of ints'''\r\n",
      "    mylist: List[int] = []\r\n",
      "    x: int = 3.0 # oops!\r\n",
      "    mylist.append(x)\r\n",
      "\r\n",
      "    return mylist\r\n",
      "\r\n",
      "def otherfunc(arg: float) -> List[Any]:\r\n",
      "    '''This function takes a float and return any kind of list'''\r\n",
      "    return str(arg)\r\n"
     ]
    }
   ],
   "source": [
    "!cat type2.py"
   ]
  },
  {
   "cell_type": "code",
   "execution_count": 4,
   "metadata": {
    "collapsed": false
   },
   "outputs": [
    {
     "name": "stdout",
     "output_type": "stream",
     "text": [
      "type2.py:6: error: Incompatible types in assignment (expression has type \"float\", variable has type \"int\")\r\n",
      "type2.py:13: error: Incompatible return value type (got \"str\", expected List[Any])\r\n"
     ]
    }
   ],
   "source": [
    "!mypy type2.py"
   ]
  },
  {
   "cell_type": "code",
   "execution_count": 36,
   "metadata": {
    "collapsed": false,
    "slideshow": {
     "slide_type": "subslide"
    }
   },
   "outputs": [
    {
     "name": "stdout",
     "output_type": "stream",
     "text": [
      "from typing import Dict, List\r\n",
      "\r\n",
      "returned_from_outside_func = 3.1\r\n",
      "\r\n",
      "# dict where keys are strings and values are ints\r\n",
      "\r\n",
      "name_counts: Dict[str, int] = {\r\n",
      "    \"Marc Benioff\": 14,\r\n",
      "    \"Dave Wade-Stein\": 6\r\n",
      "}\r\n",
      "\r\n",
      "# list of integers\r\n",
      "\r\n",
      "val: int = 1\r\n",
      "numbers: List[int] = [1, 2, 3, 4, 5, 6]\r\n",
      "\r\n",
      "# list which holds dicts \r\n",
      "# each dict holds a string key / int value\r\n",
      "\r\n",
      "list_of_dicts: List[Dict[str, int]] = [\r\n",
      "    { \"key1\": 1, \"key2\": 2 },\r\n",
      "    { \"key\": val,\r\n",
      "      \"something\": returned_from_outside_func },\r\n",
      "]\r\n"
     ]
    }
   ],
   "source": [
    "!cat type3.py"
   ]
  },
  {
   "cell_type": "code",
   "execution_count": 37,
   "metadata": {
    "collapsed": false
   },
   "outputs": [
    {
     "name": "stdout",
     "output_type": "stream",
     "text": [
      "type3.py:22: error: Dict entry 1 has incompatible type \"str\": \"float\"\r\n"
     ]
    }
   ],
   "source": [
    "!mypy type3.py"
   ]
  },
  {
   "cell_type": "code",
   "execution_count": 38,
   "metadata": {
    "collapsed": false,
    "slideshow": {
     "slide_type": "subslide"
    }
   },
   "outputs": [
    {
     "name": "stdout",
     "output_type": "stream",
     "text": [
      "from typing import Tuple\r\n",
      "\r\n",
      "my_data: Tuple[str, int, float] = (\"Dave\", 10, 5.7)\r\n",
      "\r\n",
      "from typing import List\r\n",
      "\r\n",
      "# you can create aliases for types like this\r\n",
      "DeckOfCards = List[Tuple[str, str]]\r\n",
      "\r\n",
      "deck: DeckOfCards = [\r\n",
      "    ('3', 'spades'),\r\n",
      "    ('J', 'diamonds'),\r\n",
      "    ('A', 'clubs'),\r\n",
      "    (4, 'diamonds')\r\n",
      "]\r\n"
     ]
    }
   ],
   "source": [
    "!cat type4.py"
   ]
  },
  {
   "cell_type": "code",
   "execution_count": 45,
   "metadata": {
    "collapsed": false
   },
   "outputs": [
    {
     "name": "stdout",
     "output_type": "stream",
     "text": [
      "type4.py:10: error: List item 3 has incompatible type \"Tuple[int, str]\"\r\n"
     ]
    }
   ],
   "source": [
    "!mypy type4.py"
   ]
  },
  {
   "cell_type": "code",
   "execution_count": null,
   "metadata": {
    "collapsed": true
   },
   "outputs": [],
   "source": []
  }
 ],
 "metadata": {
  "celltoolbar": "Slideshow",
  "kernelspec": {
   "display_name": "Python 3",
   "language": "python",
   "name": "python3"
  },
  "language_info": {
   "codemirror_mode": {
    "name": "ipython",
    "version": 3
   },
   "file_extension": ".py",
   "mimetype": "text/x-python",
   "name": "python",
   "nbconvert_exporter": "python",
   "pygments_lexer": "ipython3",
   "version": "3.6.0"
  }
 },
 "nbformat": 4,
 "nbformat_minor": 2
}
